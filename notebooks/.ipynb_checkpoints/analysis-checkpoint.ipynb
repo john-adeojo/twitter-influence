{
 "cells": [
  {
   "cell_type": "code",
   "execution_count": 1,
   "id": "b5cfe6ee-52f8-4293-80e6-f9807e0587ea",
   "metadata": {
    "tags": []
   },
   "outputs": [],
   "source": [
    "import os\n",
    "import sys\n",
    "\n",
    "notebook_dir = os.path.dirname(os.path.abspath(\"__file__\"))\n",
    "project_dir = os.path.dirname(notebook_dir)\n",
    "\n",
    "if project_dir not in sys.path:\n",
    "    sys.path.append(project_dir)"
   ]
  },
  {
   "cell_type": "code",
   "execution_count": 2,
   "id": "8cfe78d6-83f0-4cad-aefd-e5acbfd392c4",
   "metadata": {
    "tags": []
   },
   "outputs": [],
   "source": [
    "import pandas as pd\n",
    "from sklearn.preprocessing import MinMaxScaler\n",
    "\n",
    "\n",
    "# Import Data\n",
    "import pandas as pd\n",
    "tweets_df = pd.read_csv(r\"C:\\Users\\johna\\anaconda3\\envs\\twitter-influence-env\\twitter-influence\\data\\01_raw\\top_accounts_details.csv\")\n",
    "tweets_df['date'] = pd.to_datetime(tweets_df['creation_date'], format='%a %b %d %H:%M:%S +0000 %Y')\n",
    "tweets_df['month_year'] = tweets_df['date'].apply(lambda x: x.strftime('%Y-%m'))\n",
    "tweets_df['date_day'] = tweets_df['date'].apply(lambda x: x.strftime('%Y-%m-%d'))\n",
    "\n",
    "# calculate per follower metrics \n",
    "tweets_df['favorite_count_pf'] = tweets_df['favorite_count']/ tweets_df['follower_count']\n",
    "tweets_df['retweet_count_pf'] = tweets_df['retweet_count']/ tweets_df['follower_count']\n",
    "tweets_df['quote_count_pf'] = tweets_df['quote_count']/ tweets_df['follower_count']\n",
    "tweets_df['reply_count_pf'] = tweets_df['reply_count']/ tweets_df['follower_count']\n",
    "\n",
    "scaler = MinMaxScaler()\n",
    "scaled_values = scaler.fit_transform(tweets_df[['favorite_count_pf', 'retweet_count_pf', 'quote_count_pf', 'reply_count_pf']])\n",
    "tweets_df[['favorite_count_pf', 'retweet_count_pf', 'quote_count_pf', 'reply_count_pf']] = scaled_values\n"
   ]
  },
  {
   "cell_type": "code",
   "execution_count": 3,
   "id": "f9151372-11d6-4e34-bbfd-033ab5c90766",
   "metadata": {
    "tags": []
   },
   "outputs": [
    {
     "data": {
      "text/plain": [
       "count            4108\n",
       "unique            399\n",
       "top       BBCBreaking\n",
       "freq              100\n",
       "Name: username, dtype: object"
      ]
     },
     "execution_count": 3,
     "metadata": {},
     "output_type": "execute_result"
    }
   ],
   "source": [
    "tweets_df['username'].describe()"
   ]
  },
  {
   "cell_type": "code",
   "execution_count": 4,
   "id": "7c142a4d-70a9-4a71-b4cc-c174e8daaedd",
   "metadata": {
    "tags": []
   },
   "outputs": [
    {
     "name": "stderr",
     "output_type": "stream",
     "text": [
      "C:\\Users\\johna\\anaconda3\\envs\\twitter-influence-env\\lib\\site-packages\\tqdm\\auto.py:21: TqdmWarning: IProgress not found. Please update jupyter and ipywidgets. See https://ipywidgets.readthedocs.io/en/stable/user_install.html\n",
      "  from .autonotebook import tqdm as notebook_tqdm\n",
      "Some weights of the model checkpoint at cardiffnlp/twitter-roberta-base-sentiment-latest were not used when initializing RobertaForSequenceClassification: ['roberta.pooler.dense.bias', 'roberta.pooler.dense.weight']\n",
      "- This IS expected if you are initializing RobertaForSequenceClassification from the checkpoint of a model trained on another task or with another architecture (e.g. initializing a BertForSequenceClassification model from a BertForPreTraining model).\n",
      "- This IS NOT expected if you are initializing RobertaForSequenceClassification from the checkpoint of a model that you expect to be exactly identical (initializing a BertForSequenceClassification model from a BertForSequenceClassification model).\n"
     ]
    }
   ],
   "source": [
    "from scripts.text_processing.sentiment_analysis import SentimentAnalyzer\n",
    "\n",
    "# sentiment analyser, specify model\n",
    "analyzer = SentimentAnalyzer('cardiffnlp/twitter-roberta-base-sentiment-latest')\n",
    "\n",
    "# Get sentiment analysis\n",
    "tweets_with_sentiment = analyzer.get_sentiment(tweets_df)\n"
   ]
  },
  {
   "cell_type": "code",
   "execution_count": 5,
   "id": "d3fc9e1a-56d5-4f78-aaee-0731dd48b275",
   "metadata": {
    "tags": []
   },
   "outputs": [
    {
     "name": "stderr",
     "output_type": "stream",
     "text": [
      "[nltk_data] Downloading package omw-1.4 to\n",
      "[nltk_data]     C:\\Users\\johna\\AppData\\Roaming\\nltk_data...\n",
      "[nltk_data]   Package omw-1.4 is already up-to-date!\n",
      "C:\\Users\\johna\\anaconda3\\envs\\twitter-influence-env\\lib\\site-packages\\sklearn\\feature_extraction\\text.py:404: UserWarning: Your stop_words may be inconsistent with your preprocessing. Tokenizing the stop words generated tokens ['le'] not in stop_words.\n",
      "  warnings.warn(\n"
     ]
    },
    {
     "data": {
      "text/html": [
       "<div>\n",
       "<style scoped>\n",
       "    .dataframe tbody tr th:only-of-type {\n",
       "        vertical-align: middle;\n",
       "    }\n",
       "\n",
       "    .dataframe tbody tr th {\n",
       "        vertical-align: top;\n",
       "    }\n",
       "\n",
       "    .dataframe thead th {\n",
       "        text-align: right;\n",
       "    }\n",
       "</style>\n",
       "<table border=\"1\" class=\"dataframe\">\n",
       "  <thead>\n",
       "    <tr style=\"text-align: right;\">\n",
       "      <th></th>\n",
       "      <th>tweet_id</th>\n",
       "      <th>creation_date</th>\n",
       "      <th>text</th>\n",
       "      <th>user_id</th>\n",
       "      <th>user_creation_date</th>\n",
       "      <th>username</th>\n",
       "      <th>name</th>\n",
       "      <th>follower_count</th>\n",
       "      <th>following_count</th>\n",
       "      <th>number_of_tweets</th>\n",
       "      <th>...</th>\n",
       "      <th>month_year</th>\n",
       "      <th>date_day</th>\n",
       "      <th>favorite_count_pf</th>\n",
       "      <th>retweet_count_pf</th>\n",
       "      <th>quote_count_pf</th>\n",
       "      <th>reply_count_pf</th>\n",
       "      <th>cleaned_text</th>\n",
       "      <th>sentiment</th>\n",
       "      <th>sentiment_score</th>\n",
       "      <th>topic</th>\n",
       "    </tr>\n",
       "  </thead>\n",
       "  <tbody>\n",
       "    <tr>\n",
       "      <th>0</th>\n",
       "      <td>1640814094822383617</td>\n",
       "      <td>Tue Mar 28 20:32:19 +0000 2023</td>\n",
       "      <td>Grateful to all the first responders and volun...</td>\n",
       "      <td>813286</td>\n",
       "      <td>Mon Mar 05 22:08:25 +0000 2007</td>\n",
       "      <td>BarackObama</td>\n",
       "      <td>Barack Obama</td>\n",
       "      <td>133042583</td>\n",
       "      <td>562683</td>\n",
       "      <td>16792</td>\n",
       "      <td>...</td>\n",
       "      <td>2023-03</td>\n",
       "      <td>2023-03-28</td>\n",
       "      <td>7.404985e-09</td>\n",
       "      <td>6.425725e-09</td>\n",
       "      <td>7.516390e-09</td>\n",
       "      <td>2.030744e-08</td>\n",
       "      <td>Grateful to all the first responders and volun...</td>\n",
       "      <td>positive</td>\n",
       "      <td>0.910717</td>\n",
       "      <td>vote year make family people</td>\n",
       "    </tr>\n",
       "    <tr>\n",
       "      <th>1</th>\n",
       "      <td>1640485381459025920</td>\n",
       "      <td>Mon Mar 27 22:46:08 +0000 2023</td>\n",
       "      <td>We are failing our children. Guns are now the ...</td>\n",
       "      <td>813286</td>\n",
       "      <td>Mon Mar 05 22:08:25 +0000 2007</td>\n",
       "      <td>BarackObama</td>\n",
       "      <td>Barack Obama</td>\n",
       "      <td>133042583</td>\n",
       "      <td>562683</td>\n",
       "      <td>16792</td>\n",
       "      <td>...</td>\n",
       "      <td>2023-03</td>\n",
       "      <td>2023-03-27</td>\n",
       "      <td>1.416231e-07</td>\n",
       "      <td>1.530085e-07</td>\n",
       "      <td>5.302692e-07</td>\n",
       "      <td>1.112228e-06</td>\n",
       "      <td>We are failing our children. Guns are now the ...</td>\n",
       "      <td>negative</td>\n",
       "      <td>0.916740</td>\n",
       "      <td>vote year make family people</td>\n",
       "    </tr>\n",
       "    <tr>\n",
       "      <th>2</th>\n",
       "      <td>1639039698675937281</td>\n",
       "      <td>Thu Mar 23 23:01:30 +0000 2023</td>\n",
       "      <td>I hope their stories inspire you to help us pr...</td>\n",
       "      <td>813286</td>\n",
       "      <td>Mon Mar 05 22:08:25 +0000 2007</td>\n",
       "      <td>BarackObama</td>\n",
       "      <td>Barack Obama</td>\n",
       "      <td>133042583</td>\n",
       "      <td>562683</td>\n",
       "      <td>16792</td>\n",
       "      <td>...</td>\n",
       "      <td>2023-03</td>\n",
       "      <td>2023-03-23</td>\n",
       "      <td>3.487225e-09</td>\n",
       "      <td>2.378438e-09</td>\n",
       "      <td>6.546534e-09</td>\n",
       "      <td>3.606549e-08</td>\n",
       "      <td>I hope their stories inspire you to help us pr...</td>\n",
       "      <td>positive</td>\n",
       "      <td>0.904411</td>\n",
       "      <td>vote year make family people</td>\n",
       "    </tr>\n",
       "    <tr>\n",
       "      <th>3</th>\n",
       "      <td>1639039601623851009</td>\n",
       "      <td>Thu Mar 23 23:01:07 +0000 2023</td>\n",
       "      <td>To celebrate the 13th anniversary of the Affor...</td>\n",
       "      <td>813286</td>\n",
       "      <td>Mon Mar 05 22:08:25 +0000 2007</td>\n",
       "      <td>BarackObama</td>\n",
       "      <td>Barack Obama</td>\n",
       "      <td>133042583</td>\n",
       "      <td>562683</td>\n",
       "      <td>16792</td>\n",
       "      <td>...</td>\n",
       "      <td>2023-03</td>\n",
       "      <td>2023-03-23</td>\n",
       "      <td>1.461037e-08</td>\n",
       "      <td>1.343620e-08</td>\n",
       "      <td>3.685456e-08</td>\n",
       "      <td>5.663666e-08</td>\n",
       "      <td>To celebrate the 13th anniversary of the Affor...</td>\n",
       "      <td>positive</td>\n",
       "      <td>0.968127</td>\n",
       "      <td>vote year make family people</td>\n",
       "    </tr>\n",
       "    <tr>\n",
       "      <th>4</th>\n",
       "      <td>1638956751910215711</td>\n",
       "      <td>Thu Mar 23 17:31:54 +0000 2023</td>\n",
       "      <td>I know so many of you have a story of how acce...</td>\n",
       "      <td>813286</td>\n",
       "      <td>Mon Mar 05 22:08:25 +0000 2007</td>\n",
       "      <td>BarackObama</td>\n",
       "      <td>Barack Obama</td>\n",
       "      <td>133042583</td>\n",
       "      <td>562683</td>\n",
       "      <td>16792</td>\n",
       "      <td>...</td>\n",
       "      <td>2023-03</td>\n",
       "      <td>2023-03-23</td>\n",
       "      <td>5.222133e-09</td>\n",
       "      <td>4.211544e-09</td>\n",
       "      <td>8.001319e-09</td>\n",
       "      <td>2.096677e-08</td>\n",
       "      <td>I know so many of you have a story of how acce...</td>\n",
       "      <td>positive</td>\n",
       "      <td>0.904533</td>\n",
       "      <td>vote year make family people</td>\n",
       "    </tr>\n",
       "  </tbody>\n",
       "</table>\n",
       "<p>5 rows × 32 columns</p>\n",
       "</div>"
      ],
      "text/plain": [
       "              tweet_id                   creation_date  \\\n",
       "0  1640814094822383617  Tue Mar 28 20:32:19 +0000 2023   \n",
       "1  1640485381459025920  Mon Mar 27 22:46:08 +0000 2023   \n",
       "2  1639039698675937281  Thu Mar 23 23:01:30 +0000 2023   \n",
       "3  1639039601623851009  Thu Mar 23 23:01:07 +0000 2023   \n",
       "4  1638956751910215711  Thu Mar 23 17:31:54 +0000 2023   \n",
       "\n",
       "                                                text  user_id  \\\n",
       "0  Grateful to all the first responders and volun...   813286   \n",
       "1  We are failing our children. Guns are now the ...   813286   \n",
       "2  I hope their stories inspire you to help us pr...   813286   \n",
       "3  To celebrate the 13th anniversary of the Affor...   813286   \n",
       "4  I know so many of you have a story of how acce...   813286   \n",
       "\n",
       "               user_creation_date     username          name  follower_count  \\\n",
       "0  Mon Mar 05 22:08:25 +0000 2007  BarackObama  Barack Obama       133042583   \n",
       "1  Mon Mar 05 22:08:25 +0000 2007  BarackObama  Barack Obama       133042583   \n",
       "2  Mon Mar 05 22:08:25 +0000 2007  BarackObama  Barack Obama       133042583   \n",
       "3  Mon Mar 05 22:08:25 +0000 2007  BarackObama  Barack Obama       133042583   \n",
       "4  Mon Mar 05 22:08:25 +0000 2007  BarackObama  Barack Obama       133042583   \n",
       "\n",
       "   following_count  number_of_tweets  ...  month_year    date_day  \\\n",
       "0           562683             16792  ...     2023-03  2023-03-28   \n",
       "1           562683             16792  ...     2023-03  2023-03-27   \n",
       "2           562683             16792  ...     2023-03  2023-03-23   \n",
       "3           562683             16792  ...     2023-03  2023-03-23   \n",
       "4           562683             16792  ...     2023-03  2023-03-23   \n",
       "\n",
       "  favorite_count_pf  retweet_count_pf  quote_count_pf  reply_count_pf  \\\n",
       "0      7.404985e-09      6.425725e-09    7.516390e-09    2.030744e-08   \n",
       "1      1.416231e-07      1.530085e-07    5.302692e-07    1.112228e-06   \n",
       "2      3.487225e-09      2.378438e-09    6.546534e-09    3.606549e-08   \n",
       "3      1.461037e-08      1.343620e-08    3.685456e-08    5.663666e-08   \n",
       "4      5.222133e-09      4.211544e-09    8.001319e-09    2.096677e-08   \n",
       "\n",
       "                                        cleaned_text  sentiment  \\\n",
       "0  Grateful to all the first responders and volun...   positive   \n",
       "1  We are failing our children. Guns are now the ...   negative   \n",
       "2  I hope their stories inspire you to help us pr...   positive   \n",
       "3  To celebrate the 13th anniversary of the Affor...   positive   \n",
       "4  I know so many of you have a story of how acce...   positive   \n",
       "\n",
       "   sentiment_score                         topic  \n",
       "0         0.910717  vote year make family people  \n",
       "1         0.916740  vote year make family people  \n",
       "2         0.904411  vote year make family people  \n",
       "3         0.968127  vote year make family people  \n",
       "4         0.904533  vote year make family people  \n",
       "\n",
       "[5 rows x 32 columns]"
      ]
     },
     "execution_count": 5,
     "metadata": {},
     "output_type": "execute_result"
    }
   ],
   "source": [
    "# Get topics \n",
    "from scripts.topics.tfidf import ClusterBasedTFIDF\n",
    "\n",
    "tfidf_processor = ClusterBasedTFIDF(text_col='text', cluster_col='user_id', n_topics=1, n_words=5)\n",
    "tweets_with_topics = tfidf_processor.fit_transform(tweets_with_sentiment)\n",
    "tweets_with_topics.head()"
   ]
  },
  {
   "cell_type": "code",
   "execution_count": 6,
   "id": "059c9917-d4a8-4951-9f30-1d8944992614",
   "metadata": {
    "tags": []
   },
   "outputs": [],
   "source": [
    "tweets_with_sentiment['sentiment_mode'] = tweets_with_sentiment['sentiment']\n",
    "\n",
    "influence_metrics = tweets_with_sentiment.groupby('user_id').agg(\n",
    "    {\n",
    "        'name': [lambda x: x.mode().iloc[0] if not x.mode().empty else None],\n",
    "        'favorite_count_pf': ['mean'],\n",
    "        'retweet_count_pf': ['mean'],\n",
    "        'quote_count_pf': ['mean'],\n",
    "        'reply_count_pf': ['mean'],\n",
    "        'tweet_id': ['count'],\n",
    "        'sentiment': [lambda x: round(x.value_counts(normalize=True), 2).to_dict()], \n",
    "        'sentiment_mode': [lambda x: x.mode().iloc[0] if not x.mode().empty else None],\n",
    "        'follower_count': ['mean'],\n",
    "        'date_day': [lambda x: x.nunique()]\n",
    "\n",
    "\n",
    "\n",
    "    }\n",
    ")\n",
    "\n",
    "# Calculate the average daily tweets\n",
    "influence_metrics['avg_daily_tweets'] = influence_metrics[('tweet_id', 'count')] / influence_metrics[('date_day', '<lambda>')]\n",
    "\n",
    "\n",
    "\n",
    "# Flatten the MultiIndex columns\n",
    "influence_metrics.columns = ['_'.join(col).strip() for col in influence_metrics.columns.values]\n",
    "\n",
    "# Reset the index to move the 'username' back to a column\n",
    "influence_metrics.reset_index(inplace=True)\n",
    "influence_metrics_final = influence_metrics.merge(tweets_with_topics[['user_id', 'topic']].drop_duplicates(), on='user_id')\n",
    "\n",
    "influence_metrics_final.rename(columns={'name_<lambda>':'name'}, inplace=True)"
   ]
  },
  {
   "cell_type": "code",
   "execution_count": 8,
   "id": "e600352c-ef72-46fe-981b-3489e172de56",
   "metadata": {
    "tags": []
   },
   "outputs": [],
   "source": [
    "from scripts.clustering.cluster import ClusterAnalysis"
   ]
  },
  {
   "cell_type": "code",
   "execution_count": 45,
   "id": "3de62f9b-9b15-4208-8b78-c578f60e3947",
   "metadata": {
    "tags": []
   },
   "outputs": [
    {
     "data": {
      "application/vnd.plotly.v1+json": {
       "config": {
        "plotlyServerURL": "https://plot.ly"
       },
       "data": [
        {
         "hovertext": [
          "Lady Gaga",
          "Demi Lovato",
          "KATY PERRY",
          "Justin Timberlake",
          "Bruno Mars",
          "Shah Rukh Khan",
          "Kylie Jenner"
         ],
         "marker": {
          "opacity": 0.4,
          "size": 6
         },
         "mode": "markers",
         "name": "Cluster 0",
         "text": [
          "Lady Gaga",
          "Demi Lovato",
          "KATY PERRY",
          "Justin Timberlake",
          "Bruno Mars",
          "Shah Rukh Khan",
          "Kylie Jenner"
         ],
         "textfont": {
          "color": "black",
          "size": 10
         },
         "textposition": "top center",
         "type": "scatter",
         "x": [
          4.263428211212158,
          3.7137532234191895,
          3.551089286804199,
          3.8283681869506836,
          4.677074432373047,
          4.929203033447266,
          4.308828353881836
         ],
         "y": [
          28.099071502685547,
          28.29892349243164,
          28.458913803100586,
          28.231969833374023,
          28.06342315673828,
          28.277376174926758,
          27.94605827331543
         ]
        },
        {
         "hovertext": [
          "Jimmy Fallon",
          "LeBron James",
          "Selena Gomez",
          "Donald J. Trump",
          "Drizzy",
          "Elon Musk",
          "jlo",
          "방탄소년단"
         ],
         "marker": {
          "opacity": 0.4,
          "size": 6
         },
         "mode": "markers",
         "name": "Cluster 1",
         "text": [
          "Jimmy Fallon",
          "LeBron James",
          "Selena Gomez",
          "Donald J. Trump",
          "Drizzy",
          "Elon Musk",
          "jlo",
          "방탄소년단"
         ],
         "textfont": {
          "color": "black",
          "size": 10
         },
         "textposition": "top center",
         "type": "scatter",
         "x": [
          12.726067543029785,
          12.433365821838379,
          12.609184265136719,
          12.422904968261719,
          12.514208793640137,
          12.479452133178711,
          12.426776885986328,
          12.735701560974121
         ],
         "y": [
          -0.4335557520389557,
          0.7883626222610474,
          -0.36966678500175476,
          1.1658868789672852,
          1.280689001083374,
          0.2046116143465042,
          -0.11671832948923111,
          0.942101001739502
         ]
        },
        {
         "hovertext": [
          "Taylor Swift",
          "Oprah Winfrey",
          "Shakira",
          "Bill Gates",
          "Neymar Jr"
         ],
         "marker": {
          "opacity": 0.4,
          "size": 6
         },
         "mode": "markers",
         "name": "Cluster 2",
         "text": [
          "Taylor Swift",
          "Oprah Winfrey",
          "Shakira",
          "Bill Gates",
          "Neymar Jr"
         ],
         "textfont": {
          "color": "black",
          "size": 10
         },
         "textposition": "top center",
         "type": "scatter",
         "x": [
          7.808593273162842,
          7.835328102111816,
          7.47183084487915,
          7.992168426513672,
          7.479966640472412
         ],
         "y": [
          -2.5529839992523193,
          -3.1833510398864746,
          -2.623469114303589,
          -2.922908067703247,
          -2.878312110900879
         ]
        },
        {
         "hovertext": [
          "Twitter",
          "Barack Obama",
          "YouTube",
          "Britney Spears 🌹🚀",
          "Narendra Modi",
          "Kim Kardashian",
          "Justin Bieber",
          "Akshay Kumar",
          "Virat Kohli",
          "Rihanna",
          "Niall Horan",
          "Salman Khan",
          "Amitabh Bachchan",
          "Cristiano Ronaldo",
          "Miley Cyrus",
          "BTS_official"
         ],
         "marker": {
          "opacity": 0.4,
          "size": 6
         },
         "mode": "markers",
         "name": "Cluster 3",
         "text": [
          "Twitter",
          "Barack Obama",
          "YouTube",
          "Britney Spears 🌹🚀",
          "Narendra Modi",
          "Kim Kardashian",
          "Justin Bieber",
          "Akshay Kumar",
          "Virat Kohli",
          "Rihanna",
          "Niall Horan",
          "Salman Khan",
          "Amitabh Bachchan",
          "Cristiano Ronaldo",
          "Miley Cyrus",
          "BTS_official"
         ],
         "textfont": {
          "color": "black",
          "size": 10
         },
         "textposition": "top center",
         "type": "scatter",
         "x": [
          -0.997728168964386,
          2.0384600162506104,
          -0.9857969284057617,
          0.16884851455688477,
          2.2935516834259033,
          1.3908771276474,
          1.0175853967666626,
          0.5136417150497437,
          0.8051867485046387,
          -0.13238565623760223,
          -0.48386824131011963,
          0.3490753769874573,
          1.9671183824539185,
          0.3679022789001465,
          1.0924327373504639,
          -0.7064441442489624
         ],
         "y": [
          3.937252998352051,
          5.517236709594727,
          4.249383926391602,
          3.4352951049804688,
          5.707037925720215,
          5.774773597717285,
          5.383541584014893,
          4.7192254066467285,
          5.080163478851318,
          3.757368564605713,
          4.248327255249023,
          4.444626331329346,
          5.912960529327393,
          3.7531843185424805,
          5.647970676422119,
          4.012775421142578
         ]
        },
        {
         "hovertext": [
          "CNN Breaking News",
          "CNN",
          "The New York Times",
          "ESPN",
          "BBC Breaking News",
          "NASA",
          "Real Madrid C.F.",
          "Ellen DeGeneres",
          "NBA",
          "SportsCenter",
          "FC Barcelona",
          "Premier League",
          "PMO India",
          "UEFA Champions League"
         ],
         "marker": {
          "opacity": 0.4,
          "size": 6
         },
         "mode": "markers",
         "name": "Cluster 4",
         "text": [
          "CNN Breaking News",
          "CNN",
          "The New York Times",
          "ESPN",
          "BBC Breaking News",
          "NASA",
          "Real Madrid C.F.",
          "Ellen DeGeneres",
          "NBA",
          "SportsCenter",
          "FC Barcelona",
          "Premier League",
          "PMO India",
          "UEFA Champions League"
         ],
         "textfont": {
          "color": "black",
          "size": 10
         },
         "textposition": "top center",
         "type": "scatter",
         "x": [
          8.049178123474121,
          8.595532417297363,
          9.03992748260498,
          6.606988430023193,
          6.401784420013428,
          7.63162899017334,
          6.68411111831665,
          9.126583099365234,
          8.953764915466309,
          6.108787536621094,
          7.108424186706543,
          7.484809875488281,
          7.3726325035095215,
          6.39222526550293
         ],
         "y": [
          13.529075622558594,
          13.558485984802246,
          13.633769035339355,
          15.85467529296875,
          15.837629318237305,
          13.649299621582031,
          14.81939697265625,
          13.285374641418457,
          13.368559837341309,
          15.646674156188965,
          14.475496292114258,
          14.15613842010498,
          13.625988960266113,
          15.372611045837402
         ]
        }
       ],
       "layout": {
        "height": 500,
        "showlegend": true,
        "template": {
         "data": {
          "bar": [
           {
            "error_x": {
             "color": "#2a3f5f"
            },
            "error_y": {
             "color": "#2a3f5f"
            },
            "marker": {
             "line": {
              "color": "#E5ECF6",
              "width": 0.5
             },
             "pattern": {
              "fillmode": "overlay",
              "size": 10,
              "solidity": 0.2
             }
            },
            "type": "bar"
           }
          ],
          "barpolar": [
           {
            "marker": {
             "line": {
              "color": "#E5ECF6",
              "width": 0.5
             },
             "pattern": {
              "fillmode": "overlay",
              "size": 10,
              "solidity": 0.2
             }
            },
            "type": "barpolar"
           }
          ],
          "carpet": [
           {
            "aaxis": {
             "endlinecolor": "#2a3f5f",
             "gridcolor": "white",
             "linecolor": "white",
             "minorgridcolor": "white",
             "startlinecolor": "#2a3f5f"
            },
            "baxis": {
             "endlinecolor": "#2a3f5f",
             "gridcolor": "white",
             "linecolor": "white",
             "minorgridcolor": "white",
             "startlinecolor": "#2a3f5f"
            },
            "type": "carpet"
           }
          ],
          "choropleth": [
           {
            "colorbar": {
             "outlinewidth": 0,
             "ticks": ""
            },
            "type": "choropleth"
           }
          ],
          "contour": [
           {
            "colorbar": {
             "outlinewidth": 0,
             "ticks": ""
            },
            "colorscale": [
             [
              0,
              "#0d0887"
             ],
             [
              0.1111111111111111,
              "#46039f"
             ],
             [
              0.2222222222222222,
              "#7201a8"
             ],
             [
              0.3333333333333333,
              "#9c179e"
             ],
             [
              0.4444444444444444,
              "#bd3786"
             ],
             [
              0.5555555555555556,
              "#d8576b"
             ],
             [
              0.6666666666666666,
              "#ed7953"
             ],
             [
              0.7777777777777778,
              "#fb9f3a"
             ],
             [
              0.8888888888888888,
              "#fdca26"
             ],
             [
              1,
              "#f0f921"
             ]
            ],
            "type": "contour"
           }
          ],
          "contourcarpet": [
           {
            "colorbar": {
             "outlinewidth": 0,
             "ticks": ""
            },
            "type": "contourcarpet"
           }
          ],
          "heatmap": [
           {
            "colorbar": {
             "outlinewidth": 0,
             "ticks": ""
            },
            "colorscale": [
             [
              0,
              "#0d0887"
             ],
             [
              0.1111111111111111,
              "#46039f"
             ],
             [
              0.2222222222222222,
              "#7201a8"
             ],
             [
              0.3333333333333333,
              "#9c179e"
             ],
             [
              0.4444444444444444,
              "#bd3786"
             ],
             [
              0.5555555555555556,
              "#d8576b"
             ],
             [
              0.6666666666666666,
              "#ed7953"
             ],
             [
              0.7777777777777778,
              "#fb9f3a"
             ],
             [
              0.8888888888888888,
              "#fdca26"
             ],
             [
              1,
              "#f0f921"
             ]
            ],
            "type": "heatmap"
           }
          ],
          "heatmapgl": [
           {
            "colorbar": {
             "outlinewidth": 0,
             "ticks": ""
            },
            "colorscale": [
             [
              0,
              "#0d0887"
             ],
             [
              0.1111111111111111,
              "#46039f"
             ],
             [
              0.2222222222222222,
              "#7201a8"
             ],
             [
              0.3333333333333333,
              "#9c179e"
             ],
             [
              0.4444444444444444,
              "#bd3786"
             ],
             [
              0.5555555555555556,
              "#d8576b"
             ],
             [
              0.6666666666666666,
              "#ed7953"
             ],
             [
              0.7777777777777778,
              "#fb9f3a"
             ],
             [
              0.8888888888888888,
              "#fdca26"
             ],
             [
              1,
              "#f0f921"
             ]
            ],
            "type": "heatmapgl"
           }
          ],
          "histogram": [
           {
            "marker": {
             "pattern": {
              "fillmode": "overlay",
              "size": 10,
              "solidity": 0.2
             }
            },
            "type": "histogram"
           }
          ],
          "histogram2d": [
           {
            "colorbar": {
             "outlinewidth": 0,
             "ticks": ""
            },
            "colorscale": [
             [
              0,
              "#0d0887"
             ],
             [
              0.1111111111111111,
              "#46039f"
             ],
             [
              0.2222222222222222,
              "#7201a8"
             ],
             [
              0.3333333333333333,
              "#9c179e"
             ],
             [
              0.4444444444444444,
              "#bd3786"
             ],
             [
              0.5555555555555556,
              "#d8576b"
             ],
             [
              0.6666666666666666,
              "#ed7953"
             ],
             [
              0.7777777777777778,
              "#fb9f3a"
             ],
             [
              0.8888888888888888,
              "#fdca26"
             ],
             [
              1,
              "#f0f921"
             ]
            ],
            "type": "histogram2d"
           }
          ],
          "histogram2dcontour": [
           {
            "colorbar": {
             "outlinewidth": 0,
             "ticks": ""
            },
            "colorscale": [
             [
              0,
              "#0d0887"
             ],
             [
              0.1111111111111111,
              "#46039f"
             ],
             [
              0.2222222222222222,
              "#7201a8"
             ],
             [
              0.3333333333333333,
              "#9c179e"
             ],
             [
              0.4444444444444444,
              "#bd3786"
             ],
             [
              0.5555555555555556,
              "#d8576b"
             ],
             [
              0.6666666666666666,
              "#ed7953"
             ],
             [
              0.7777777777777778,
              "#fb9f3a"
             ],
             [
              0.8888888888888888,
              "#fdca26"
             ],
             [
              1,
              "#f0f921"
             ]
            ],
            "type": "histogram2dcontour"
           }
          ],
          "mesh3d": [
           {
            "colorbar": {
             "outlinewidth": 0,
             "ticks": ""
            },
            "type": "mesh3d"
           }
          ],
          "parcoords": [
           {
            "line": {
             "colorbar": {
              "outlinewidth": 0,
              "ticks": ""
             }
            },
            "type": "parcoords"
           }
          ],
          "pie": [
           {
            "automargin": true,
            "type": "pie"
           }
          ],
          "scatter": [
           {
            "fillpattern": {
             "fillmode": "overlay",
             "size": 10,
             "solidity": 0.2
            },
            "type": "scatter"
           }
          ],
          "scatter3d": [
           {
            "line": {
             "colorbar": {
              "outlinewidth": 0,
              "ticks": ""
             }
            },
            "marker": {
             "colorbar": {
              "outlinewidth": 0,
              "ticks": ""
             }
            },
            "type": "scatter3d"
           }
          ],
          "scattercarpet": [
           {
            "marker": {
             "colorbar": {
              "outlinewidth": 0,
              "ticks": ""
             }
            },
            "type": "scattercarpet"
           }
          ],
          "scattergeo": [
           {
            "marker": {
             "colorbar": {
              "outlinewidth": 0,
              "ticks": ""
             }
            },
            "type": "scattergeo"
           }
          ],
          "scattergl": [
           {
            "marker": {
             "colorbar": {
              "outlinewidth": 0,
              "ticks": ""
             }
            },
            "type": "scattergl"
           }
          ],
          "scattermapbox": [
           {
            "marker": {
             "colorbar": {
              "outlinewidth": 0,
              "ticks": ""
             }
            },
            "type": "scattermapbox"
           }
          ],
          "scatterpolar": [
           {
            "marker": {
             "colorbar": {
              "outlinewidth": 0,
              "ticks": ""
             }
            },
            "type": "scatterpolar"
           }
          ],
          "scatterpolargl": [
           {
            "marker": {
             "colorbar": {
              "outlinewidth": 0,
              "ticks": ""
             }
            },
            "type": "scatterpolargl"
           }
          ],
          "scatterternary": [
           {
            "marker": {
             "colorbar": {
              "outlinewidth": 0,
              "ticks": ""
             }
            },
            "type": "scatterternary"
           }
          ],
          "surface": [
           {
            "colorbar": {
             "outlinewidth": 0,
             "ticks": ""
            },
            "colorscale": [
             [
              0,
              "#0d0887"
             ],
             [
              0.1111111111111111,
              "#46039f"
             ],
             [
              0.2222222222222222,
              "#7201a8"
             ],
             [
              0.3333333333333333,
              "#9c179e"
             ],
             [
              0.4444444444444444,
              "#bd3786"
             ],
             [
              0.5555555555555556,
              "#d8576b"
             ],
             [
              0.6666666666666666,
              "#ed7953"
             ],
             [
              0.7777777777777778,
              "#fb9f3a"
             ],
             [
              0.8888888888888888,
              "#fdca26"
             ],
             [
              1,
              "#f0f921"
             ]
            ],
            "type": "surface"
           }
          ],
          "table": [
           {
            "cells": {
             "fill": {
              "color": "#EBF0F8"
             },
             "line": {
              "color": "white"
             }
            },
            "header": {
             "fill": {
              "color": "#C8D4E3"
             },
             "line": {
              "color": "white"
             }
            },
            "type": "table"
           }
          ]
         },
         "layout": {
          "annotationdefaults": {
           "arrowcolor": "#2a3f5f",
           "arrowhead": 0,
           "arrowwidth": 1
          },
          "autotypenumbers": "strict",
          "coloraxis": {
           "colorbar": {
            "outlinewidth": 0,
            "ticks": ""
           }
          },
          "colorscale": {
           "diverging": [
            [
             0,
             "#8e0152"
            ],
            [
             0.1,
             "#c51b7d"
            ],
            [
             0.2,
             "#de77ae"
            ],
            [
             0.3,
             "#f1b6da"
            ],
            [
             0.4,
             "#fde0ef"
            ],
            [
             0.5,
             "#f7f7f7"
            ],
            [
             0.6,
             "#e6f5d0"
            ],
            [
             0.7,
             "#b8e186"
            ],
            [
             0.8,
             "#7fbc41"
            ],
            [
             0.9,
             "#4d9221"
            ],
            [
             1,
             "#276419"
            ]
           ],
           "sequential": [
            [
             0,
             "#0d0887"
            ],
            [
             0.1111111111111111,
             "#46039f"
            ],
            [
             0.2222222222222222,
             "#7201a8"
            ],
            [
             0.3333333333333333,
             "#9c179e"
            ],
            [
             0.4444444444444444,
             "#bd3786"
            ],
            [
             0.5555555555555556,
             "#d8576b"
            ],
            [
             0.6666666666666666,
             "#ed7953"
            ],
            [
             0.7777777777777778,
             "#fb9f3a"
            ],
            [
             0.8888888888888888,
             "#fdca26"
            ],
            [
             1,
             "#f0f921"
            ]
           ],
           "sequentialminus": [
            [
             0,
             "#0d0887"
            ],
            [
             0.1111111111111111,
             "#46039f"
            ],
            [
             0.2222222222222222,
             "#7201a8"
            ],
            [
             0.3333333333333333,
             "#9c179e"
            ],
            [
             0.4444444444444444,
             "#bd3786"
            ],
            [
             0.5555555555555556,
             "#d8576b"
            ],
            [
             0.6666666666666666,
             "#ed7953"
            ],
            [
             0.7777777777777778,
             "#fb9f3a"
            ],
            [
             0.8888888888888888,
             "#fdca26"
            ],
            [
             1,
             "#f0f921"
            ]
           ]
          },
          "colorway": [
           "#636efa",
           "#EF553B",
           "#00cc96",
           "#ab63fa",
           "#FFA15A",
           "#19d3f3",
           "#FF6692",
           "#B6E880",
           "#FF97FF",
           "#FECB52"
          ],
          "font": {
           "color": "#2a3f5f"
          },
          "geo": {
           "bgcolor": "white",
           "lakecolor": "white",
           "landcolor": "#E5ECF6",
           "showlakes": true,
           "showland": true,
           "subunitcolor": "white"
          },
          "hoverlabel": {
           "align": "left"
          },
          "hovermode": "closest",
          "mapbox": {
           "style": "light"
          },
          "paper_bgcolor": "white",
          "plot_bgcolor": "#E5ECF6",
          "polar": {
           "angularaxis": {
            "gridcolor": "white",
            "linecolor": "white",
            "ticks": ""
           },
           "bgcolor": "#E5ECF6",
           "radialaxis": {
            "gridcolor": "white",
            "linecolor": "white",
            "ticks": ""
           }
          },
          "scene": {
           "xaxis": {
            "backgroundcolor": "#E5ECF6",
            "gridcolor": "white",
            "gridwidth": 2,
            "linecolor": "white",
            "showbackground": true,
            "ticks": "",
            "zerolinecolor": "white"
           },
           "yaxis": {
            "backgroundcolor": "#E5ECF6",
            "gridcolor": "white",
            "gridwidth": 2,
            "linecolor": "white",
            "showbackground": true,
            "ticks": "",
            "zerolinecolor": "white"
           },
           "zaxis": {
            "backgroundcolor": "#E5ECF6",
            "gridcolor": "white",
            "gridwidth": 2,
            "linecolor": "white",
            "showbackground": true,
            "ticks": "",
            "zerolinecolor": "white"
           }
          },
          "shapedefaults": {
           "line": {
            "color": "#2a3f5f"
           }
          },
          "ternary": {
           "aaxis": {
            "gridcolor": "white",
            "linecolor": "white",
            "ticks": ""
           },
           "baxis": {
            "gridcolor": "white",
            "linecolor": "white",
            "ticks": ""
           },
           "bgcolor": "#E5ECF6",
           "caxis": {
            "gridcolor": "white",
            "linecolor": "white",
            "ticks": ""
           }
          },
          "title": {
           "x": 0.05
          },
          "xaxis": {
           "automargin": true,
           "gridcolor": "white",
           "linecolor": "white",
           "ticks": "",
           "title": {
            "standoff": 15
           },
           "zerolinecolor": "white",
           "zerolinewidth": 2
          },
          "yaxis": {
           "automargin": true,
           "gridcolor": "white",
           "linecolor": "white",
           "ticks": "",
           "title": {
            "standoff": 15
           },
           "zerolinecolor": "white",
           "zerolinewidth": 2
          }
         }
        },
        "width": 500,
        "xaxis": {
         "autorange": true,
         "range": [
          -1.9772028205320777,
          13.715176212541813
         ],
         "type": "linear"
        },
        "yaxis": {
         "autorange": true,
         "range": [
          -5.411282343447953,
          30.686845106662062
         ],
         "type": "linear"
        }
       }
      },
      "image/png": "[encoded data removed]",
      "text/html": [
       "<div>                            <div id=\"f23d5ada-c395-41f3-8354-3b9077fb89fb\" class=\"plotly-graph-div\" style=\"height:500px; width:500px;\"></div>            <script type=\"text/javascript\">                require([\"plotly\"], function(Plotly) {                    window.PLOTLYENV=window.PLOTLYENV || {};                                    if (document.getElementById(\"f23d5ada-c395-41f3-8354-3b9077fb89fb\")) {                    Plotly.newPlot(                        \"f23d5ada-c395-41f3-8354-3b9077fb89fb\",                        [{\"hovertext\":[\"Lady Gaga\",\"Demi Lovato\",\"KATY PERRY\",\"Justin Timberlake\",\"Bruno Mars\",\"Shah Rukh Khan\",\"Kylie Jenner\"],\"marker\":{\"opacity\":0.4,\"size\":6},\"mode\":\"markers\",\"name\":\"Cluster 0\",\"text\":[\"Lady Gaga\",\"Demi Lovato\",\"KATY PERRY\",\"Justin Timberlake\",\"Bruno Mars\",\"Shah Rukh Khan\",\"Kylie Jenner\"],\"textfont\":{\"color\":\"black\",\"size\":10},\"textposition\":\"top center\",\"x\":[4.263428211212158,3.7137532234191895,3.551089286804199,3.8283681869506836,4.677074432373047,4.929203033447266,4.308828353881836],\"y\":[28.099071502685547,28.29892349243164,28.458913803100586,28.231969833374023,28.06342315673828,28.277376174926758,27.94605827331543],\"type\":\"scatter\"},{\"hovertext\":[\"Jimmy Fallon\",\"LeBron James\",\"Selena Gomez\",\"Donald J. Trump\",\"Drizzy\",\"Elon Musk\",\"jlo\",\"\\ubc29\\ud0c4\\uc18c\\ub144\\ub2e8\"],\"marker\":{\"opacity\":0.4,\"size\":6},\"mode\":\"markers\",\"name\":\"Cluster 1\",\"text\":[\"Jimmy Fallon\",\"LeBron James\",\"Selena Gomez\",\"Donald J. Trump\",\"Drizzy\",\"Elon Musk\",\"jlo\",\"\\ubc29\\ud0c4\\uc18c\\ub144\\ub2e8\"],\"textfont\":{\"color\":\"black\",\"size\":10},\"textposition\":\"top center\",\"x\":[12.726067543029785,12.433365821838379,12.609184265136719,12.422904968261719,12.514208793640137,12.479452133178711,12.426776885986328,12.735701560974121],\"y\":[-0.4335557520389557,0.7883626222610474,-0.36966678500175476,1.1658868789672852,1.280689001083374,0.2046116143465042,-0.11671832948923111,0.942101001739502],\"type\":\"scatter\"},{\"hovertext\":[\"Taylor Swift\",\"Oprah Winfrey\",\"Shakira\",\"Bill Gates\",\"Neymar Jr\"],\"marker\":{\"opacity\":0.4,\"size\":6},\"mode\":\"markers\",\"name\":\"Cluster 2\",\"text\":[\"Taylor Swift\",\"Oprah Winfrey\",\"Shakira\",\"Bill Gates\",\"Neymar Jr\"],\"textfont\":{\"color\":\"black\",\"size\":10},\"textposition\":\"top center\",\"x\":[7.808593273162842,7.835328102111816,7.47183084487915,7.992168426513672,7.479966640472412],\"y\":[-2.5529839992523193,-3.1833510398864746,-2.623469114303589,-2.922908067703247,-2.878312110900879],\"type\":\"scatter\"},{\"hovertext\":[\"Twitter\",\"Barack Obama\",\"YouTube\",\"Britney Spears \\ud83c\\udf39\\ud83d\\ude80\",\"Narendra Modi\",\"Kim Kardashian\",\"Justin Bieber\",\"Akshay Kumar\",\"Virat Kohli\",\"Rihanna\",\"Niall Horan\",\"Salman Khan\",\"Amitabh Bachchan\",\"Cristiano Ronaldo\",\"Miley Cyrus\",\"BTS_official\"],\"marker\":{\"opacity\":0.4,\"size\":6},\"mode\":\"markers\",\"name\":\"Cluster 3\",\"text\":[\"Twitter\",\"Barack Obama\",\"YouTube\",\"Britney Spears \\ud83c\\udf39\\ud83d\\ude80\",\"Narendra Modi\",\"Kim Kardashian\",\"Justin Bieber\",\"Akshay Kumar\",\"Virat Kohli\",\"Rihanna\",\"Niall Horan\",\"Salman Khan\",\"Amitabh Bachchan\",\"Cristiano Ronaldo\",\"Miley Cyrus\",\"BTS_official\"],\"textfont\":{\"color\":\"black\",\"size\":10},\"textposition\":\"top center\",\"x\":[-0.997728168964386,2.0384600162506104,-0.9857969284057617,0.16884851455688477,2.2935516834259033,1.3908771276474,1.0175853967666626,0.5136417150497437,0.8051867485046387,-0.13238565623760223,-0.48386824131011963,0.3490753769874573,1.9671183824539185,0.3679022789001465,1.0924327373504639,-0.7064441442489624],\"y\":[3.937252998352051,5.517236709594727,4.249383926391602,3.4352951049804688,5.707037925720215,5.774773597717285,5.383541584014893,4.7192254066467285,5.080163478851318,3.757368564605713,4.248327255249023,4.444626331329346,5.912960529327393,3.7531843185424805,5.647970676422119,4.012775421142578],\"type\":\"scatter\"},{\"hovertext\":[\"CNN Breaking News\",\"CNN\",\"The New York Times\",\"ESPN\",\"BBC Breaking News\",\"NASA\",\"Real Madrid C.F.\",\"Ellen DeGeneres\",\"NBA\",\"SportsCenter\",\"FC Barcelona\",\"Premier League\",\"PMO India\",\"UEFA Champions League\"],\"marker\":{\"opacity\":0.4,\"size\":6},\"mode\":\"markers\",\"name\":\"Cluster 4\",\"text\":[\"CNN Breaking News\",\"CNN\",\"The New York Times\",\"ESPN\",\"BBC Breaking News\",\"NASA\",\"Real Madrid C.F.\",\"Ellen DeGeneres\",\"NBA\",\"SportsCenter\",\"FC Barcelona\",\"Premier League\",\"PMO India\",\"UEFA Champions League\"],\"textfont\":{\"color\":\"black\",\"size\":10},\"textposition\":\"top center\",\"x\":[8.049178123474121,8.595532417297363,9.03992748260498,6.606988430023193,6.401784420013428,7.63162899017334,6.68411111831665,9.126583099365234,8.953764915466309,6.108787536621094,7.108424186706543,7.484809875488281,7.3726325035095215,6.39222526550293],\"y\":[13.529075622558594,13.558485984802246,13.633769035339355,15.85467529296875,15.837629318237305,13.649299621582031,14.81939697265625,13.285374641418457,13.368559837341309,15.646674156188965,14.475496292114258,14.15613842010498,13.625988960266113,15.372611045837402],\"type\":\"scatter\"}],                        {\"template\":{\"data\":{\"histogram2dcontour\":[{\"type\":\"histogram2dcontour\",\"colorbar\":{\"outlinewidth\":0,\"ticks\":\"\"},\"colorscale\":[[0.0,\"#0d0887\"],[0.1111111111111111,\"#46039f\"],[0.2222222222222222,\"#7201a8\"],[0.3333333333333333,\"#9c179e\"],[0.4444444444444444,\"#bd3786\"],[0.5555555555555556,\"#d8576b\"],[0.6666666666666666,\"#ed7953\"],[0.7777777777777778,\"#fb9f3a\"],[0.8888888888888888,\"#fdca26\"],[1.0,\"#f0f921\"]]}],\"choropleth\":[{\"type\":\"choropleth\",\"colorbar\":{\"outlinewidth\":0,\"ticks\":\"\"}}],\"histogram2d\":[{\"type\":\"histogram2d\",\"colorbar\":{\"outlinewidth\":0,\"ticks\":\"\"},\"colorscale\":[[0.0,\"#0d0887\"],[0.1111111111111111,\"#46039f\"],[0.2222222222222222,\"#7201a8\"],[0.3333333333333333,\"#9c179e\"],[0.4444444444444444,\"#bd3786\"],[0.5555555555555556,\"#d8576b\"],[0.6666666666666666,\"#ed7953\"],[0.7777777777777778,\"#fb9f3a\"],[0.8888888888888888,\"#fdca26\"],[1.0,\"#f0f921\"]]}],\"heatmap\":[{\"type\":\"heatmap\",\"colorbar\":{\"outlinewidth\":0,\"ticks\":\"\"},\"colorscale\":[[0.0,\"#0d0887\"],[0.1111111111111111,\"#46039f\"],[0.2222222222222222,\"#7201a8\"],[0.3333333333333333,\"#9c179e\"],[0.4444444444444444,\"#bd3786\"],[0.5555555555555556,\"#d8576b\"],[0.6666666666666666,\"#ed7953\"],[0.7777777777777778,\"#fb9f3a\"],[0.8888888888888888,\"#fdca26\"],[1.0,\"#f0f921\"]]}],\"heatmapgl\":[{\"type\":\"heatmapgl\",\"colorbar\":{\"outlinewidth\":0,\"ticks\":\"\"},\"colorscale\":[[0.0,\"#0d0887\"],[0.1111111111111111,\"#46039f\"],[0.2222222222222222,\"#7201a8\"],[0.3333333333333333,\"#9c179e\"],[0.4444444444444444,\"#bd3786\"],[0.5555555555555556,\"#d8576b\"],[0.6666666666666666,\"#ed7953\"],[0.7777777777777778,\"#fb9f3a\"],[0.8888888888888888,\"#fdca26\"],[1.0,\"#f0f921\"]]}],\"contourcarpet\":[{\"type\":\"contourcarpet\",\"colorbar\":{\"outlinewidth\":0,\"ticks\":\"\"}}],\"contour\":[{\"type\":\"contour\",\"colorbar\":{\"outlinewidth\":0,\"ticks\":\"\"},\"colorscale\":[[0.0,\"#0d0887\"],[0.1111111111111111,\"#46039f\"],[0.2222222222222222,\"#7201a8\"],[0.3333333333333333,\"#9c179e\"],[0.4444444444444444,\"#bd3786\"],[0.5555555555555556,\"#d8576b\"],[0.6666666666666666,\"#ed7953\"],[0.7777777777777778,\"#fb9f3a\"],[0.8888888888888888,\"#fdca26\"],[1.0,\"#f0f921\"]]}],\"surface\":[{\"type\":\"surface\",\"colorbar\":{\"outlinewidth\":0,\"ticks\":\"\"},\"colorscale\":[[0.0,\"#0d0887\"],[0.1111111111111111,\"#46039f\"],[0.2222222222222222,\"#7201a8\"],[0.3333333333333333,\"#9c179e\"],[0.4444444444444444,\"#bd3786\"],[0.5555555555555556,\"#d8576b\"],[0.6666666666666666,\"#ed7953\"],[0.7777777777777778,\"#fb9f3a\"],[0.8888888888888888,\"#fdca26\"],[1.0,\"#f0f921\"]]}],\"mesh3d\":[{\"type\":\"mesh3d\",\"colorbar\":{\"outlinewidth\":0,\"ticks\":\"\"}}],\"scatter\":[{\"fillpattern\":{\"fillmode\":\"overlay\",\"size\":10,\"solidity\":0.2},\"type\":\"scatter\"}],\"parcoords\":[{\"type\":\"parcoords\",\"line\":{\"colorbar\":{\"outlinewidth\":0,\"ticks\":\"\"}}}],\"scatterpolargl\":[{\"type\":\"scatterpolargl\",\"marker\":{\"colorbar\":{\"outlinewidth\":0,\"ticks\":\"\"}}}],\"bar\":[{\"error_x\":{\"color\":\"#2a3f5f\"},\"error_y\":{\"color\":\"#2a3f5f\"},\"marker\":{\"line\":{\"color\":\"#E5ECF6\",\"width\":0.5},\"pattern\":{\"fillmode\":\"overlay\",\"size\":10,\"solidity\":0.2}},\"type\":\"bar\"}],\"scattergeo\":[{\"type\":\"scattergeo\",\"marker\":{\"colorbar\":{\"outlinewidth\":0,\"ticks\":\"\"}}}],\"scatterpolar\":[{\"type\":\"scatterpolar\",\"marker\":{\"colorbar\":{\"outlinewidth\":0,\"ticks\":\"\"}}}],\"histogram\":[{\"marker\":{\"pattern\":{\"fillmode\":\"overlay\",\"size\":10,\"solidity\":0.2}},\"type\":\"histogram\"}],\"scattergl\":[{\"type\":\"scattergl\",\"marker\":{\"colorbar\":{\"outlinewidth\":0,\"ticks\":\"\"}}}],\"scatter3d\":[{\"type\":\"scatter3d\",\"line\":{\"colorbar\":{\"outlinewidth\":0,\"ticks\":\"\"}},\"marker\":{\"colorbar\":{\"outlinewidth\":0,\"ticks\":\"\"}}}],\"scattermapbox\":[{\"type\":\"scattermapbox\",\"marker\":{\"colorbar\":{\"outlinewidth\":0,\"ticks\":\"\"}}}],\"scatterternary\":[{\"type\":\"scatterternary\",\"marker\":{\"colorbar\":{\"outlinewidth\":0,\"ticks\":\"\"}}}],\"scattercarpet\":[{\"type\":\"scattercarpet\",\"marker\":{\"colorbar\":{\"outlinewidth\":0,\"ticks\":\"\"}}}],\"carpet\":[{\"aaxis\":{\"endlinecolor\":\"#2a3f5f\",\"gridcolor\":\"white\",\"linecolor\":\"white\",\"minorgridcolor\":\"white\",\"startlinecolor\":\"#2a3f5f\"},\"baxis\":{\"endlinecolor\":\"#2a3f5f\",\"gridcolor\":\"white\",\"linecolor\":\"white\",\"minorgridcolor\":\"white\",\"startlinecolor\":\"#2a3f5f\"},\"type\":\"carpet\"}],\"table\":[{\"cells\":{\"fill\":{\"color\":\"#EBF0F8\"},\"line\":{\"color\":\"white\"}},\"header\":{\"fill\":{\"color\":\"#C8D4E3\"},\"line\":{\"color\":\"white\"}},\"type\":\"table\"}],\"barpolar\":[{\"marker\":{\"line\":{\"color\":\"#E5ECF6\",\"width\":0.5},\"pattern\":{\"fillmode\":\"overlay\",\"size\":10,\"solidity\":0.2}},\"type\":\"barpolar\"}],\"pie\":[{\"automargin\":true,\"type\":\"pie\"}]},\"layout\":{\"autotypenumbers\":\"strict\",\"colorway\":[\"#636efa\",\"#EF553B\",\"#00cc96\",\"#ab63fa\",\"#FFA15A\",\"#19d3f3\",\"#FF6692\",\"#B6E880\",\"#FF97FF\",\"#FECB52\"],\"font\":{\"color\":\"#2a3f5f\"},\"hovermode\":\"closest\",\"hoverlabel\":{\"align\":\"left\"},\"paper_bgcolor\":\"white\",\"plot_bgcolor\":\"#E5ECF6\",\"polar\":{\"bgcolor\":\"#E5ECF6\",\"angularaxis\":{\"gridcolor\":\"white\",\"linecolor\":\"white\",\"ticks\":\"\"},\"radialaxis\":{\"gridcolor\":\"white\",\"linecolor\":\"white\",\"ticks\":\"\"}},\"ternary\":{\"bgcolor\":\"#E5ECF6\",\"aaxis\":{\"gridcolor\":\"white\",\"linecolor\":\"white\",\"ticks\":\"\"},\"baxis\":{\"gridcolor\":\"white\",\"linecolor\":\"white\",\"ticks\":\"\"},\"caxis\":{\"gridcolor\":\"white\",\"linecolor\":\"white\",\"ticks\":\"\"}},\"coloraxis\":{\"colorbar\":{\"outlinewidth\":0,\"ticks\":\"\"}},\"colorscale\":{\"sequential\":[[0.0,\"#0d0887\"],[0.1111111111111111,\"#46039f\"],[0.2222222222222222,\"#7201a8\"],[0.3333333333333333,\"#9c179e\"],[0.4444444444444444,\"#bd3786\"],[0.5555555555555556,\"#d8576b\"],[0.6666666666666666,\"#ed7953\"],[0.7777777777777778,\"#fb9f3a\"],[0.8888888888888888,\"#fdca26\"],[1.0,\"#f0f921\"]],\"sequentialminus\":[[0.0,\"#0d0887\"],[0.1111111111111111,\"#46039f\"],[0.2222222222222222,\"#7201a8\"],[0.3333333333333333,\"#9c179e\"],[0.4444444444444444,\"#bd3786\"],[0.5555555555555556,\"#d8576b\"],[0.6666666666666666,\"#ed7953\"],[0.7777777777777778,\"#fb9f3a\"],[0.8888888888888888,\"#fdca26\"],[1.0,\"#f0f921\"]],\"diverging\":[[0,\"#8e0152\"],[0.1,\"#c51b7d\"],[0.2,\"#de77ae\"],[0.3,\"#f1b6da\"],[0.4,\"#fde0ef\"],[0.5,\"#f7f7f7\"],[0.6,\"#e6f5d0\"],[0.7,\"#b8e186\"],[0.8,\"#7fbc41\"],[0.9,\"#4d9221\"],[1,\"#276419\"]]},\"xaxis\":{\"gridcolor\":\"white\",\"linecolor\":\"white\",\"ticks\":\"\",\"title\":{\"standoff\":15},\"zerolinecolor\":\"white\",\"automargin\":true,\"zerolinewidth\":2},\"yaxis\":{\"gridcolor\":\"white\",\"linecolor\":\"white\",\"ticks\":\"\",\"title\":{\"standoff\":15},\"zerolinecolor\":\"white\",\"automargin\":true,\"zerolinewidth\":2},\"scene\":{\"xaxis\":{\"backgroundcolor\":\"#E5ECF6\",\"gridcolor\":\"white\",\"linecolor\":\"white\",\"showbackground\":true,\"ticks\":\"\",\"zerolinecolor\":\"white\",\"gridwidth\":2},\"yaxis\":{\"backgroundcolor\":\"#E5ECF6\",\"gridcolor\":\"white\",\"linecolor\":\"white\",\"showbackground\":true,\"ticks\":\"\",\"zerolinecolor\":\"white\",\"gridwidth\":2},\"zaxis\":{\"backgroundcolor\":\"#E5ECF6\",\"gridcolor\":\"white\",\"linecolor\":\"white\",\"showbackground\":true,\"ticks\":\"\",\"zerolinecolor\":\"white\",\"gridwidth\":2}},\"shapedefaults\":{\"line\":{\"color\":\"#2a3f5f\"}},\"annotationdefaults\":{\"arrowcolor\":\"#2a3f5f\",\"arrowhead\":0,\"arrowwidth\":1},\"geo\":{\"bgcolor\":\"white\",\"landcolor\":\"#E5ECF6\",\"subunitcolor\":\"white\",\"showland\":true,\"showlakes\":true,\"lakecolor\":\"white\"},\"title\":{\"x\":0.05},\"mapbox\":{\"style\":\"light\"}}},\"showlegend\":true,\"width\":500,\"height\":500},                        {\"responsive\": true}                    ).then(function(){\n",
       "                            \n",
       "var gd = document.getElementById('f23d5ada-c395-41f3-8354-3b9077fb89fb');\n",
       "var x = new MutationObserver(function (mutations, observer) {{\n",
       "        var display = window.getComputedStyle(gd).display;\n",
       "        if (!display || display === 'none') {{\n",
       "            console.log([gd, 'removed!']);\n",
       "            Plotly.purge(gd);\n",
       "            observer.disconnect();\n",
       "        }}\n",
       "}});\n",
       "\n",
       "// Listen for the removal of the full notebook cells\n",
       "var notebookContainer = gd.closest('#notebook-container');\n",
       "if (notebookContainer) {{\n",
       "    x.observe(notebookContainer, {childList: true});\n",
       "}}\n",
       "\n",
       "// Listen for the clearing of the current output cell\n",
       "var outputEl = gd.closest('.output');\n",
       "if (outputEl) {{\n",
       "    x.observe(outputEl, {childList: true});\n",
       "}}\n",
       "\n",
       "                        })                };                });            </script>        </div>"
      ]
     },
     "metadata": {},
     "output_type": "display_data"
    }
   ],
   "source": [
    "# Create a sample DataFrame\n",
    "df = influence_metrics_final\n",
    "\n",
    "# Run UmapHdbscanBokeh\n",
    "ca = ClusterAnalysis(df, n_neighbors=4, min_cluster_size=4, min_dist=0.2, metric='euclidean')\n",
    "ca.run()"
   ]
  },
  {
   "cell_type": "code",
   "execution_count": null,
   "id": "9a76cd71-ab82-40c0-9fdf-b4a1408d175c",
   "metadata": {},
   "outputs": [],
   "source": []
  }
 ],
 "metadata": {
  "kernelspec": {
   "display_name": "Python 3 (ipykernel)",
   "language": "python",
   "name": "python3"
  },
  "language_info": {
   "codemirror_mode": {
    "name": "ipython",
    "version": 3
   },
   "file_extension": ".py",
   "mimetype": "text/x-python",
   "name": "python",
   "nbconvert_exporter": "python",
   "pygments_lexer": "ipython3",
   "version": "3.10.10"
  }
 },
 "nbformat": 4,
 "nbformat_minor": 5
}
