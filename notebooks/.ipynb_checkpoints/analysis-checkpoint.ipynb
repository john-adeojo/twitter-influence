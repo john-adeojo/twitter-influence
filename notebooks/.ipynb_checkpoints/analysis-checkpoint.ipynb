{
 "cells": [
  {
   "cell_type": "code",
   "execution_count": 1,
   "id": "b5cfe6ee-52f8-4293-80e6-f9807e0587ea",
   "metadata": {
    "tags": []
   },
   "outputs": [],
   "source": [
    "import os\n",
    "import sys\n",
    "\n",
    "notebook_dir = os.path.dirname(os.path.abspath(\"__file__\"))\n",
    "project_dir = os.path.dirname(notebook_dir)\n",
    "\n",
    "if project_dir not in sys.path:\n",
    "    sys.path.append(project_dir)"
   ]
  },
  {
   "cell_type": "markdown",
   "id": "33af0318-33df-44cb-8b66-c78c5fbad204",
   "metadata": {},
   "source": [
    "# Read Data"
   ]
  },
  {
   "cell_type": "code",
   "execution_count": 2,
   "id": "8cfe78d6-83f0-4cad-aefd-e5acbfd392c4",
   "metadata": {
    "tags": []
   },
   "outputs": [],
   "source": [
    "import pandas as pd\n",
    "from sklearn.preprocessing import MinMaxScaler\n",
    "\n",
    "\n",
    "# Import Data\n",
    "import pandas as pd\n",
    "tweets_df = pd.read_csv(r\"C:\\Users\\johna\\anaconda3\\envs\\twitter-influence-env\\twitter-influence\\data\\01_raw\\top_accounts_details.csv\")\n",
    "tweets_df['date'] = pd.to_datetime(tweets_df['creation_date'], format='%a %b %d %H:%M:%S +0000 %Y')\n",
    "tweets_df['month_year'] = tweets_df['date'].apply(lambda x: x.strftime('%Y-%m'))\n",
    "tweets_df['date_day'] = tweets_df['date'].apply(lambda x: x.strftime('%Y-%m-%d'))\n",
    "\n",
    "tweets_df = tweets_df.loc[tweets_df['follower_count'] > 0]\n",
    "\n",
    "# calculate per follower metrics \n",
    "tweets_df['favorite_count_pf'] = tweets_df['favorite_count']/ tweets_df['follower_count']\n",
    "tweets_df['retweet_count_pf'] = tweets_df['retweet_count']/ tweets_df['follower_count']\n",
    "tweets_df['quote_count_pf'] = tweets_df['quote_count']/ tweets_df['follower_count']\n",
    "tweets_df['reply_count_pf'] = tweets_df['reply_count']/ tweets_df['follower_count']\n",
    "\n",
    "scaler = MinMaxScaler()\n",
    "scaled_values = scaler.fit_transform(tweets_df[['favorite_count_pf', 'retweet_count_pf', 'quote_count_pf', 'reply_count_pf']])\n",
    "tweets_df[['favorite_count_pf', 'retweet_count_pf', 'quote_count_pf', 'reply_count_pf']] = scaled_values\n",
    "\n",
    "tweets_df = tweets_df.loc[tweets_df['language']=='en']\n"
   ]
  },
  {
   "cell_type": "markdown",
   "id": "a498d44d-5dd1-4cc5-9f62-6433c4745338",
   "metadata": {},
   "source": [
    "# Sentiment & Emotion Analysis"
   ]
  },
  {
   "cell_type": "code",
   "execution_count": 3,
   "id": "7c142a4d-70a9-4a71-b4cc-c174e8daaedd",
   "metadata": {
    "tags": []
   },
   "outputs": [
    {
     "name": "stderr",
     "output_type": "stream",
     "text": [
      "C:\\Users\\johna\\anaconda3\\envs\\twitter-influence-env\\lib\\site-packages\\tqdm\\auto.py:21: TqdmWarning: IProgress not found. Please update jupyter and ipywidgets. See https://ipywidgets.readthedocs.io/en/stable/user_install.html\n",
      "  from .autonotebook import tqdm as notebook_tqdm\n",
      "Some weights of the model checkpoint at cardiffnlp/twitter-roberta-base-sentiment-latest were not used when initializing RobertaForSequenceClassification: ['roberta.pooler.dense.bias', 'roberta.pooler.dense.weight']\n",
      "- This IS expected if you are initializing RobertaForSequenceClassification from the checkpoint of a model trained on another task or with another architecture (e.g. initializing a BertForSequenceClassification model from a BertForPreTraining model).\n",
      "- This IS NOT expected if you are initializing RobertaForSequenceClassification from the checkpoint of a model that you expect to be exactly identical (initializing a BertForSequenceClassification model from a BertForSequenceClassification model).\n"
     ]
    }
   ],
   "source": [
    "from scripts.text_processing.sentiment_analysis import SentimentAnalyzer\n",
    "\n",
    "# sentiment analyser, specify model\n",
    "analyzer = SentimentAnalyzer('cardiffnlp/twitter-roberta-base-sentiment-latest')\n",
    "\n",
    "# Get sentiment analysis\n",
    "tweets_with_sentiment = analyzer.get_sentiment(tweets_df)\n"
   ]
  },
  {
   "cell_type": "code",
   "execution_count": 4,
   "id": "f396b357-b52c-4c09-ae65-ff412c57158c",
   "metadata": {
    "tags": []
   },
   "outputs": [],
   "source": [
    "# sentiment analyser, specify model\n",
    "analyzer = SentimentAnalyzer('cardiffnlp/twitter-roberta-base-emotion', emotion=True)\n",
    "\n",
    "# Get sentiment analysis\n",
    "tweets_with_sentiment = analyzer.get_sentiment(tweets_with_sentiment)\n"
   ]
  },
  {
   "cell_type": "markdown",
   "id": "74cfab2e-9c4b-4f42-9c28-0f754f2ad291",
   "metadata": {},
   "source": [
    "# Summarise at user level for clustering"
   ]
  },
  {
   "cell_type": "code",
   "execution_count": 5,
   "id": "059c9917-d4a8-4951-9f30-1d8944992614",
   "metadata": {
    "tags": []
   },
   "outputs": [
    {
     "data": {
      "text/html": [
       "<div>\n",
       "<style scoped>\n",
       "    .dataframe tbody tr th:only-of-type {\n",
       "        vertical-align: middle;\n",
       "    }\n",
       "\n",
       "    .dataframe tbody tr th {\n",
       "        vertical-align: top;\n",
       "    }\n",
       "\n",
       "    .dataframe thead th {\n",
       "        text-align: right;\n",
       "    }\n",
       "</style>\n",
       "<table border=\"1\" class=\"dataframe\">\n",
       "  <thead>\n",
       "    <tr style=\"text-align: right;\">\n",
       "      <th></th>\n",
       "      <th>user_id</th>\n",
       "      <th>name</th>\n",
       "      <th>favorite_count_pf_mean</th>\n",
       "      <th>retweet_count_pf_mean</th>\n",
       "      <th>quote_count_pf_mean</th>\n",
       "      <th>reply_count_pf_mean</th>\n",
       "      <th>tweet_id_count</th>\n",
       "      <th>followers</th>\n",
       "      <th>date_day_&lt;lambda&gt;</th>\n",
       "      <th>average daily tweets</th>\n",
       "      <th>anger</th>\n",
       "      <th>joy</th>\n",
       "      <th>optimism</th>\n",
       "      <th>sadness</th>\n",
       "      <th>negative</th>\n",
       "      <th>neutral</th>\n",
       "      <th>positive</th>\n",
       "    </tr>\n",
       "  </thead>\n",
       "  <tbody>\n",
       "    <tr>\n",
       "      <th>0</th>\n",
       "      <td>428333</td>\n",
       "      <td>CNN Breaking News</td>\n",
       "      <td>1.249635e-09</td>\n",
       "      <td>2.120927e-09</td>\n",
       "      <td>2.734203e-08</td>\n",
       "      <td>1.854789e-08</td>\n",
       "      <td>96</td>\n",
       "      <td>6.412692e+07</td>\n",
       "      <td>27</td>\n",
       "      <td>3.555556</td>\n",
       "      <td>0.166667</td>\n",
       "      <td>0.333333</td>\n",
       "      <td>0.062500</td>\n",
       "      <td>0.437500</td>\n",
       "      <td>0.312500</td>\n",
       "      <td>0.666667</td>\n",
       "      <td>0.020833</td>\n",
       "    </tr>\n",
       "    <tr>\n",
       "      <th>1</th>\n",
       "      <td>742143</td>\n",
       "      <td>BBC News (World)</td>\n",
       "      <td>1.205793e-09</td>\n",
       "      <td>1.432925e-09</td>\n",
       "      <td>1.218120e-08</td>\n",
       "      <td>1.318765e-08</td>\n",
       "      <td>89</td>\n",
       "      <td>3.969302e+07</td>\n",
       "      <td>2</td>\n",
       "      <td>44.500000</td>\n",
       "      <td>0.044944</td>\n",
       "      <td>0.303371</td>\n",
       "      <td>0.325843</td>\n",
       "      <td>0.325843</td>\n",
       "      <td>0.213483</td>\n",
       "      <td>0.707865</td>\n",
       "      <td>0.078652</td>\n",
       "    </tr>\n",
       "    <tr>\n",
       "      <th>2</th>\n",
       "      <td>759251</td>\n",
       "      <td>CNN</td>\n",
       "      <td>1.111227e-09</td>\n",
       "      <td>1.711755e-09</td>\n",
       "      <td>2.176885e-08</td>\n",
       "      <td>2.348811e-08</td>\n",
       "      <td>97</td>\n",
       "      <td>6.130561e+07</td>\n",
       "      <td>2</td>\n",
       "      <td>48.500000</td>\n",
       "      <td>0.144330</td>\n",
       "      <td>0.278351</td>\n",
       "      <td>0.288660</td>\n",
       "      <td>0.288660</td>\n",
       "      <td>0.226804</td>\n",
       "      <td>0.649485</td>\n",
       "      <td>0.123711</td>\n",
       "    </tr>\n",
       "    <tr>\n",
       "      <th>3</th>\n",
       "      <td>783214</td>\n",
       "      <td>Twitter</td>\n",
       "      <td>3.798663e-07</td>\n",
       "      <td>2.730519e-07</td>\n",
       "      <td>5.476387e-06</td>\n",
       "      <td>1.331166e-06</td>\n",
       "      <td>78</td>\n",
       "      <td>6.489580e+07</td>\n",
       "      <td>60</td>\n",
       "      <td>1.300000</td>\n",
       "      <td>0.269231</td>\n",
       "      <td>0.205128</td>\n",
       "      <td>0.448718</td>\n",
       "      <td>0.076923</td>\n",
       "      <td>0.089744</td>\n",
       "      <td>0.641026</td>\n",
       "      <td>0.269231</td>\n",
       "    </tr>\n",
       "    <tr>\n",
       "      <th>4</th>\n",
       "      <td>807095</td>\n",
       "      <td>The New York Times</td>\n",
       "      <td>1.180996e-09</td>\n",
       "      <td>2.222673e-09</td>\n",
       "      <td>1.387809e-08</td>\n",
       "      <td>1.084889e-08</td>\n",
       "      <td>82</td>\n",
       "      <td>5.499163e+07</td>\n",
       "      <td>2</td>\n",
       "      <td>41.000000</td>\n",
       "      <td>0.256098</td>\n",
       "      <td>0.158537</td>\n",
       "      <td>0.292683</td>\n",
       "      <td>0.292683</td>\n",
       "      <td>0.268293</td>\n",
       "      <td>0.536585</td>\n",
       "      <td>0.195122</td>\n",
       "    </tr>\n",
       "    <tr>\n",
       "      <th>...</th>\n",
       "      <td>...</td>\n",
       "      <td>...</td>\n",
       "      <td>...</td>\n",
       "      <td>...</td>\n",
       "      <td>...</td>\n",
       "      <td>...</td>\n",
       "      <td>...</td>\n",
       "      <td>...</td>\n",
       "      <td>...</td>\n",
       "      <td>...</td>\n",
       "      <td>...</td>\n",
       "      <td>...</td>\n",
       "      <td>...</td>\n",
       "      <td>...</td>\n",
       "      <td>...</td>\n",
       "      <td>...</td>\n",
       "      <td>...</td>\n",
       "    </tr>\n",
       "    <tr>\n",
       "      <th>91</th>\n",
       "      <td>866953267</td>\n",
       "      <td>Cardi B</td>\n",
       "      <td>3.339911e-04</td>\n",
       "      <td>1.227827e-04</td>\n",
       "      <td>4.363027e-04</td>\n",
       "      <td>4.359926e-04</td>\n",
       "      <td>52</td>\n",
       "      <td>2.260202e+07</td>\n",
       "      <td>37</td>\n",
       "      <td>1.405405</td>\n",
       "      <td>0.076923</td>\n",
       "      <td>0.269231</td>\n",
       "      <td>0.500000</td>\n",
       "      <td>0.153846</td>\n",
       "      <td>0.288462</td>\n",
       "      <td>0.288462</td>\n",
       "      <td>0.423077</td>\n",
       "    </tr>\n",
       "    <tr>\n",
       "      <th>92</th>\n",
       "      <td>1339835893</td>\n",
       "      <td>Hillary Clinton</td>\n",
       "      <td>6.120861e-06</td>\n",
       "      <td>5.576989e-06</td>\n",
       "      <td>2.304019e-05</td>\n",
       "      <td>4.026735e-05</td>\n",
       "      <td>79</td>\n",
       "      <td>2.321191e+07</td>\n",
       "      <td>57</td>\n",
       "      <td>1.385965</td>\n",
       "      <td>0.455696</td>\n",
       "      <td>0.189873</td>\n",
       "      <td>0.265823</td>\n",
       "      <td>0.088608</td>\n",
       "      <td>0.215190</td>\n",
       "      <td>0.151899</td>\n",
       "      <td>0.632911</td>\n",
       "    </tr>\n",
       "    <tr>\n",
       "      <th>93</th>\n",
       "      <td>1409798257</td>\n",
       "      <td>BTS_official</td>\n",
       "      <td>8.044881e-07</td>\n",
       "      <td>1.553500e-06</td>\n",
       "      <td>1.509323e-06</td>\n",
       "      <td>3.825196e-07</td>\n",
       "      <td>28</td>\n",
       "      <td>4.281072e+07</td>\n",
       "      <td>15</td>\n",
       "      <td>1.866667</td>\n",
       "      <td>0.000000</td>\n",
       "      <td>0.000000</td>\n",
       "      <td>1.000000</td>\n",
       "      <td>0.000000</td>\n",
       "      <td>0.000000</td>\n",
       "      <td>0.678571</td>\n",
       "      <td>0.321429</td>\n",
       "    </tr>\n",
       "    <tr>\n",
       "      <th>94</th>\n",
       "      <td>1447949844</td>\n",
       "      <td>Amit Shah</td>\n",
       "      <td>3.388176e-08</td>\n",
       "      <td>6.060296e-08</td>\n",
       "      <td>1.533872e-08</td>\n",
       "      <td>3.753867e-08</td>\n",
       "      <td>35</td>\n",
       "      <td>3.094562e+07</td>\n",
       "      <td>5</td>\n",
       "      <td>7.000000</td>\n",
       "      <td>0.628571</td>\n",
       "      <td>0.000000</td>\n",
       "      <td>0.342857</td>\n",
       "      <td>0.028571</td>\n",
       "      <td>0.028571</td>\n",
       "      <td>0.142857</td>\n",
       "      <td>0.828571</td>\n",
       "    </tr>\n",
       "    <tr>\n",
       "      <th>95</th>\n",
       "      <td>1349149096909668363</td>\n",
       "      <td>President Biden</td>\n",
       "      <td>3.316080e-07</td>\n",
       "      <td>3.347935e-07</td>\n",
       "      <td>1.291318e-06</td>\n",
       "      <td>3.387426e-06</td>\n",
       "      <td>98</td>\n",
       "      <td>2.844508e+07</td>\n",
       "      <td>9</td>\n",
       "      <td>10.888889</td>\n",
       "      <td>0.632653</td>\n",
       "      <td>0.142857</td>\n",
       "      <td>0.183673</td>\n",
       "      <td>0.040816</td>\n",
       "      <td>0.142857</td>\n",
       "      <td>0.255102</td>\n",
       "      <td>0.602041</td>\n",
       "    </tr>\n",
       "  </tbody>\n",
       "</table>\n",
       "<p>96 rows × 17 columns</p>\n",
       "</div>"
      ],
      "text/plain": [
       "                user_id                name  favorite_count_pf_mean  \\\n",
       "0                428333   CNN Breaking News            1.249635e-09   \n",
       "1                742143    BBC News (World)            1.205793e-09   \n",
       "2                759251                 CNN            1.111227e-09   \n",
       "3                783214             Twitter            3.798663e-07   \n",
       "4                807095  The New York Times            1.180996e-09   \n",
       "..                  ...                 ...                     ...   \n",
       "91            866953267             Cardi B            3.339911e-04   \n",
       "92           1339835893     Hillary Clinton            6.120861e-06   \n",
       "93           1409798257        BTS_official            8.044881e-07   \n",
       "94           1447949844           Amit Shah            3.388176e-08   \n",
       "95  1349149096909668363     President Biden            3.316080e-07   \n",
       "\n",
       "    retweet_count_pf_mean  quote_count_pf_mean  reply_count_pf_mean  \\\n",
       "0            2.120927e-09         2.734203e-08         1.854789e-08   \n",
       "1            1.432925e-09         1.218120e-08         1.318765e-08   \n",
       "2            1.711755e-09         2.176885e-08         2.348811e-08   \n",
       "3            2.730519e-07         5.476387e-06         1.331166e-06   \n",
       "4            2.222673e-09         1.387809e-08         1.084889e-08   \n",
       "..                    ...                  ...                  ...   \n",
       "91           1.227827e-04         4.363027e-04         4.359926e-04   \n",
       "92           5.576989e-06         2.304019e-05         4.026735e-05   \n",
       "93           1.553500e-06         1.509323e-06         3.825196e-07   \n",
       "94           6.060296e-08         1.533872e-08         3.753867e-08   \n",
       "95           3.347935e-07         1.291318e-06         3.387426e-06   \n",
       "\n",
       "    tweet_id_count     followers  date_day_<lambda>  average daily tweets  \\\n",
       "0               96  6.412692e+07                 27              3.555556   \n",
       "1               89  3.969302e+07                  2             44.500000   \n",
       "2               97  6.130561e+07                  2             48.500000   \n",
       "3               78  6.489580e+07                 60              1.300000   \n",
       "4               82  5.499163e+07                  2             41.000000   \n",
       "..             ...           ...                ...                   ...   \n",
       "91              52  2.260202e+07                 37              1.405405   \n",
       "92              79  2.321191e+07                 57              1.385965   \n",
       "93              28  4.281072e+07                 15              1.866667   \n",
       "94              35  3.094562e+07                  5              7.000000   \n",
       "95              98  2.844508e+07                  9             10.888889   \n",
       "\n",
       "       anger       joy  optimism   sadness  negative   neutral  positive  \n",
       "0   0.166667  0.333333  0.062500  0.437500  0.312500  0.666667  0.020833  \n",
       "1   0.044944  0.303371  0.325843  0.325843  0.213483  0.707865  0.078652  \n",
       "2   0.144330  0.278351  0.288660  0.288660  0.226804  0.649485  0.123711  \n",
       "3   0.269231  0.205128  0.448718  0.076923  0.089744  0.641026  0.269231  \n",
       "4   0.256098  0.158537  0.292683  0.292683  0.268293  0.536585  0.195122  \n",
       "..       ...       ...       ...       ...       ...       ...       ...  \n",
       "91  0.076923  0.269231  0.500000  0.153846  0.288462  0.288462  0.423077  \n",
       "92  0.455696  0.189873  0.265823  0.088608  0.215190  0.151899  0.632911  \n",
       "93  0.000000  0.000000  1.000000  0.000000  0.000000  0.678571  0.321429  \n",
       "94  0.628571  0.000000  0.342857  0.028571  0.028571  0.142857  0.828571  \n",
       "95  0.632653  0.142857  0.183673  0.040816  0.142857  0.255102  0.602041  \n",
       "\n",
       "[96 rows x 17 columns]"
      ]
     },
     "execution_count": 5,
     "metadata": {},
     "output_type": "execute_result"
    }
   ],
   "source": [
    "sentiment_ratios = pd.crosstab(\n",
    "    index=tweets_with_sentiment['user_id'],\n",
    "    columns= tweets_with_sentiment['sentiment'],\n",
    "    normalize='index'\n",
    ").reset_index()\n",
    "\n",
    "\n",
    "emotion_ratios = pd.crosstab(\n",
    "    index=tweets_with_sentiment['user_id'],\n",
    "    columns= tweets_with_sentiment['emotion'],\n",
    "    normalize='index'\n",
    ").reset_index()\n",
    "\n",
    "\n",
    "ratios_emotion_sentiment = emotion_ratios.merge(sentiment_ratios, on='user_id')\n",
    "\n",
    "\n",
    "influence_metrics = tweets_with_sentiment.groupby('user_id').agg(\n",
    "    {\n",
    "        'name': [lambda x: x.mode().iloc[0] if not x.mode().empty else None],\n",
    "        'favorite_count_pf': ['mean'],\n",
    "        'retweet_count_pf': ['mean'],\n",
    "        'quote_count_pf': ['mean'],\n",
    "        'reply_count_pf': ['mean'],\n",
    "        'tweet_id': ['count'],\n",
    "        'follower_count': ['mean'],\n",
    "        'date_day': [lambda x: x.nunique()]\n",
    "\n",
    "\n",
    "\n",
    "    }\n",
    ")\n",
    "\n",
    "# Calculate the average daily tweets\n",
    "influence_metrics['avg_daily_tweets'] = influence_metrics[('tweet_id', 'count')] / influence_metrics[('date_day', '<lambda>')]\n",
    "\n",
    "# Flatten the MultiIndex columns\n",
    "influence_metrics.columns = ['_'.join(col).strip() for col in influence_metrics.columns.values]\n",
    "# Reset the index to move the 'username' back to a column\n",
    "influence_metrics.reset_index(inplace=True)\n",
    "influence_metrics_final = influence_metrics.merge(right=ratios_emotion_sentiment, how='left', left_on='user_id', right_on='user_id')\n",
    "influence_metrics_final.rename(columns={'name_<lambda>':'name', 'follower_count_mean':'followers', 'avg_daily_tweets_': 'average daily tweets'}, inplace=True)\n",
    "influence_metrics_final"
   ]
  },
  {
   "cell_type": "markdown",
   "id": "c2011a72-a901-4bdd-9c31-b943414681f7",
   "metadata": {},
   "source": [
    "# Clustering"
   ]
  },
  {
   "cell_type": "code",
   "execution_count": 6,
   "id": "e600352c-ef72-46fe-981b-3489e172de56",
   "metadata": {
    "tags": []
   },
   "outputs": [],
   "source": [
    "from scripts.clustering.cluster import ClusterAnalysis"
   ]
  },
  {
   "cell_type": "code",
   "execution_count": 40,
   "id": "3de62f9b-9b15-4208-8b78-c578f60e3947",
   "metadata": {
    "tags": []
   },
   "outputs": [
    {
     "data": {
      "application/vnd.plotly.v1+json": {
       "config": {
        "plotlyServerURL": "https://plot.ly"
       },
       "data": [
        {
         "hovertext": [
          "Barack Obama",
          "Joe Biden",
          "Bill Gates",
          "Emma Watson",
          "PMO India",
          "Hillary Clinton",
          "Amit Shah",
          "President Biden"
         ],
         "marker": {
          "opacity": 0.4,
          "size": 6
         },
         "mode": "markers",
         "name": "Cluster 0",
         "text": [
          "Barack Obama",
          "Joe Biden",
          "Bill Gates",
          "Emma Watson",
          "PMO India",
          "Hillary Clinton",
          "Amit Shah",
          "President Biden"
         ],
         "textfont": {
          "color": "black",
          "size": 10
         },
         "textposition": "top center",
         "type": "scatter",
         "x": [
          3.242805242538452,
          2.626960515975952,
          3.301204204559326,
          2.6304914951324463,
          2.8038454055786133,
          2.7239038944244385,
          3.3096280097961426,
          2.8245744705200195
         ],
         "y": [
          1.4579298496246338,
          1.6934558153152466,
          1.4170297384262085,
          1.6367660760879517,
          1.4135091304779053,
          1.6970053911209106,
          1.5358946323394775,
          1.4427307844161987
         ]
        },
        {
         "hovertext": [
          "CNN Breaking News",
          "BBC News (World)",
          "CNN",
          "Twitter",
          "The New York Times",
          "Reuters",
          "BBC Breaking News",
          "The Economist",
          "National Geographic",
          "Wiz Khalifa",
          "Kourtney Kardashian",
          "Donald J. Trump",
          "Nicki Minaj",
          "Elon Musk",
          "Conan O'Brien",
          "Cardi B"
         ],
         "marker": {
          "opacity": 0.4,
          "size": 6
         },
         "mode": "markers",
         "name": "Cluster 1",
         "text": [
          "CNN Breaking News",
          "BBC News (World)",
          "CNN",
          "Twitter",
          "The New York Times",
          "Reuters",
          "BBC Breaking News",
          "The Economist",
          "National Geographic",
          "Wiz Khalifa",
          "Kourtney Kardashian",
          "Donald J. Trump",
          "Nicki Minaj",
          "Elon Musk",
          "Conan O'Brien",
          "Cardi B"
         ],
         "textfont": {
          "color": "black",
          "size": 10
         },
         "textposition": "top center",
         "type": "scatter",
         "x": [
          9.43071174621582,
          9.6104736328125,
          9.58578872680664,
          8.708308219909668,
          9.328303337097168,
          9.479960441589355,
          9.312378883361816,
          9.425735473632812,
          8.982054710388184,
          8.347631454467773,
          8.171409606933594,
          8.632654190063477,
          8.126615524291992,
          8.76632308959961,
          8.009427070617676,
          8.281824111938477
         ],
         "y": [
          1.0760844945907593,
          1.2790107727050781,
          1.469619631767273,
          2.1273674964904785,
          1.748258352279663,
          1.6000264883041382,
          1.178924560546875,
          1.6672496795654297,
          2.034040927886963,
          2.2854390144348145,
          2.5974831581115723,
          1.2444509267807007,
          1.5857341289520264,
          2.1750569343566895,
          1.6201833486557007,
          1.351280689239502
         ]
        },
        {
         "hovertext": [
          "ESPN",
          "YouTube",
          "PlayStation",
          "NASA",
          "Real Madrid C.F.",
          "NFL",
          "NBA",
          "SportsCenter",
          "Drizzy",
          "Justin Bieber",
          "SpaceX",
          "FC Barcelona",
          "BIGHIT MUSIC",
          "Adele",
          "Whindersson",
          "netflixbrasil",
          "Miley Cyrus",
          "UEFA Champions League",
          "BTS_official"
         ],
         "marker": {
          "opacity": 0.4,
          "size": 6
         },
         "mode": "markers",
         "name": "Cluster 2",
         "text": [
          "ESPN",
          "YouTube",
          "PlayStation",
          "NASA",
          "Real Madrid C.F.",
          "NFL",
          "NBA",
          "SportsCenter",
          "Drizzy",
          "Justin Bieber",
          "SpaceX",
          "FC Barcelona",
          "BIGHIT MUSIC",
          "Adele",
          "Whindersson",
          "netflixbrasil",
          "Miley Cyrus",
          "UEFA Champions League",
          "BTS_official"
         ],
         "textfont": {
          "color": "black",
          "size": 10
         },
         "textposition": "top center",
         "type": "scatter",
         "x": [
          9.406271934509277,
          10.275331497192383,
          10.155588150024414,
          9.62651538848877,
          10.86601734161377,
          10.049690246582031,
          10.353240013122559,
          9.242019653320312,
          10.269326210021973,
          9.698213577270508,
          10.842955589294434,
          9.47856330871582,
          10.788187980651855,
          9.247211456298828,
          9.654964447021484,
          9.661396980285645,
          9.88479995727539,
          9.336018562316895,
          10.561676979064941
         ],
         "y": [
          7.472626686096191,
          6.948455810546875,
          7.023266792297363,
          7.094994068145752,
          7.362885475158691,
          7.317403316497803,
          7.774706840515137,
          7.6645379066467285,
          6.938611030578613,
          7.680204391479492,
          7.165670871734619,
          7.29656457901001,
          7.314979076385498,
          7.916539192199707,
          8.249205589294434,
          8.235363960266113,
          7.694721698760986,
          8.331960678100586,
          7.485793590545654
         ]
        },
        {
         "hovertext": [
          "Jimmy Fallon",
          "Ellen DeGeneres",
          "Taylor Swift",
          "PRIYANKA",
          "Oprah Winfrey",
          "Demi Lovato",
          "KATY PERRY",
          "LeBron James",
          "Selena Gomez",
          "Justin Timberlake",
          "Khloé",
          "Shakira",
          "Rihanna",
          "Bruno Mars",
          "Shah Rukh Khan",
          "Hrithik Roshan",
          "Lil Wayne WEEZY F",
          "Kendall",
          "Liam",
          "Neymar Jr",
          "zayn",
          "Instagram",
          "One Direction",
          "Shawn Mendes"
         ],
         "marker": {
          "opacity": 0.4,
          "size": 6
         },
         "mode": "markers",
         "name": "Cluster 3",
         "text": [
          "Jimmy Fallon",
          "Ellen DeGeneres",
          "Taylor Swift",
          "PRIYANKA",
          "Oprah Winfrey",
          "Demi Lovato",
          "KATY PERRY",
          "LeBron James",
          "Selena Gomez",
          "Justin Timberlake",
          "Khloé",
          "Shakira",
          "Rihanna",
          "Bruno Mars",
          "Shah Rukh Khan",
          "Hrithik Roshan",
          "Lil Wayne WEEZY F",
          "Kendall",
          "Liam",
          "Neymar Jr",
          "zayn",
          "Instagram",
          "One Direction",
          "Shawn Mendes"
         ],
         "textfont": {
          "color": "black",
          "size": 10
         },
         "textposition": "top center",
         "type": "scatter",
         "x": [
          5.578943729400635,
          3.020561933517456,
          2.838292360305786,
          2.676938056945801,
          2.3419997692108154,
          4.727717876434326,
          2.584683418273926,
          3.2750375270843506,
          5.2815117835998535,
          4.1804327964782715,
          2.991591215133667,
          4.557499408721924,
          4.202798366546631,
          2.830669641494751,
          3.227973461151123,
          2.2428383827209473,
          3.092921257019043,
          3.872424602508545,
          4.120580673217773,
          3.934150218963623,
          3.7812366485595703,
          5.204379081726074,
          5.546911239624023,
          4.031271457672119
         ],
         "y": [
          6.229361534118652,
          8.098709106445312,
          8.337353706359863,
          7.056023120880127,
          8.060338973999023,
          6.6098551750183105,
          8.307286262512207,
          7.623651504516602,
          6.450584888458252,
          6.8118133544921875,
          8.020374298095703,
          6.701446056365967,
          9.689616203308105,
          8.472805976867676,
          6.928738594055176,
          8.268567085266113,
          7.823542594909668,
          9.374940872192383,
          9.600382804870605,
          9.415765762329102,
          7.138449668884277,
          6.495683670043945,
          6.595546722412109,
          9.503640174865723
         ]
        },
        {
         "hovertext": [
          "Britney Spears 🌹🚀",
          "Narendra Modi",
          "Google",
          "Kaka",
          "Virat Kohli",
          "Neil Patrick Harris",
          "Andrés Iniesta",
          "Sachin Tendulkar",
          "Amitabh Bachchan",
          "Cristiano Ronaldo",
          "Arvind Kejriwal",
          "Mesut Özil"
         ],
         "marker": {
          "opacity": 0.4,
          "size": 6
         },
         "mode": "markers",
         "name": "Cluster 4",
         "text": [
          "Britney Spears 🌹🚀",
          "Narendra Modi",
          "Google",
          "Kaka",
          "Virat Kohli",
          "Neil Patrick Harris",
          "Andrés Iniesta",
          "Sachin Tendulkar",
          "Amitabh Bachchan",
          "Cristiano Ronaldo",
          "Arvind Kejriwal",
          "Mesut Özil"
         ],
         "textfont": {
          "color": "black",
          "size": 10
         },
         "textposition": "top center",
         "type": "scatter",
         "x": [
          -1.0275248289108276,
          0.8596133589744568,
          1.0169951915740967,
          -0.7991412281990051,
          0.448515921831131,
          -1.0617547035217285,
          -1.211490511894226,
          -0.7162720561027527,
          -0.019489409402012825,
          0.5509186387062073,
          0.6447886824607849,
          -0.5496295690536499
         ],
         "y": [
          6.331977367401123,
          5.8807172775268555,
          5.987893104553223,
          6.215700149536133,
          6.039287567138672,
          6.337929725646973,
          6.626250267028809,
          6.287146091461182,
          6.197083473205566,
          5.947317123413086,
          5.882596015930176,
          6.4175920486450195
         ]
        },
        {
         "hovertext": [
          "Lady Gaga",
          "Kevin Hart",
          "Kim Kardashian",
          "P!nk",
          "Akshay Kumar",
          "Alicia Keys",
          "Louis Tomlinson",
          "jlo",
          "Deepika Padukone",
          "Niall Horan",
          "Chris Brown",
          "Salman Khan",
          "Harry Styles.",
          "Kylie Jenner",
          "방탄소년단",
          "Premier League",
          "Manchester United"
         ],
         "marker": {
          "opacity": 0.4,
          "size": 6
         },
         "mode": "markers",
         "name": "Cluster 5",
         "text": [
          "Lady Gaga",
          "Kevin Hart",
          "Kim Kardashian",
          "P!nk",
          "Akshay Kumar",
          "Alicia Keys",
          "Louis Tomlinson",
          "jlo",
          "Deepika Padukone",
          "Niall Horan",
          "Chris Brown",
          "Salman Khan",
          "Harry Styles.",
          "Kylie Jenner",
          "방탄소년단",
          "Premier League",
          "Manchester United"
         ],
         "textfont": {
          "color": "black",
          "size": 10
         },
         "textposition": "top center",
         "type": "scatter",
         "x": [
          -0.6545667052268982,
          -3.674548864364624,
          -0.3957063853740692,
          -1.586522102355957,
          -0.9135838150978088,
          -1.9236336946487427,
          -1.2658025026321411,
          -2.5665829181671143,
          -1.4936784505844116,
          -3.4485130310058594,
          -3.558352470397949,
          -0.5448698401451111,
          -2.4715042114257812,
          -1.908084511756897,
          -3.248845338821411,
          -3.3438405990600586,
          -2.8997926712036133
         ],
         "y": [
          8.492267608642578,
          7.958853721618652,
          8.415005683898926,
          8.045096397399902,
          8.288492202758789,
          7.902658939361572,
          8.315631866455078,
          8.01130485534668,
          8.167279243469238,
          8.136960983276367,
          8.07894515991211,
          8.485724449157715,
          7.905248165130615,
          7.868341445922852,
          7.981959819793701,
          7.978054046630859,
          7.975168228149414
         ]
        }
       ],
       "layout": {
        "height": 500,
        "showlegend": true,
        "template": {
         "data": {
          "bar": [
           {
            "error_x": {
             "color": "#2a3f5f"
            },
            "error_y": {
             "color": "#2a3f5f"
            },
            "marker": {
             "line": {
              "color": "#E5ECF6",
              "width": 0.5
             },
             "pattern": {
              "fillmode": "overlay",
              "size": 10,
              "solidity": 0.2
             }
            },
            "type": "bar"
           }
          ],
          "barpolar": [
           {
            "marker": {
             "line": {
              "color": "#E5ECF6",
              "width": 0.5
             },
             "pattern": {
              "fillmode": "overlay",
              "size": 10,
              "solidity": 0.2
             }
            },
            "type": "barpolar"
           }
          ],
          "carpet": [
           {
            "aaxis": {
             "endlinecolor": "#2a3f5f",
             "gridcolor": "white",
             "linecolor": "white",
             "minorgridcolor": "white",
             "startlinecolor": "#2a3f5f"
            },
            "baxis": {
             "endlinecolor": "#2a3f5f",
             "gridcolor": "white",
             "linecolor": "white",
             "minorgridcolor": "white",
             "startlinecolor": "#2a3f5f"
            },
            "type": "carpet"
           }
          ],
          "choropleth": [
           {
            "colorbar": {
             "outlinewidth": 0,
             "ticks": ""
            },
            "type": "choropleth"
           }
          ],
          "contour": [
           {
            "colorbar": {
             "outlinewidth": 0,
             "ticks": ""
            },
            "colorscale": [
             [
              0,
              "#0d0887"
             ],
             [
              0.1111111111111111,
              "#46039f"
             ],
             [
              0.2222222222222222,
              "#7201a8"
             ],
             [
              0.3333333333333333,
              "#9c179e"
             ],
             [
              0.4444444444444444,
              "#bd3786"
             ],
             [
              0.5555555555555556,
              "#d8576b"
             ],
             [
              0.6666666666666666,
              "#ed7953"
             ],
             [
              0.7777777777777778,
              "#fb9f3a"
             ],
             [
              0.8888888888888888,
              "#fdca26"
             ],
             [
              1,
              "#f0f921"
             ]
            ],
            "type": "contour"
           }
          ],
          "contourcarpet": [
           {
            "colorbar": {
             "outlinewidth": 0,
             "ticks": ""
            },
            "type": "contourcarpet"
           }
          ],
          "heatmap": [
           {
            "colorbar": {
             "outlinewidth": 0,
             "ticks": ""
            },
            "colorscale": [
             [
              0,
              "#0d0887"
             ],
             [
              0.1111111111111111,
              "#46039f"
             ],
             [
              0.2222222222222222,
              "#7201a8"
             ],
             [
              0.3333333333333333,
              "#9c179e"
             ],
             [
              0.4444444444444444,
              "#bd3786"
             ],
             [
              0.5555555555555556,
              "#d8576b"
             ],
             [
              0.6666666666666666,
              "#ed7953"
             ],
             [
              0.7777777777777778,
              "#fb9f3a"
             ],
             [
              0.8888888888888888,
              "#fdca26"
             ],
             [
              1,
              "#f0f921"
             ]
            ],
            "type": "heatmap"
           }
          ],
          "heatmapgl": [
           {
            "colorbar": {
             "outlinewidth": 0,
             "ticks": ""
            },
            "colorscale": [
             [
              0,
              "#0d0887"
             ],
             [
              0.1111111111111111,
              "#46039f"
             ],
             [
              0.2222222222222222,
              "#7201a8"
             ],
             [
              0.3333333333333333,
              "#9c179e"
             ],
             [
              0.4444444444444444,
              "#bd3786"
             ],
             [
              0.5555555555555556,
              "#d8576b"
             ],
             [
              0.6666666666666666,
              "#ed7953"
             ],
             [
              0.7777777777777778,
              "#fb9f3a"
             ],
             [
              0.8888888888888888,
              "#fdca26"
             ],
             [
              1,
              "#f0f921"
             ]
            ],
            "type": "heatmapgl"
           }
          ],
          "histogram": [
           {
            "marker": {
             "pattern": {
              "fillmode": "overlay",
              "size": 10,
              "solidity": 0.2
             }
            },
            "type": "histogram"
           }
          ],
          "histogram2d": [
           {
            "colorbar": {
             "outlinewidth": 0,
             "ticks": ""
            },
            "colorscale": [
             [
              0,
              "#0d0887"
             ],
             [
              0.1111111111111111,
              "#46039f"
             ],
             [
              0.2222222222222222,
              "#7201a8"
             ],
             [
              0.3333333333333333,
              "#9c179e"
             ],
             [
              0.4444444444444444,
              "#bd3786"
             ],
             [
              0.5555555555555556,
              "#d8576b"
             ],
             [
              0.6666666666666666,
              "#ed7953"
             ],
             [
              0.7777777777777778,
              "#fb9f3a"
             ],
             [
              0.8888888888888888,
              "#fdca26"
             ],
             [
              1,
              "#f0f921"
             ]
            ],
            "type": "histogram2d"
           }
          ],
          "histogram2dcontour": [
           {
            "colorbar": {
             "outlinewidth": 0,
             "ticks": ""
            },
            "colorscale": [
             [
              0,
              "#0d0887"
             ],
             [
              0.1111111111111111,
              "#46039f"
             ],
             [
              0.2222222222222222,
              "#7201a8"
             ],
             [
              0.3333333333333333,
              "#9c179e"
             ],
             [
              0.4444444444444444,
              "#bd3786"
             ],
             [
              0.5555555555555556,
              "#d8576b"
             ],
             [
              0.6666666666666666,
              "#ed7953"
             ],
             [
              0.7777777777777778,
              "#fb9f3a"
             ],
             [
              0.8888888888888888,
              "#fdca26"
             ],
             [
              1,
              "#f0f921"
             ]
            ],
            "type": "histogram2dcontour"
           }
          ],
          "mesh3d": [
           {
            "colorbar": {
             "outlinewidth": 0,
             "ticks": ""
            },
            "type": "mesh3d"
           }
          ],
          "parcoords": [
           {
            "line": {
             "colorbar": {
              "outlinewidth": 0,
              "ticks": ""
             }
            },
            "type": "parcoords"
           }
          ],
          "pie": [
           {
            "automargin": true,
            "type": "pie"
           }
          ],
          "scatter": [
           {
            "fillpattern": {
             "fillmode": "overlay",
             "size": 10,
             "solidity": 0.2
            },
            "type": "scatter"
           }
          ],
          "scatter3d": [
           {
            "line": {
             "colorbar": {
              "outlinewidth": 0,
              "ticks": ""
             }
            },
            "marker": {
             "colorbar": {
              "outlinewidth": 0,
              "ticks": ""
             }
            },
            "type": "scatter3d"
           }
          ],
          "scattercarpet": [
           {
            "marker": {
             "colorbar": {
              "outlinewidth": 0,
              "ticks": ""
             }
            },
            "type": "scattercarpet"
           }
          ],
          "scattergeo": [
           {
            "marker": {
             "colorbar": {
              "outlinewidth": 0,
              "ticks": ""
             }
            },
            "type": "scattergeo"
           }
          ],
          "scattergl": [
           {
            "marker": {
             "colorbar": {
              "outlinewidth": 0,
              "ticks": ""
             }
            },
            "type": "scattergl"
           }
          ],
          "scattermapbox": [
           {
            "marker": {
             "colorbar": {
              "outlinewidth": 0,
              "ticks": ""
             }
            },
            "type": "scattermapbox"
           }
          ],
          "scatterpolar": [
           {
            "marker": {
             "colorbar": {
              "outlinewidth": 0,
              "ticks": ""
             }
            },
            "type": "scatterpolar"
           }
          ],
          "scatterpolargl": [
           {
            "marker": {
             "colorbar": {
              "outlinewidth": 0,
              "ticks": ""
             }
            },
            "type": "scatterpolargl"
           }
          ],
          "scatterternary": [
           {
            "marker": {
             "colorbar": {
              "outlinewidth": 0,
              "ticks": ""
             }
            },
            "type": "scatterternary"
           }
          ],
          "surface": [
           {
            "colorbar": {
             "outlinewidth": 0,
             "ticks": ""
            },
            "colorscale": [
             [
              0,
              "#0d0887"
             ],
             [
              0.1111111111111111,
              "#46039f"
             ],
             [
              0.2222222222222222,
              "#7201a8"
             ],
             [
              0.3333333333333333,
              "#9c179e"
             ],
             [
              0.4444444444444444,
              "#bd3786"
             ],
             [
              0.5555555555555556,
              "#d8576b"
             ],
             [
              0.6666666666666666,
              "#ed7953"
             ],
             [
              0.7777777777777778,
              "#fb9f3a"
             ],
             [
              0.8888888888888888,
              "#fdca26"
             ],
             [
              1,
              "#f0f921"
             ]
            ],
            "type": "surface"
           }
          ],
          "table": [
           {
            "cells": {
             "fill": {
              "color": "#EBF0F8"
             },
             "line": {
              "color": "white"
             }
            },
            "header": {
             "fill": {
              "color": "#C8D4E3"
             },
             "line": {
              "color": "white"
             }
            },
            "type": "table"
           }
          ]
         },
         "layout": {
          "annotationdefaults": {
           "arrowcolor": "#2a3f5f",
           "arrowhead": 0,
           "arrowwidth": 1
          },
          "autotypenumbers": "strict",
          "coloraxis": {
           "colorbar": {
            "outlinewidth": 0,
            "ticks": ""
           }
          },
          "colorscale": {
           "diverging": [
            [
             0,
             "#8e0152"
            ],
            [
             0.1,
             "#c51b7d"
            ],
            [
             0.2,
             "#de77ae"
            ],
            [
             0.3,
             "#f1b6da"
            ],
            [
             0.4,
             "#fde0ef"
            ],
            [
             0.5,
             "#f7f7f7"
            ],
            [
             0.6,
             "#e6f5d0"
            ],
            [
             0.7,
             "#b8e186"
            ],
            [
             0.8,
             "#7fbc41"
            ],
            [
             0.9,
             "#4d9221"
            ],
            [
             1,
             "#276419"
            ]
           ],
           "sequential": [
            [
             0,
             "#0d0887"
            ],
            [
             0.1111111111111111,
             "#46039f"
            ],
            [
             0.2222222222222222,
             "#7201a8"
            ],
            [
             0.3333333333333333,
             "#9c179e"
            ],
            [
             0.4444444444444444,
             "#bd3786"
            ],
            [
             0.5555555555555556,
             "#d8576b"
            ],
            [
             0.6666666666666666,
             "#ed7953"
            ],
            [
             0.7777777777777778,
             "#fb9f3a"
            ],
            [
             0.8888888888888888,
             "#fdca26"
            ],
            [
             1,
             "#f0f921"
            ]
           ],
           "sequentialminus": [
            [
             0,
             "#0d0887"
            ],
            [
             0.1111111111111111,
             "#46039f"
            ],
            [
             0.2222222222222222,
             "#7201a8"
            ],
            [
             0.3333333333333333,
             "#9c179e"
            ],
            [
             0.4444444444444444,
             "#bd3786"
            ],
            [
             0.5555555555555556,
             "#d8576b"
            ],
            [
             0.6666666666666666,
             "#ed7953"
            ],
            [
             0.7777777777777778,
             "#fb9f3a"
            ],
            [
             0.8888888888888888,
             "#fdca26"
            ],
            [
             1,
             "#f0f921"
            ]
           ]
          },
          "colorway": [
           "#636efa",
           "#EF553B",
           "#00cc96",
           "#ab63fa",
           "#FFA15A",
           "#19d3f3",
           "#FF6692",
           "#B6E880",
           "#FF97FF",
           "#FECB52"
          ],
          "font": {
           "color": "#2a3f5f"
          },
          "geo": {
           "bgcolor": "white",
           "lakecolor": "white",
           "landcolor": "#E5ECF6",
           "showlakes": true,
           "showland": true,
           "subunitcolor": "white"
          },
          "hoverlabel": {
           "align": "left"
          },
          "hovermode": "closest",
          "mapbox": {
           "style": "light"
          },
          "paper_bgcolor": "white",
          "plot_bgcolor": "#E5ECF6",
          "polar": {
           "angularaxis": {
            "gridcolor": "white",
            "linecolor": "white",
            "ticks": ""
           },
           "bgcolor": "#E5ECF6",
           "radialaxis": {
            "gridcolor": "white",
            "linecolor": "white",
            "ticks": ""
           }
          },
          "scene": {
           "xaxis": {
            "backgroundcolor": "#E5ECF6",
            "gridcolor": "white",
            "gridwidth": 2,
            "linecolor": "white",
            "showbackground": true,
            "ticks": "",
            "zerolinecolor": "white"
           },
           "yaxis": {
            "backgroundcolor": "#E5ECF6",
            "gridcolor": "white",
            "gridwidth": 2,
            "linecolor": "white",
            "showbackground": true,
            "ticks": "",
            "zerolinecolor": "white"
           },
           "zaxis": {
            "backgroundcolor": "#E5ECF6",
            "gridcolor": "white",
            "gridwidth": 2,
            "linecolor": "white",
            "showbackground": true,
            "ticks": "",
            "zerolinecolor": "white"
           }
          },
          "shapedefaults": {
           "line": {
            "color": "#2a3f5f"
           }
          },
          "ternary": {
           "aaxis": {
            "gridcolor": "white",
            "linecolor": "white",
            "ticks": ""
           },
           "baxis": {
            "gridcolor": "white",
            "linecolor": "white",
            "ticks": ""
           },
           "bgcolor": "#E5ECF6",
           "caxis": {
            "gridcolor": "white",
            "linecolor": "white",
            "ticks": ""
           }
          },
          "title": {
           "x": 0.05
          },
          "xaxis": {
           "automargin": true,
           "gridcolor": "white",
           "linecolor": "white",
           "ticks": "",
           "title": {
            "standoff": 15
           },
           "zerolinecolor": "white",
           "zerolinewidth": 2
          },
          "yaxis": {
           "automargin": true,
           "gridcolor": "white",
           "linecolor": "white",
           "ticks": "",
           "title": {
            "standoff": 15
           },
           "zerolinecolor": "white",
           "zerolinewidth": 2
          }
         }
        },
        "title": {
         "text": "Influence Clusters"
        },
        "width": 500,
        "xaxis": {
         "autorange": true,
         "range": [
          -4.71158886808272,
          11.903057345331865
         ],
         "type": "linear"
        },
        "yaxis": {
         "autorange": true,
         "range": [
          0.46960588051886054,
          10.296094817380004
         ],
         "type": "linear"
        }
       }
      },
      "image/png": "[encoded data removed]",
      "text/html": [
       "<div>                            <div id=\"02ec05c6-04bc-4a9d-93e2-399701dcdb4a\" class=\"plotly-graph-div\" style=\"height:500px; width:500px;\"></div>            <script type=\"text/javascript\">                require([\"plotly\"], function(Plotly) {                    window.PLOTLYENV=window.PLOTLYENV || {};                                    if (document.getElementById(\"02ec05c6-04bc-4a9d-93e2-399701dcdb4a\")) {                    Plotly.newPlot(                        \"02ec05c6-04bc-4a9d-93e2-399701dcdb4a\",                        [{\"hovertext\":[\"Barack Obama\",\"Joe Biden\",\"Bill Gates\",\"Emma Watson\",\"PMO India\",\"Hillary Clinton\",\"Amit Shah\",\"President Biden\"],\"marker\":{\"opacity\":0.4,\"size\":6},\"mode\":\"markers\",\"name\":\"Cluster 0\",\"text\":[\"Barack Obama\",\"Joe Biden\",\"Bill Gates\",\"Emma Watson\",\"PMO India\",\"Hillary Clinton\",\"Amit Shah\",\"President Biden\"],\"textfont\":{\"color\":\"black\",\"size\":10},\"textposition\":\"top center\",\"x\":[3.242805242538452,2.626960515975952,3.301204204559326,2.6304914951324463,2.8038454055786133,2.7239038944244385,3.3096280097961426,2.8245744705200195],\"y\":[1.4579298496246338,1.6934558153152466,1.4170297384262085,1.6367660760879517,1.4135091304779053,1.6970053911209106,1.5358946323394775,1.4427307844161987],\"type\":\"scatter\"},{\"hovertext\":[\"CNN Breaking News\",\"BBC News (World)\",\"CNN\",\"Twitter\",\"The New York Times\",\"Reuters\",\"BBC Breaking News\",\"The Economist\",\"National Geographic\",\"Wiz Khalifa\",\"Kourtney Kardashian\",\"Donald J. Trump\",\"Nicki Minaj\",\"Elon Musk\",\"Conan O'Brien\",\"Cardi B\"],\"marker\":{\"opacity\":0.4,\"size\":6},\"mode\":\"markers\",\"name\":\"Cluster 1\",\"text\":[\"CNN Breaking News\",\"BBC News (World)\",\"CNN\",\"Twitter\",\"The New York Times\",\"Reuters\",\"BBC Breaking News\",\"The Economist\",\"National Geographic\",\"Wiz Khalifa\",\"Kourtney Kardashian\",\"Donald J. Trump\",\"Nicki Minaj\",\"Elon Musk\",\"Conan O'Brien\",\"Cardi B\"],\"textfont\":{\"color\":\"black\",\"size\":10},\"textposition\":\"top center\",\"x\":[9.43071174621582,9.6104736328125,9.58578872680664,8.708308219909668,9.328303337097168,9.479960441589355,9.312378883361816,9.425735473632812,8.982054710388184,8.347631454467773,8.171409606933594,8.632654190063477,8.126615524291992,8.76632308959961,8.009427070617676,8.281824111938477],\"y\":[1.0760844945907593,1.2790107727050781,1.469619631767273,2.1273674964904785,1.748258352279663,1.6000264883041382,1.178924560546875,1.6672496795654297,2.034040927886963,2.2854390144348145,2.5974831581115723,1.2444509267807007,1.5857341289520264,2.1750569343566895,1.6201833486557007,1.351280689239502],\"type\":\"scatter\"},{\"hovertext\":[\"ESPN\",\"YouTube\",\"PlayStation\",\"NASA\",\"Real Madrid C.F.\",\"NFL\",\"NBA\",\"SportsCenter\",\"Drizzy\",\"Justin Bieber\",\"SpaceX\",\"FC Barcelona\",\"BIGHIT MUSIC\",\"Adele\",\"Whindersson\",\"netflixbrasil\",\"Miley Cyrus\",\"UEFA Champions League\",\"BTS_official\"],\"marker\":{\"opacity\":0.4,\"size\":6},\"mode\":\"markers\",\"name\":\"Cluster 2\",\"text\":[\"ESPN\",\"YouTube\",\"PlayStation\",\"NASA\",\"Real Madrid C.F.\",\"NFL\",\"NBA\",\"SportsCenter\",\"Drizzy\",\"Justin Bieber\",\"SpaceX\",\"FC Barcelona\",\"BIGHIT MUSIC\",\"Adele\",\"Whindersson\",\"netflixbrasil\",\"Miley Cyrus\",\"UEFA Champions League\",\"BTS_official\"],\"textfont\":{\"color\":\"black\",\"size\":10},\"textposition\":\"top center\",\"x\":[9.406271934509277,10.275331497192383,10.155588150024414,9.62651538848877,10.86601734161377,10.049690246582031,10.353240013122559,9.242019653320312,10.269326210021973,9.698213577270508,10.842955589294434,9.47856330871582,10.788187980651855,9.247211456298828,9.654964447021484,9.661396980285645,9.88479995727539,9.336018562316895,10.561676979064941],\"y\":[7.472626686096191,6.948455810546875,7.023266792297363,7.094994068145752,7.362885475158691,7.317403316497803,7.774706840515137,7.6645379066467285,6.938611030578613,7.680204391479492,7.165670871734619,7.29656457901001,7.314979076385498,7.916539192199707,8.249205589294434,8.235363960266113,7.694721698760986,8.331960678100586,7.485793590545654],\"type\":\"scatter\"},{\"hovertext\":[\"Jimmy Fallon\",\"Ellen DeGeneres\",\"Taylor Swift\",\"PRIYANKA\",\"Oprah Winfrey\",\"Demi Lovato\",\"KATY PERRY\",\"LeBron James\",\"Selena Gomez\",\"Justin Timberlake\",\"Khlo\\u00e9\",\"Shakira\",\"Rihanna\",\"Bruno Mars\",\"Shah Rukh Khan\",\"Hrithik Roshan\",\"Lil Wayne WEEZY F\",\"Kendall\",\"Liam\",\"Neymar Jr\",\"zayn\",\"Instagram\",\"One Direction\",\"Shawn Mendes\"],\"marker\":{\"opacity\":0.4,\"size\":6},\"mode\":\"markers\",\"name\":\"Cluster 3\",\"text\":[\"Jimmy Fallon\",\"Ellen DeGeneres\",\"Taylor Swift\",\"PRIYANKA\",\"Oprah Winfrey\",\"Demi Lovato\",\"KATY PERRY\",\"LeBron James\",\"Selena Gomez\",\"Justin Timberlake\",\"Khlo\\u00e9\",\"Shakira\",\"Rihanna\",\"Bruno Mars\",\"Shah Rukh Khan\",\"Hrithik Roshan\",\"Lil Wayne WEEZY F\",\"Kendall\",\"Liam\",\"Neymar Jr\",\"zayn\",\"Instagram\",\"One Direction\",\"Shawn Mendes\"],\"textfont\":{\"color\":\"black\",\"size\":10},\"textposition\":\"top center\",\"x\":[5.578943729400635,3.020561933517456,2.838292360305786,2.676938056945801,2.3419997692108154,4.727717876434326,2.584683418273926,3.2750375270843506,5.2815117835998535,4.1804327964782715,2.991591215133667,4.557499408721924,4.202798366546631,2.830669641494751,3.227973461151123,2.2428383827209473,3.092921257019043,3.872424602508545,4.120580673217773,3.934150218963623,3.7812366485595703,5.204379081726074,5.546911239624023,4.031271457672119],\"y\":[6.229361534118652,8.098709106445312,8.337353706359863,7.056023120880127,8.060338973999023,6.6098551750183105,8.307286262512207,7.623651504516602,6.450584888458252,6.8118133544921875,8.020374298095703,6.701446056365967,9.689616203308105,8.472805976867676,6.928738594055176,8.268567085266113,7.823542594909668,9.374940872192383,9.600382804870605,9.415765762329102,7.138449668884277,6.495683670043945,6.595546722412109,9.503640174865723],\"type\":\"scatter\"},{\"hovertext\":[\"Britney Spears \\ud83c\\udf39\\ud83d\\ude80\",\"Narendra Modi\",\"Google\",\"Kaka\",\"Virat Kohli\",\"Neil Patrick Harris\",\"Andr\\u00e9s Iniesta\",\"Sachin Tendulkar\",\"Amitabh Bachchan\",\"Cristiano Ronaldo\",\"Arvind Kejriwal\",\"Mesut \\u00d6zil\"],\"marker\":{\"opacity\":0.4,\"size\":6},\"mode\":\"markers\",\"name\":\"Cluster 4\",\"text\":[\"Britney Spears \\ud83c\\udf39\\ud83d\\ude80\",\"Narendra Modi\",\"Google\",\"Kaka\",\"Virat Kohli\",\"Neil Patrick Harris\",\"Andr\\u00e9s Iniesta\",\"Sachin Tendulkar\",\"Amitabh Bachchan\",\"Cristiano Ronaldo\",\"Arvind Kejriwal\",\"Mesut \\u00d6zil\"],\"textfont\":{\"color\":\"black\",\"size\":10},\"textposition\":\"top center\",\"x\":[-1.0275248289108276,0.8596133589744568,1.0169951915740967,-0.7991412281990051,0.448515921831131,-1.0617547035217285,-1.211490511894226,-0.7162720561027527,-0.019489409402012825,0.5509186387062073,0.6447886824607849,-0.5496295690536499],\"y\":[6.331977367401123,5.8807172775268555,5.987893104553223,6.215700149536133,6.039287567138672,6.337929725646973,6.626250267028809,6.287146091461182,6.197083473205566,5.947317123413086,5.882596015930176,6.4175920486450195],\"type\":\"scatter\"},{\"hovertext\":[\"Lady Gaga\",\"Kevin Hart\",\"Kim Kardashian\",\"P!nk\",\"Akshay Kumar\",\"Alicia Keys\",\"Louis Tomlinson\",\"jlo\",\"Deepika Padukone\",\"Niall Horan\",\"Chris Brown\",\"Salman Khan\",\"Harry Styles.\",\"Kylie Jenner\",\"\\ubc29\\ud0c4\\uc18c\\ub144\\ub2e8\",\"Premier League\",\"Manchester United\"],\"marker\":{\"opacity\":0.4,\"size\":6},\"mode\":\"markers\",\"name\":\"Cluster 5\",\"text\":[\"Lady Gaga\",\"Kevin Hart\",\"Kim Kardashian\",\"P!nk\",\"Akshay Kumar\",\"Alicia Keys\",\"Louis Tomlinson\",\"jlo\",\"Deepika Padukone\",\"Niall Horan\",\"Chris Brown\",\"Salman Khan\",\"Harry Styles.\",\"Kylie Jenner\",\"\\ubc29\\ud0c4\\uc18c\\ub144\\ub2e8\",\"Premier League\",\"Manchester United\"],\"textfont\":{\"color\":\"black\",\"size\":10},\"textposition\":\"top center\",\"x\":[-0.6545667052268982,-3.674548864364624,-0.3957063853740692,-1.586522102355957,-0.9135838150978088,-1.9236336946487427,-1.2658025026321411,-2.5665829181671143,-1.4936784505844116,-3.4485130310058594,-3.558352470397949,-0.5448698401451111,-2.4715042114257812,-1.908084511756897,-3.248845338821411,-3.3438405990600586,-2.8997926712036133],\"y\":[8.492267608642578,7.958853721618652,8.415005683898926,8.045096397399902,8.288492202758789,7.902658939361572,8.315631866455078,8.01130485534668,8.167279243469238,8.136960983276367,8.07894515991211,8.485724449157715,7.905248165130615,7.868341445922852,7.981959819793701,7.978054046630859,7.975168228149414],\"type\":\"scatter\"}],                        {\"template\":{\"data\":{\"histogram2dcontour\":[{\"type\":\"histogram2dcontour\",\"colorbar\":{\"outlinewidth\":0,\"ticks\":\"\"},\"colorscale\":[[0.0,\"#0d0887\"],[0.1111111111111111,\"#46039f\"],[0.2222222222222222,\"#7201a8\"],[0.3333333333333333,\"#9c179e\"],[0.4444444444444444,\"#bd3786\"],[0.5555555555555556,\"#d8576b\"],[0.6666666666666666,\"#ed7953\"],[0.7777777777777778,\"#fb9f3a\"],[0.8888888888888888,\"#fdca26\"],[1.0,\"#f0f921\"]]}],\"choropleth\":[{\"type\":\"choropleth\",\"colorbar\":{\"outlinewidth\":0,\"ticks\":\"\"}}],\"histogram2d\":[{\"type\":\"histogram2d\",\"colorbar\":{\"outlinewidth\":0,\"ticks\":\"\"},\"colorscale\":[[0.0,\"#0d0887\"],[0.1111111111111111,\"#46039f\"],[0.2222222222222222,\"#7201a8\"],[0.3333333333333333,\"#9c179e\"],[0.4444444444444444,\"#bd3786\"],[0.5555555555555556,\"#d8576b\"],[0.6666666666666666,\"#ed7953\"],[0.7777777777777778,\"#fb9f3a\"],[0.8888888888888888,\"#fdca26\"],[1.0,\"#f0f921\"]]}],\"heatmap\":[{\"type\":\"heatmap\",\"colorbar\":{\"outlinewidth\":0,\"ticks\":\"\"},\"colorscale\":[[0.0,\"#0d0887\"],[0.1111111111111111,\"#46039f\"],[0.2222222222222222,\"#7201a8\"],[0.3333333333333333,\"#9c179e\"],[0.4444444444444444,\"#bd3786\"],[0.5555555555555556,\"#d8576b\"],[0.6666666666666666,\"#ed7953\"],[0.7777777777777778,\"#fb9f3a\"],[0.8888888888888888,\"#fdca26\"],[1.0,\"#f0f921\"]]}],\"heatmapgl\":[{\"type\":\"heatmapgl\",\"colorbar\":{\"outlinewidth\":0,\"ticks\":\"\"},\"colorscale\":[[0.0,\"#0d0887\"],[0.1111111111111111,\"#46039f\"],[0.2222222222222222,\"#7201a8\"],[0.3333333333333333,\"#9c179e\"],[0.4444444444444444,\"#bd3786\"],[0.5555555555555556,\"#d8576b\"],[0.6666666666666666,\"#ed7953\"],[0.7777777777777778,\"#fb9f3a\"],[0.8888888888888888,\"#fdca26\"],[1.0,\"#f0f921\"]]}],\"contourcarpet\":[{\"type\":\"contourcarpet\",\"colorbar\":{\"outlinewidth\":0,\"ticks\":\"\"}}],\"contour\":[{\"type\":\"contour\",\"colorbar\":{\"outlinewidth\":0,\"ticks\":\"\"},\"colorscale\":[[0.0,\"#0d0887\"],[0.1111111111111111,\"#46039f\"],[0.2222222222222222,\"#7201a8\"],[0.3333333333333333,\"#9c179e\"],[0.4444444444444444,\"#bd3786\"],[0.5555555555555556,\"#d8576b\"],[0.6666666666666666,\"#ed7953\"],[0.7777777777777778,\"#fb9f3a\"],[0.8888888888888888,\"#fdca26\"],[1.0,\"#f0f921\"]]}],\"surface\":[{\"type\":\"surface\",\"colorbar\":{\"outlinewidth\":0,\"ticks\":\"\"},\"colorscale\":[[0.0,\"#0d0887\"],[0.1111111111111111,\"#46039f\"],[0.2222222222222222,\"#7201a8\"],[0.3333333333333333,\"#9c179e\"],[0.4444444444444444,\"#bd3786\"],[0.5555555555555556,\"#d8576b\"],[0.6666666666666666,\"#ed7953\"],[0.7777777777777778,\"#fb9f3a\"],[0.8888888888888888,\"#fdca26\"],[1.0,\"#f0f921\"]]}],\"mesh3d\":[{\"type\":\"mesh3d\",\"colorbar\":{\"outlinewidth\":0,\"ticks\":\"\"}}],\"scatter\":[{\"fillpattern\":{\"fillmode\":\"overlay\",\"size\":10,\"solidity\":0.2},\"type\":\"scatter\"}],\"parcoords\":[{\"type\":\"parcoords\",\"line\":{\"colorbar\":{\"outlinewidth\":0,\"ticks\":\"\"}}}],\"scatterpolargl\":[{\"type\":\"scatterpolargl\",\"marker\":{\"colorbar\":{\"outlinewidth\":0,\"ticks\":\"\"}}}],\"bar\":[{\"error_x\":{\"color\":\"#2a3f5f\"},\"error_y\":{\"color\":\"#2a3f5f\"},\"marker\":{\"line\":{\"color\":\"#E5ECF6\",\"width\":0.5},\"pattern\":{\"fillmode\":\"overlay\",\"size\":10,\"solidity\":0.2}},\"type\":\"bar\"}],\"scattergeo\":[{\"type\":\"scattergeo\",\"marker\":{\"colorbar\":{\"outlinewidth\":0,\"ticks\":\"\"}}}],\"scatterpolar\":[{\"type\":\"scatterpolar\",\"marker\":{\"colorbar\":{\"outlinewidth\":0,\"ticks\":\"\"}}}],\"histogram\":[{\"marker\":{\"pattern\":{\"fillmode\":\"overlay\",\"size\":10,\"solidity\":0.2}},\"type\":\"histogram\"}],\"scattergl\":[{\"type\":\"scattergl\",\"marker\":{\"colorbar\":{\"outlinewidth\":0,\"ticks\":\"\"}}}],\"scatter3d\":[{\"type\":\"scatter3d\",\"line\":{\"colorbar\":{\"outlinewidth\":0,\"ticks\":\"\"}},\"marker\":{\"colorbar\":{\"outlinewidth\":0,\"ticks\":\"\"}}}],\"scattermapbox\":[{\"type\":\"scattermapbox\",\"marker\":{\"colorbar\":{\"outlinewidth\":0,\"ticks\":\"\"}}}],\"scatterternary\":[{\"type\":\"scatterternary\",\"marker\":{\"colorbar\":{\"outlinewidth\":0,\"ticks\":\"\"}}}],\"scattercarpet\":[{\"type\":\"scattercarpet\",\"marker\":{\"colorbar\":{\"outlinewidth\":0,\"ticks\":\"\"}}}],\"carpet\":[{\"aaxis\":{\"endlinecolor\":\"#2a3f5f\",\"gridcolor\":\"white\",\"linecolor\":\"white\",\"minorgridcolor\":\"white\",\"startlinecolor\":\"#2a3f5f\"},\"baxis\":{\"endlinecolor\":\"#2a3f5f\",\"gridcolor\":\"white\",\"linecolor\":\"white\",\"minorgridcolor\":\"white\",\"startlinecolor\":\"#2a3f5f\"},\"type\":\"carpet\"}],\"table\":[{\"cells\":{\"fill\":{\"color\":\"#EBF0F8\"},\"line\":{\"color\":\"white\"}},\"header\":{\"fill\":{\"color\":\"#C8D4E3\"},\"line\":{\"color\":\"white\"}},\"type\":\"table\"}],\"barpolar\":[{\"marker\":{\"line\":{\"color\":\"#E5ECF6\",\"width\":0.5},\"pattern\":{\"fillmode\":\"overlay\",\"size\":10,\"solidity\":0.2}},\"type\":\"barpolar\"}],\"pie\":[{\"automargin\":true,\"type\":\"pie\"}]},\"layout\":{\"autotypenumbers\":\"strict\",\"colorway\":[\"#636efa\",\"#EF553B\",\"#00cc96\",\"#ab63fa\",\"#FFA15A\",\"#19d3f3\",\"#FF6692\",\"#B6E880\",\"#FF97FF\",\"#FECB52\"],\"font\":{\"color\":\"#2a3f5f\"},\"hovermode\":\"closest\",\"hoverlabel\":{\"align\":\"left\"},\"paper_bgcolor\":\"white\",\"plot_bgcolor\":\"#E5ECF6\",\"polar\":{\"bgcolor\":\"#E5ECF6\",\"angularaxis\":{\"gridcolor\":\"white\",\"linecolor\":\"white\",\"ticks\":\"\"},\"radialaxis\":{\"gridcolor\":\"white\",\"linecolor\":\"white\",\"ticks\":\"\"}},\"ternary\":{\"bgcolor\":\"#E5ECF6\",\"aaxis\":{\"gridcolor\":\"white\",\"linecolor\":\"white\",\"ticks\":\"\"},\"baxis\":{\"gridcolor\":\"white\",\"linecolor\":\"white\",\"ticks\":\"\"},\"caxis\":{\"gridcolor\":\"white\",\"linecolor\":\"white\",\"ticks\":\"\"}},\"coloraxis\":{\"colorbar\":{\"outlinewidth\":0,\"ticks\":\"\"}},\"colorscale\":{\"sequential\":[[0.0,\"#0d0887\"],[0.1111111111111111,\"#46039f\"],[0.2222222222222222,\"#7201a8\"],[0.3333333333333333,\"#9c179e\"],[0.4444444444444444,\"#bd3786\"],[0.5555555555555556,\"#d8576b\"],[0.6666666666666666,\"#ed7953\"],[0.7777777777777778,\"#fb9f3a\"],[0.8888888888888888,\"#fdca26\"],[1.0,\"#f0f921\"]],\"sequentialminus\":[[0.0,\"#0d0887\"],[0.1111111111111111,\"#46039f\"],[0.2222222222222222,\"#7201a8\"],[0.3333333333333333,\"#9c179e\"],[0.4444444444444444,\"#bd3786\"],[0.5555555555555556,\"#d8576b\"],[0.6666666666666666,\"#ed7953\"],[0.7777777777777778,\"#fb9f3a\"],[0.8888888888888888,\"#fdca26\"],[1.0,\"#f0f921\"]],\"diverging\":[[0,\"#8e0152\"],[0.1,\"#c51b7d\"],[0.2,\"#de77ae\"],[0.3,\"#f1b6da\"],[0.4,\"#fde0ef\"],[0.5,\"#f7f7f7\"],[0.6,\"#e6f5d0\"],[0.7,\"#b8e186\"],[0.8,\"#7fbc41\"],[0.9,\"#4d9221\"],[1,\"#276419\"]]},\"xaxis\":{\"gridcolor\":\"white\",\"linecolor\":\"white\",\"ticks\":\"\",\"title\":{\"standoff\":15},\"zerolinecolor\":\"white\",\"automargin\":true,\"zerolinewidth\":2},\"yaxis\":{\"gridcolor\":\"white\",\"linecolor\":\"white\",\"ticks\":\"\",\"title\":{\"standoff\":15},\"zerolinecolor\":\"white\",\"automargin\":true,\"zerolinewidth\":2},\"scene\":{\"xaxis\":{\"backgroundcolor\":\"#E5ECF6\",\"gridcolor\":\"white\",\"linecolor\":\"white\",\"showbackground\":true,\"ticks\":\"\",\"zerolinecolor\":\"white\",\"gridwidth\":2},\"yaxis\":{\"backgroundcolor\":\"#E5ECF6\",\"gridcolor\":\"white\",\"linecolor\":\"white\",\"showbackground\":true,\"ticks\":\"\",\"zerolinecolor\":\"white\",\"gridwidth\":2},\"zaxis\":{\"backgroundcolor\":\"#E5ECF6\",\"gridcolor\":\"white\",\"linecolor\":\"white\",\"showbackground\":true,\"ticks\":\"\",\"zerolinecolor\":\"white\",\"gridwidth\":2}},\"shapedefaults\":{\"line\":{\"color\":\"#2a3f5f\"}},\"annotationdefaults\":{\"arrowcolor\":\"#2a3f5f\",\"arrowhead\":0,\"arrowwidth\":1},\"geo\":{\"bgcolor\":\"white\",\"landcolor\":\"#E5ECF6\",\"subunitcolor\":\"white\",\"showland\":true,\"showlakes\":true,\"lakecolor\":\"white\"},\"title\":{\"x\":0.05},\"mapbox\":{\"style\":\"light\"}}},\"title\":{\"text\":\"Influence Clusters\"},\"showlegend\":true,\"width\":500,\"height\":500},                        {\"responsive\": true}                    ).then(function(){\n",
       "                            \n",
       "var gd = document.getElementById('02ec05c6-04bc-4a9d-93e2-399701dcdb4a');\n",
       "var x = new MutationObserver(function (mutations, observer) {{\n",
       "        var display = window.getComputedStyle(gd).display;\n",
       "        if (!display || display === 'none') {{\n",
       "            console.log([gd, 'removed!']);\n",
       "            Plotly.purge(gd);\n",
       "            observer.disconnect();\n",
       "        }}\n",
       "}});\n",
       "\n",
       "// Listen for the removal of the full notebook cells\n",
       "var notebookContainer = gd.closest('#notebook-container');\n",
       "if (notebookContainer) {{\n",
       "    x.observe(notebookContainer, {childList: true});\n",
       "}}\n",
       "\n",
       "// Listen for the clearing of the current output cell\n",
       "var outputEl = gd.closest('.output');\n",
       "if (outputEl) {{\n",
       "    x.observe(outputEl, {childList: true});\n",
       "}}\n",
       "\n",
       "                        })                };                });            </script>        </div>"
      ]
     },
     "metadata": {},
     "output_type": "display_data"
    }
   ],
   "source": [
    "# Create a sample DataFrame\n",
    "df = influence_metrics_final\n",
    "\n",
    "# Run UmapHdbscanBokeh\n",
    "ca = ClusterAnalysis(df, n_neighbors=5, min_cluster_size=5, min_dist=0.09, metric='euclidean')\n",
    "ca.run()"
   ]
  },
  {
   "cell_type": "markdown",
   "id": "642dd8ea-3d43-450a-b3cb-999d1fb7f4ce",
   "metadata": {},
   "source": [
    "# Analyse Clusters"
   ]
  },
  {
   "cell_type": "code",
   "execution_count": 41,
   "id": "9a76cd71-ab82-40c0-9fdf-b4a1408d175c",
   "metadata": {
    "tags": []
   },
   "outputs": [
    {
     "data": {
      "application/vnd.plotly.v1+json": {
       "config": {
        "plotlyServerURL": "https://plot.ly"
       },
       "data": [
        {
         "alignmentgroup": "True",
         "hovertemplate": "cluster=%{x}<br>followers=%{y}<extra></extra>",
         "legendgroup": "1",
         "marker": {
          "color": "#636efa"
         },
         "name": "1",
         "notched": false,
         "offsetgroup": "1",
         "orientation": "v",
         "showlegend": true,
         "type": "box",
         "x": [
          1,
          1,
          1,
          1,
          1,
          1,
          1,
          1,
          1,
          1,
          1,
          1,
          1,
          1,
          1,
          1
         ],
         "x0": " ",
         "xaxis": "x",
         "y": [
          64126921,
          39693022,
          61305608,
          64895797.62820513,
          54991626,
          25737525,
          51670473,
          27216235,
          28846062,
          28979343.5,
          25406760.83561644,
          81405696.36363636,
          15719825.739130436,
          105837159.65625,
          27944353.469387755,
          22602017.44230769
         ],
         "y0": " ",
         "yaxis": "y"
        },
        {
         "alignmentgroup": "True",
         "hovertemplate": "cluster=%{x}<br>followers=%{y}<extra></extra>",
         "legendgroup": "0",
         "marker": {
          "color": "#EF553B"
         },
         "name": "0",
         "notched": false,
         "offsetgroup": "0",
         "orientation": "v",
         "showlegend": true,
         "type": "box",
         "x": [
          0,
          0,
          0,
          0,
          0,
          0,
          0,
          0
         ],
         "x0": " ",
         "xaxis": "x",
         "y": [
          123521391.39784946,
          37086490,
          45485126.93181818,
          23503522.588235293,
          50610912.27419355,
          23211912.493670885,
          30945615.2,
          28445084.408163264
         ],
         "y0": " ",
         "yaxis": "y"
        },
        {
         "alignmentgroup": "True",
         "hovertemplate": "cluster=%{x}<br>followers=%{y}<extra></extra>",
         "legendgroup": "2",
         "marker": {
          "color": "#00cc96"
         },
         "name": "2",
         "notched": false,
         "offsetgroup": "2",
         "orientation": "v",
         "showlegend": true,
         "type": "box",
         "x": [
          2,
          2,
          2,
          2,
          2,
          2,
          2,
          2,
          2,
          2,
          2,
          2,
          2,
          2,
          2,
          2,
          2,
          2,
          2
         ],
         "x0": " ",
         "xaxis": "x",
         "y": [
          45484102,
          77216655.92553191,
          29073165.45945946,
          70682340.36904761,
          47188439,
          32893900,
          42748712,
          41537310,
          35625873.89473684,
          95387569.48979592,
          28632236,
          46068278.766666666,
          26873251,
          26620078.67105263,
          26807406,
          25782224,
          43792934.92727273,
          47058961.104477614,
          42810716
         ],
         "y0": " ",
         "yaxis": "y"
        },
        {
         "alignmentgroup": "True",
         "hovertemplate": "cluster=%{x}<br>followers=%{y}<extra></extra>",
         "legendgroup": "5",
         "marker": {
          "color": "#ab63fa"
         },
         "name": "5",
         "notched": false,
         "offsetgroup": "5",
         "orientation": "v",
         "showlegend": true,
         "type": "box",
         "x": [
          5,
          5,
          5,
          5,
          5,
          5,
          5,
          5,
          5,
          5,
          5,
          5,
          5,
          5,
          5,
          5,
          5
         ],
         "x0": " ",
         "xaxis": "x",
         "y": [
          62467343.95588236,
          33584479.95522388,
          73858592.46428572,
          24020763.898550726,
          44991377.974683546,
          21103220.649122808,
          34200852.63636363,
          37316520.44444445,
          28193717.03333333,
          35361061.13114754,
          31074602.620689657,
          43327856.32876712,
          38309198,
          36808236.76923077,
          42929658,
          39883238,
          33173515.88636364
         ],
         "y0": " ",
         "yaxis": "y"
        },
        {
         "alignmentgroup": "True",
         "hovertemplate": "cluster=%{x}<br>followers=%{y}<extra></extra>",
         "legendgroup": "3",
         "marker": {
          "color": "#FFA15A"
         },
         "name": "3",
         "notched": false,
         "offsetgroup": "3",
         "orientation": "v",
         "showlegend": true,
         "type": "box",
         "x": [
          3,
          3,
          3,
          3,
          3,
          3,
          3,
          3,
          3,
          3,
          3,
          3,
          3,
          3,
          3,
          3,
          3,
          3,
          3,
          3,
          3,
          3,
          3,
          3
         ],
         "x0": " ",
         "xaxis": "x",
         "y": [
          47685280.76190476,
          76393170,
          72233492.02150537,
          26082713.387096774,
          35402493.11764706,
          49091848.31884058,
          97703901.92307691,
          37302286.27160494,
          60628678.39285714,
          45752186.79487179,
          24153747.902777776,
          42736683.09677419,
          106828627.81944443,
          31222531.15492958,
          7849409.380952381,
          30018949.94520548,
          34486401.76388889,
          22042396.36,
          28807627.11764706,
          61975168,
          28193606.24,
          33725897,
          30385876.486486487,
          21066886.75342466
         ],
         "y0": " ",
         "yaxis": "y"
        },
        {
         "alignmentgroup": "True",
         "hovertemplate": "cluster=%{x}<br>followers=%{y}<extra></extra>",
         "legendgroup": "4",
         "marker": {
          "color": "#19d3f3"
         },
         "name": "4",
         "notched": false,
         "offsetgroup": "4",
         "orientation": "v",
         "showlegend": true,
         "type": "box",
         "x": [
          4,
          4,
          4,
          4,
          4,
          4,
          4,
          4,
          4,
          4,
          4,
          4
         ],
         "x0": " ",
         "xaxis": "x",
         "y": [
          54966985.018867925,
          60190152.27692308,
          27621707.580645163,
          23071355.606060605,
          52603837.31707317,
          23790695.90425532,
          12772727.5,
          35059588.45348837,
          41528727.23076923,
          106533276.23076925,
          12011090,
          23868544.70689655
         ],
         "y0": " ",
         "yaxis": "y"
        }
       ],
       "layout": {
        "autosize": true,
        "boxmode": "overlay",
        "legend": {
         "title": {
          "text": "Cluster"
         },
         "tracegroupgap": 0
        },
        "margin": {
         "t": 60
        },
        "template": {
         "data": {
          "bar": [
           {
            "error_x": {
             "color": "#2a3f5f"
            },
            "error_y": {
             "color": "#2a3f5f"
            },
            "marker": {
             "line": {
              "color": "#E5ECF6",
              "width": 0.5
             },
             "pattern": {
              "fillmode": "overlay",
              "size": 10,
              "solidity": 0.2
             }
            },
            "type": "bar"
           }
          ],
          "barpolar": [
           {
            "marker": {
             "line": {
              "color": "#E5ECF6",
              "width": 0.5
             },
             "pattern": {
              "fillmode": "overlay",
              "size": 10,
              "solidity": 0.2
             }
            },
            "type": "barpolar"
           }
          ],
          "carpet": [
           {
            "aaxis": {
             "endlinecolor": "#2a3f5f",
             "gridcolor": "white",
             "linecolor": "white",
             "minorgridcolor": "white",
             "startlinecolor": "#2a3f5f"
            },
            "baxis": {
             "endlinecolor": "#2a3f5f",
             "gridcolor": "white",
             "linecolor": "white",
             "minorgridcolor": "white",
             "startlinecolor": "#2a3f5f"
            },
            "type": "carpet"
           }
          ],
          "choropleth": [
           {
            "colorbar": {
             "outlinewidth": 0,
             "ticks": ""
            },
            "type": "choropleth"
           }
          ],
          "contour": [
           {
            "colorbar": {
             "outlinewidth": 0,
             "ticks": ""
            },
            "colorscale": [
             [
              0,
              "#0d0887"
             ],
             [
              0.1111111111111111,
              "#46039f"
             ],
             [
              0.2222222222222222,
              "#7201a8"
             ],
             [
              0.3333333333333333,
              "#9c179e"
             ],
             [
              0.4444444444444444,
              "#bd3786"
             ],
             [
              0.5555555555555556,
              "#d8576b"
             ],
             [
              0.6666666666666666,
              "#ed7953"
             ],
             [
              0.7777777777777778,
              "#fb9f3a"
             ],
             [
              0.8888888888888888,
              "#fdca26"
             ],
             [
              1,
              "#f0f921"
             ]
            ],
            "type": "contour"
           }
          ],
          "contourcarpet": [
           {
            "colorbar": {
             "outlinewidth": 0,
             "ticks": ""
            },
            "type": "contourcarpet"
           }
          ],
          "heatmap": [
           {
            "colorbar": {
             "outlinewidth": 0,
             "ticks": ""
            },
            "colorscale": [
             [
              0,
              "#0d0887"
             ],
             [
              0.1111111111111111,
              "#46039f"
             ],
             [
              0.2222222222222222,
              "#7201a8"
             ],
             [
              0.3333333333333333,
              "#9c179e"
             ],
             [
              0.4444444444444444,
              "#bd3786"
             ],
             [
              0.5555555555555556,
              "#d8576b"
             ],
             [
              0.6666666666666666,
              "#ed7953"
             ],
             [
              0.7777777777777778,
              "#fb9f3a"
             ],
             [
              0.8888888888888888,
              "#fdca26"
             ],
             [
              1,
              "#f0f921"
             ]
            ],
            "type": "heatmap"
           }
          ],
          "heatmapgl": [
           {
            "colorbar": {
             "outlinewidth": 0,
             "ticks": ""
            },
            "colorscale": [
             [
              0,
              "#0d0887"
             ],
             [
              0.1111111111111111,
              "#46039f"
             ],
             [
              0.2222222222222222,
              "#7201a8"
             ],
             [
              0.3333333333333333,
              "#9c179e"
             ],
             [
              0.4444444444444444,
              "#bd3786"
             ],
             [
              0.5555555555555556,
              "#d8576b"
             ],
             [
              0.6666666666666666,
              "#ed7953"
             ],
             [
              0.7777777777777778,
              "#fb9f3a"
             ],
             [
              0.8888888888888888,
              "#fdca26"
             ],
             [
              1,
              "#f0f921"
             ]
            ],
            "type": "heatmapgl"
           }
          ],
          "histogram": [
           {
            "marker": {
             "pattern": {
              "fillmode": "overlay",
              "size": 10,
              "solidity": 0.2
             }
            },
            "type": "histogram"
           }
          ],
          "histogram2d": [
           {
            "colorbar": {
             "outlinewidth": 0,
             "ticks": ""
            },
            "colorscale": [
             [
              0,
              "#0d0887"
             ],
             [
              0.1111111111111111,
              "#46039f"
             ],
             [
              0.2222222222222222,
              "#7201a8"
             ],
             [
              0.3333333333333333,
              "#9c179e"
             ],
             [
              0.4444444444444444,
              "#bd3786"
             ],
             [
              0.5555555555555556,
              "#d8576b"
             ],
             [
              0.6666666666666666,
              "#ed7953"
             ],
             [
              0.7777777777777778,
              "#fb9f3a"
             ],
             [
              0.8888888888888888,
              "#fdca26"
             ],
             [
              1,
              "#f0f921"
             ]
            ],
            "type": "histogram2d"
           }
          ],
          "histogram2dcontour": [
           {
            "colorbar": {
             "outlinewidth": 0,
             "ticks": ""
            },
            "colorscale": [
             [
              0,
              "#0d0887"
             ],
             [
              0.1111111111111111,
              "#46039f"
             ],
             [
              0.2222222222222222,
              "#7201a8"
             ],
             [
              0.3333333333333333,
              "#9c179e"
             ],
             [
              0.4444444444444444,
              "#bd3786"
             ],
             [
              0.5555555555555556,
              "#d8576b"
             ],
             [
              0.6666666666666666,
              "#ed7953"
             ],
             [
              0.7777777777777778,
              "#fb9f3a"
             ],
             [
              0.8888888888888888,
              "#fdca26"
             ],
             [
              1,
              "#f0f921"
             ]
            ],
            "type": "histogram2dcontour"
           }
          ],
          "mesh3d": [
           {
            "colorbar": {
             "outlinewidth": 0,
             "ticks": ""
            },
            "type": "mesh3d"
           }
          ],
          "parcoords": [
           {
            "line": {
             "colorbar": {
              "outlinewidth": 0,
              "ticks": ""
             }
            },
            "type": "parcoords"
           }
          ],
          "pie": [
           {
            "automargin": true,
            "type": "pie"
           }
          ],
          "scatter": [
           {
            "fillpattern": {
             "fillmode": "overlay",
             "size": 10,
             "solidity": 0.2
            },
            "type": "scatter"
           }
          ],
          "scatter3d": [
           {
            "line": {
             "colorbar": {
              "outlinewidth": 0,
              "ticks": ""
             }
            },
            "marker": {
             "colorbar": {
              "outlinewidth": 0,
              "ticks": ""
             }
            },
            "type": "scatter3d"
           }
          ],
          "scattercarpet": [
           {
            "marker": {
             "colorbar": {
              "outlinewidth": 0,
              "ticks": ""
             }
            },
            "type": "scattercarpet"
           }
          ],
          "scattergeo": [
           {
            "marker": {
             "colorbar": {
              "outlinewidth": 0,
              "ticks": ""
             }
            },
            "type": "scattergeo"
           }
          ],
          "scattergl": [
           {
            "marker": {
             "colorbar": {
              "outlinewidth": 0,
              "ticks": ""
             }
            },
            "type": "scattergl"
           }
          ],
          "scattermapbox": [
           {
            "marker": {
             "colorbar": {
              "outlinewidth": 0,
              "ticks": ""
             }
            },
            "type": "scattermapbox"
           }
          ],
          "scatterpolar": [
           {
            "marker": {
             "colorbar": {
              "outlinewidth": 0,
              "ticks": ""
             }
            },
            "type": "scatterpolar"
           }
          ],
          "scatterpolargl": [
           {
            "marker": {
             "colorbar": {
              "outlinewidth": 0,
              "ticks": ""
             }
            },
            "type": "scatterpolargl"
           }
          ],
          "scatterternary": [
           {
            "marker": {
             "colorbar": {
              "outlinewidth": 0,
              "ticks": ""
             }
            },
            "type": "scatterternary"
           }
          ],
          "surface": [
           {
            "colorbar": {
             "outlinewidth": 0,
             "ticks": ""
            },
            "colorscale": [
             [
              0,
              "#0d0887"
             ],
             [
              0.1111111111111111,
              "#46039f"
             ],
             [
              0.2222222222222222,
              "#7201a8"
             ],
             [
              0.3333333333333333,
              "#9c179e"
             ],
             [
              0.4444444444444444,
              "#bd3786"
             ],
             [
              0.5555555555555556,
              "#d8576b"
             ],
             [
              0.6666666666666666,
              "#ed7953"
             ],
             [
              0.7777777777777778,
              "#fb9f3a"
             ],
             [
              0.8888888888888888,
              "#fdca26"
             ],
             [
              1,
              "#f0f921"
             ]
            ],
            "type": "surface"
           }
          ],
          "table": [
           {
            "cells": {
             "fill": {
              "color": "#EBF0F8"
             },
             "line": {
              "color": "white"
             }
            },
            "header": {
             "fill": {
              "color": "#C8D4E3"
             },
             "line": {
              "color": "white"
             }
            },
            "type": "table"
           }
          ]
         },
         "layout": {
          "annotationdefaults": {
           "arrowcolor": "#2a3f5f",
           "arrowhead": 0,
           "arrowwidth": 1
          },
          "autotypenumbers": "strict",
          "coloraxis": {
           "colorbar": {
            "outlinewidth": 0,
            "ticks": ""
           }
          },
          "colorscale": {
           "diverging": [
            [
             0,
             "#8e0152"
            ],
            [
             0.1,
             "#c51b7d"
            ],
            [
             0.2,
             "#de77ae"
            ],
            [
             0.3,
             "#f1b6da"
            ],
            [
             0.4,
             "#fde0ef"
            ],
            [
             0.5,
             "#f7f7f7"
            ],
            [
             0.6,
             "#e6f5d0"
            ],
            [
             0.7,
             "#b8e186"
            ],
            [
             0.8,
             "#7fbc41"
            ],
            [
             0.9,
             "#4d9221"
            ],
            [
             1,
             "#276419"
            ]
           ],
           "sequential": [
            [
             0,
             "#0d0887"
            ],
            [
             0.1111111111111111,
             "#46039f"
            ],
            [
             0.2222222222222222,
             "#7201a8"
            ],
            [
             0.3333333333333333,
             "#9c179e"
            ],
            [
             0.4444444444444444,
             "#bd3786"
            ],
            [
             0.5555555555555556,
             "#d8576b"
            ],
            [
             0.6666666666666666,
             "#ed7953"
            ],
            [
             0.7777777777777778,
             "#fb9f3a"
            ],
            [
             0.8888888888888888,
             "#fdca26"
            ],
            [
             1,
             "#f0f921"
            ]
           ],
           "sequentialminus": [
            [
             0,
             "#0d0887"
            ],
            [
             0.1111111111111111,
             "#46039f"
            ],
            [
             0.2222222222222222,
             "#7201a8"
            ],
            [
             0.3333333333333333,
             "#9c179e"
            ],
            [
             0.4444444444444444,
             "#bd3786"
            ],
            [
             0.5555555555555556,
             "#d8576b"
            ],
            [
             0.6666666666666666,
             "#ed7953"
            ],
            [
             0.7777777777777778,
             "#fb9f3a"
            ],
            [
             0.8888888888888888,
             "#fdca26"
            ],
            [
             1,
             "#f0f921"
            ]
           ]
          },
          "colorway": [
           "#636efa",
           "#EF553B",
           "#00cc96",
           "#ab63fa",
           "#FFA15A",
           "#19d3f3",
           "#FF6692",
           "#B6E880",
           "#FF97FF",
           "#FECB52"
          ],
          "font": {
           "color": "#2a3f5f"
          },
          "geo": {
           "bgcolor": "white",
           "lakecolor": "white",
           "landcolor": "#E5ECF6",
           "showlakes": true,
           "showland": true,
           "subunitcolor": "white"
          },
          "hoverlabel": {
           "align": "left"
          },
          "hovermode": "closest",
          "mapbox": {
           "style": "light"
          },
          "paper_bgcolor": "white",
          "plot_bgcolor": "#E5ECF6",
          "polar": {
           "angularaxis": {
            "gridcolor": "white",
            "linecolor": "white",
            "ticks": ""
           },
           "bgcolor": "#E5ECF6",
           "radialaxis": {
            "gridcolor": "white",
            "linecolor": "white",
            "ticks": ""
           }
          },
          "scene": {
           "xaxis": {
            "backgroundcolor": "#E5ECF6",
            "gridcolor": "white",
            "gridwidth": 2,
            "linecolor": "white",
            "showbackground": true,
            "ticks": "",
            "zerolinecolor": "white"
           },
           "yaxis": {
            "backgroundcolor": "#E5ECF6",
            "gridcolor": "white",
            "gridwidth": 2,
            "linecolor": "white",
            "showbackground": true,
            "ticks": "",
            "zerolinecolor": "white"
           },
           "zaxis": {
            "backgroundcolor": "#E5ECF6",
            "gridcolor": "white",
            "gridwidth": 2,
            "linecolor": "white",
            "showbackground": true,
            "ticks": "",
            "zerolinecolor": "white"
           }
          },
          "shapedefaults": {
           "line": {
            "color": "#2a3f5f"
           }
          },
          "ternary": {
           "aaxis": {
            "gridcolor": "white",
            "linecolor": "white",
            "ticks": ""
           },
           "baxis": {
            "gridcolor": "white",
            "linecolor": "white",
            "ticks": ""
           },
           "bgcolor": "#E5ECF6",
           "caxis": {
            "gridcolor": "white",
            "linecolor": "white",
            "ticks": ""
           }
          },
          "title": {
           "x": 0.05
          },
          "xaxis": {
           "automargin": true,
           "gridcolor": "white",
           "linecolor": "white",
           "ticks": "",
           "title": {
            "standoff": 15
           },
           "zerolinecolor": "white",
           "zerolinewidth": 2
          },
          "yaxis": {
           "automargin": true,
           "gridcolor": "white",
           "linecolor": "white",
           "ticks": "",
           "title": {
            "standoff": 15
           },
           "zerolinecolor": "white",
           "zerolinewidth": 2
          }
         }
        },
        "title": {
         "text": "Distribution of followers by Cluster"
        },
        "xaxis": {
         "anchor": "y",
         "autorange": true,
         "categoryarray": [
          1,
          0,
          2,
          5,
          3,
          4
         ],
         "categoryorder": "array",
         "domain": [
          0,
          1
         ],
         "range": [
          -0.5,
          5.5
         ],
         "title": {
          "text": "Cluster"
         },
         "type": "linear"
        },
        "yaxis": {
         "anchor": "x",
         "autorange": true,
         "domain": [
          0,
          1
         ],
         "range": [
          1423188.157791432,
          129947612.62101041
         ],
         "title": {
          "text": "followers"
         },
         "type": "linear"
        }
       }
      },
      "image/png": "[encoded data removed]",
      "text/html": [
       "<div>                            <div id=\"64f86d96-e4d3-4ac9-8a1a-1515a5eab0bb\" class=\"plotly-graph-div\" style=\"height:525px; width:100%;\"></div>            <script type=\"text/javascript\">                require([\"plotly\"], function(Plotly) {                    window.PLOTLYENV=window.PLOTLYENV || {};                                    if (document.getElementById(\"64f86d96-e4d3-4ac9-8a1a-1515a5eab0bb\")) {                    Plotly.newPlot(                        \"64f86d96-e4d3-4ac9-8a1a-1515a5eab0bb\",                        [{\"alignmentgroup\":\"True\",\"hovertemplate\":\"cluster=%{x}<br>followers=%{y}<extra></extra>\",\"legendgroup\":\"1\",\"marker\":{\"color\":\"#636efa\"},\"name\":\"1\",\"notched\":false,\"offsetgroup\":\"1\",\"orientation\":\"v\",\"showlegend\":true,\"x\":[1,1,1,1,1,1,1,1,1,1,1,1,1,1,1,1],\"x0\":\" \",\"xaxis\":\"x\",\"y\":[64126921.0,39693022.0,61305608.0,64895797.62820513,54991626.0,25737525.0,51670473.0,27216235.0,28846062.0,28979343.5,25406760.83561644,81405696.36363636,15719825.739130436,105837159.65625,27944353.469387755,22602017.44230769],\"y0\":\" \",\"yaxis\":\"y\",\"type\":\"box\"},{\"alignmentgroup\":\"True\",\"hovertemplate\":\"cluster=%{x}<br>followers=%{y}<extra></extra>\",\"legendgroup\":\"0\",\"marker\":{\"color\":\"#EF553B\"},\"name\":\"0\",\"notched\":false,\"offsetgroup\":\"0\",\"orientation\":\"v\",\"showlegend\":true,\"x\":[0,0,0,0,0,0,0,0],\"x0\":\" \",\"xaxis\":\"x\",\"y\":[123521391.39784946,37086490.0,45485126.93181818,23503522.588235293,50610912.27419355,23211912.493670885,30945615.2,28445084.408163264],\"y0\":\" \",\"yaxis\":\"y\",\"type\":\"box\"},{\"alignmentgroup\":\"True\",\"hovertemplate\":\"cluster=%{x}<br>followers=%{y}<extra></extra>\",\"legendgroup\":\"2\",\"marker\":{\"color\":\"#00cc96\"},\"name\":\"2\",\"notched\":false,\"offsetgroup\":\"2\",\"orientation\":\"v\",\"showlegend\":true,\"x\":[2,2,2,2,2,2,2,2,2,2,2,2,2,2,2,2,2,2,2],\"x0\":\" \",\"xaxis\":\"x\",\"y\":[45484102.0,77216655.92553191,29073165.45945946,70682340.36904761,47188439.0,32893900.0,42748712.0,41537310.0,35625873.89473684,95387569.48979592,28632236.0,46068278.766666666,26873251.0,26620078.67105263,26807406.0,25782224.0,43792934.92727273,47058961.104477614,42810716.0],\"y0\":\" \",\"yaxis\":\"y\",\"type\":\"box\"},{\"alignmentgroup\":\"True\",\"hovertemplate\":\"cluster=%{x}<br>followers=%{y}<extra></extra>\",\"legendgroup\":\"5\",\"marker\":{\"color\":\"#ab63fa\"},\"name\":\"5\",\"notched\":false,\"offsetgroup\":\"5\",\"orientation\":\"v\",\"showlegend\":true,\"x\":[5,5,5,5,5,5,5,5,5,5,5,5,5,5,5,5,5],\"x0\":\" \",\"xaxis\":\"x\",\"y\":[62467343.95588236,33584479.95522388,73858592.46428572,24020763.898550726,44991377.974683546,21103220.649122808,34200852.63636363,37316520.44444445,28193717.03333333,35361061.13114754,31074602.620689657,43327856.32876712,38309198.0,36808236.76923077,42929658.0,39883238.0,33173515.88636364],\"y0\":\" \",\"yaxis\":\"y\",\"type\":\"box\"},{\"alignmentgroup\":\"True\",\"hovertemplate\":\"cluster=%{x}<br>followers=%{y}<extra></extra>\",\"legendgroup\":\"3\",\"marker\":{\"color\":\"#FFA15A\"},\"name\":\"3\",\"notched\":false,\"offsetgroup\":\"3\",\"orientation\":\"v\",\"showlegend\":true,\"x\":[3,3,3,3,3,3,3,3,3,3,3,3,3,3,3,3,3,3,3,3,3,3,3,3],\"x0\":\" \",\"xaxis\":\"x\",\"y\":[47685280.76190476,76393170.0,72233492.02150537,26082713.387096774,35402493.11764706,49091848.31884058,97703901.92307691,37302286.27160494,60628678.39285714,45752186.79487179,24153747.902777776,42736683.09677419,106828627.81944443,31222531.15492958,7849409.380952381,30018949.94520548,34486401.76388889,22042396.36,28807627.11764706,61975168.0,28193606.24,33725897.0,30385876.486486487,21066886.75342466],\"y0\":\" \",\"yaxis\":\"y\",\"type\":\"box\"},{\"alignmentgroup\":\"True\",\"hovertemplate\":\"cluster=%{x}<br>followers=%{y}<extra></extra>\",\"legendgroup\":\"4\",\"marker\":{\"color\":\"#19d3f3\"},\"name\":\"4\",\"notched\":false,\"offsetgroup\":\"4\",\"orientation\":\"v\",\"showlegend\":true,\"x\":[4,4,4,4,4,4,4,4,4,4,4,4],\"x0\":\" \",\"xaxis\":\"x\",\"y\":[54966985.018867925,60190152.27692308,27621707.580645163,23071355.606060605,52603837.31707317,23790695.90425532,12772727.5,35059588.45348837,41528727.23076923,106533276.23076925,12011090.0,23868544.70689655],\"y0\":\" \",\"yaxis\":\"y\",\"type\":\"box\"}],                        {\"template\":{\"data\":{\"histogram2dcontour\":[{\"type\":\"histogram2dcontour\",\"colorbar\":{\"outlinewidth\":0,\"ticks\":\"\"},\"colorscale\":[[0.0,\"#0d0887\"],[0.1111111111111111,\"#46039f\"],[0.2222222222222222,\"#7201a8\"],[0.3333333333333333,\"#9c179e\"],[0.4444444444444444,\"#bd3786\"],[0.5555555555555556,\"#d8576b\"],[0.6666666666666666,\"#ed7953\"],[0.7777777777777778,\"#fb9f3a\"],[0.8888888888888888,\"#fdca26\"],[1.0,\"#f0f921\"]]}],\"choropleth\":[{\"type\":\"choropleth\",\"colorbar\":{\"outlinewidth\":0,\"ticks\":\"\"}}],\"histogram2d\":[{\"type\":\"histogram2d\",\"colorbar\":{\"outlinewidth\":0,\"ticks\":\"\"},\"colorscale\":[[0.0,\"#0d0887\"],[0.1111111111111111,\"#46039f\"],[0.2222222222222222,\"#7201a8\"],[0.3333333333333333,\"#9c179e\"],[0.4444444444444444,\"#bd3786\"],[0.5555555555555556,\"#d8576b\"],[0.6666666666666666,\"#ed7953\"],[0.7777777777777778,\"#fb9f3a\"],[0.8888888888888888,\"#fdca26\"],[1.0,\"#f0f921\"]]}],\"heatmap\":[{\"type\":\"heatmap\",\"colorbar\":{\"outlinewidth\":0,\"ticks\":\"\"},\"colorscale\":[[0.0,\"#0d0887\"],[0.1111111111111111,\"#46039f\"],[0.2222222222222222,\"#7201a8\"],[0.3333333333333333,\"#9c179e\"],[0.4444444444444444,\"#bd3786\"],[0.5555555555555556,\"#d8576b\"],[0.6666666666666666,\"#ed7953\"],[0.7777777777777778,\"#fb9f3a\"],[0.8888888888888888,\"#fdca26\"],[1.0,\"#f0f921\"]]}],\"heatmapgl\":[{\"type\":\"heatmapgl\",\"colorbar\":{\"outlinewidth\":0,\"ticks\":\"\"},\"colorscale\":[[0.0,\"#0d0887\"],[0.1111111111111111,\"#46039f\"],[0.2222222222222222,\"#7201a8\"],[0.3333333333333333,\"#9c179e\"],[0.4444444444444444,\"#bd3786\"],[0.5555555555555556,\"#d8576b\"],[0.6666666666666666,\"#ed7953\"],[0.7777777777777778,\"#fb9f3a\"],[0.8888888888888888,\"#fdca26\"],[1.0,\"#f0f921\"]]}],\"contourcarpet\":[{\"type\":\"contourcarpet\",\"colorbar\":{\"outlinewidth\":0,\"ticks\":\"\"}}],\"contour\":[{\"type\":\"contour\",\"colorbar\":{\"outlinewidth\":0,\"ticks\":\"\"},\"colorscale\":[[0.0,\"#0d0887\"],[0.1111111111111111,\"#46039f\"],[0.2222222222222222,\"#7201a8\"],[0.3333333333333333,\"#9c179e\"],[0.4444444444444444,\"#bd3786\"],[0.5555555555555556,\"#d8576b\"],[0.6666666666666666,\"#ed7953\"],[0.7777777777777778,\"#fb9f3a\"],[0.8888888888888888,\"#fdca26\"],[1.0,\"#f0f921\"]]}],\"surface\":[{\"type\":\"surface\",\"colorbar\":{\"outlinewidth\":0,\"ticks\":\"\"},\"colorscale\":[[0.0,\"#0d0887\"],[0.1111111111111111,\"#46039f\"],[0.2222222222222222,\"#7201a8\"],[0.3333333333333333,\"#9c179e\"],[0.4444444444444444,\"#bd3786\"],[0.5555555555555556,\"#d8576b\"],[0.6666666666666666,\"#ed7953\"],[0.7777777777777778,\"#fb9f3a\"],[0.8888888888888888,\"#fdca26\"],[1.0,\"#f0f921\"]]}],\"mesh3d\":[{\"type\":\"mesh3d\",\"colorbar\":{\"outlinewidth\":0,\"ticks\":\"\"}}],\"scatter\":[{\"fillpattern\":{\"fillmode\":\"overlay\",\"size\":10,\"solidity\":0.2},\"type\":\"scatter\"}],\"parcoords\":[{\"type\":\"parcoords\",\"line\":{\"colorbar\":{\"outlinewidth\":0,\"ticks\":\"\"}}}],\"scatterpolargl\":[{\"type\":\"scatterpolargl\",\"marker\":{\"colorbar\":{\"outlinewidth\":0,\"ticks\":\"\"}}}],\"bar\":[{\"error_x\":{\"color\":\"#2a3f5f\"},\"error_y\":{\"color\":\"#2a3f5f\"},\"marker\":{\"line\":{\"color\":\"#E5ECF6\",\"width\":0.5},\"pattern\":{\"fillmode\":\"overlay\",\"size\":10,\"solidity\":0.2}},\"type\":\"bar\"}],\"scattergeo\":[{\"type\":\"scattergeo\",\"marker\":{\"colorbar\":{\"outlinewidth\":0,\"ticks\":\"\"}}}],\"scatterpolar\":[{\"type\":\"scatterpolar\",\"marker\":{\"colorbar\":{\"outlinewidth\":0,\"ticks\":\"\"}}}],\"histogram\":[{\"marker\":{\"pattern\":{\"fillmode\":\"overlay\",\"size\":10,\"solidity\":0.2}},\"type\":\"histogram\"}],\"scattergl\":[{\"type\":\"scattergl\",\"marker\":{\"colorbar\":{\"outlinewidth\":0,\"ticks\":\"\"}}}],\"scatter3d\":[{\"type\":\"scatter3d\",\"line\":{\"colorbar\":{\"outlinewidth\":0,\"ticks\":\"\"}},\"marker\":{\"colorbar\":{\"outlinewidth\":0,\"ticks\":\"\"}}}],\"scattermapbox\":[{\"type\":\"scattermapbox\",\"marker\":{\"colorbar\":{\"outlinewidth\":0,\"ticks\":\"\"}}}],\"scatterternary\":[{\"type\":\"scatterternary\",\"marker\":{\"colorbar\":{\"outlinewidth\":0,\"ticks\":\"\"}}}],\"scattercarpet\":[{\"type\":\"scattercarpet\",\"marker\":{\"colorbar\":{\"outlinewidth\":0,\"ticks\":\"\"}}}],\"carpet\":[{\"aaxis\":{\"endlinecolor\":\"#2a3f5f\",\"gridcolor\":\"white\",\"linecolor\":\"white\",\"minorgridcolor\":\"white\",\"startlinecolor\":\"#2a3f5f\"},\"baxis\":{\"endlinecolor\":\"#2a3f5f\",\"gridcolor\":\"white\",\"linecolor\":\"white\",\"minorgridcolor\":\"white\",\"startlinecolor\":\"#2a3f5f\"},\"type\":\"carpet\"}],\"table\":[{\"cells\":{\"fill\":{\"color\":\"#EBF0F8\"},\"line\":{\"color\":\"white\"}},\"header\":{\"fill\":{\"color\":\"#C8D4E3\"},\"line\":{\"color\":\"white\"}},\"type\":\"table\"}],\"barpolar\":[{\"marker\":{\"line\":{\"color\":\"#E5ECF6\",\"width\":0.5},\"pattern\":{\"fillmode\":\"overlay\",\"size\":10,\"solidity\":0.2}},\"type\":\"barpolar\"}],\"pie\":[{\"automargin\":true,\"type\":\"pie\"}]},\"layout\":{\"autotypenumbers\":\"strict\",\"colorway\":[\"#636efa\",\"#EF553B\",\"#00cc96\",\"#ab63fa\",\"#FFA15A\",\"#19d3f3\",\"#FF6692\",\"#B6E880\",\"#FF97FF\",\"#FECB52\"],\"font\":{\"color\":\"#2a3f5f\"},\"hovermode\":\"closest\",\"hoverlabel\":{\"align\":\"left\"},\"paper_bgcolor\":\"white\",\"plot_bgcolor\":\"#E5ECF6\",\"polar\":{\"bgcolor\":\"#E5ECF6\",\"angularaxis\":{\"gridcolor\":\"white\",\"linecolor\":\"white\",\"ticks\":\"\"},\"radialaxis\":{\"gridcolor\":\"white\",\"linecolor\":\"white\",\"ticks\":\"\"}},\"ternary\":{\"bgcolor\":\"#E5ECF6\",\"aaxis\":{\"gridcolor\":\"white\",\"linecolor\":\"white\",\"ticks\":\"\"},\"baxis\":{\"gridcolor\":\"white\",\"linecolor\":\"white\",\"ticks\":\"\"},\"caxis\":{\"gridcolor\":\"white\",\"linecolor\":\"white\",\"ticks\":\"\"}},\"coloraxis\":{\"colorbar\":{\"outlinewidth\":0,\"ticks\":\"\"}},\"colorscale\":{\"sequential\":[[0.0,\"#0d0887\"],[0.1111111111111111,\"#46039f\"],[0.2222222222222222,\"#7201a8\"],[0.3333333333333333,\"#9c179e\"],[0.4444444444444444,\"#bd3786\"],[0.5555555555555556,\"#d8576b\"],[0.6666666666666666,\"#ed7953\"],[0.7777777777777778,\"#fb9f3a\"],[0.8888888888888888,\"#fdca26\"],[1.0,\"#f0f921\"]],\"sequentialminus\":[[0.0,\"#0d0887\"],[0.1111111111111111,\"#46039f\"],[0.2222222222222222,\"#7201a8\"],[0.3333333333333333,\"#9c179e\"],[0.4444444444444444,\"#bd3786\"],[0.5555555555555556,\"#d8576b\"],[0.6666666666666666,\"#ed7953\"],[0.7777777777777778,\"#fb9f3a\"],[0.8888888888888888,\"#fdca26\"],[1.0,\"#f0f921\"]],\"diverging\":[[0,\"#8e0152\"],[0.1,\"#c51b7d\"],[0.2,\"#de77ae\"],[0.3,\"#f1b6da\"],[0.4,\"#fde0ef\"],[0.5,\"#f7f7f7\"],[0.6,\"#e6f5d0\"],[0.7,\"#b8e186\"],[0.8,\"#7fbc41\"],[0.9,\"#4d9221\"],[1,\"#276419\"]]},\"xaxis\":{\"gridcolor\":\"white\",\"linecolor\":\"white\",\"ticks\":\"\",\"title\":{\"standoff\":15},\"zerolinecolor\":\"white\",\"automargin\":true,\"zerolinewidth\":2},\"yaxis\":{\"gridcolor\":\"white\",\"linecolor\":\"white\",\"ticks\":\"\",\"title\":{\"standoff\":15},\"zerolinecolor\":\"white\",\"automargin\":true,\"zerolinewidth\":2},\"scene\":{\"xaxis\":{\"backgroundcolor\":\"#E5ECF6\",\"gridcolor\":\"white\",\"linecolor\":\"white\",\"showbackground\":true,\"ticks\":\"\",\"zerolinecolor\":\"white\",\"gridwidth\":2},\"yaxis\":{\"backgroundcolor\":\"#E5ECF6\",\"gridcolor\":\"white\",\"linecolor\":\"white\",\"showbackground\":true,\"ticks\":\"\",\"zerolinecolor\":\"white\",\"gridwidth\":2},\"zaxis\":{\"backgroundcolor\":\"#E5ECF6\",\"gridcolor\":\"white\",\"linecolor\":\"white\",\"showbackground\":true,\"ticks\":\"\",\"zerolinecolor\":\"white\",\"gridwidth\":2}},\"shapedefaults\":{\"line\":{\"color\":\"#2a3f5f\"}},\"annotationdefaults\":{\"arrowcolor\":\"#2a3f5f\",\"arrowhead\":0,\"arrowwidth\":1},\"geo\":{\"bgcolor\":\"white\",\"landcolor\":\"#E5ECF6\",\"subunitcolor\":\"white\",\"showland\":true,\"showlakes\":true,\"lakecolor\":\"white\"},\"title\":{\"x\":0.05},\"mapbox\":{\"style\":\"light\"}}},\"xaxis\":{\"anchor\":\"y\",\"domain\":[0.0,1.0],\"title\":{\"text\":\"Cluster\"},\"categoryorder\":\"array\",\"categoryarray\":[1,0,2,5,3,4]},\"yaxis\":{\"anchor\":\"x\",\"domain\":[0.0,1.0],\"title\":{\"text\":\"followers\"}},\"legend\":{\"title\":{\"text\":\"Cluster\"},\"tracegroupgap\":0},\"margin\":{\"t\":60},\"boxmode\":\"overlay\",\"title\":{\"text\":\"Distribution of followers by Cluster\"}},                        {\"responsive\": true}                    ).then(function(){\n",
       "                            \n",
       "var gd = document.getElementById('64f86d96-e4d3-4ac9-8a1a-1515a5eab0bb');\n",
       "var x = new MutationObserver(function (mutations, observer) {{\n",
       "        var display = window.getComputedStyle(gd).display;\n",
       "        if (!display || display === 'none') {{\n",
       "            console.log([gd, 'removed!']);\n",
       "            Plotly.purge(gd);\n",
       "            observer.disconnect();\n",
       "        }}\n",
       "}});\n",
       "\n",
       "// Listen for the removal of the full notebook cells\n",
       "var notebookContainer = gd.closest('#notebook-container');\n",
       "if (notebookContainer) {{\n",
       "    x.observe(notebookContainer, {childList: true});\n",
       "}}\n",
       "\n",
       "// Listen for the clearing of the current output cell\n",
       "var outputEl = gd.closest('.output');\n",
       "if (outputEl) {{\n",
       "    x.observe(outputEl, {childList: true});\n",
       "}}\n",
       "\n",
       "                        })                };                });            </script>        </div>"
      ]
     },
     "metadata": {},
     "output_type": "display_data"
    },
    {
     "data": {
      "application/vnd.plotly.v1+json": {
       "config": {
        "plotlyServerURL": "https://plot.ly"
       },
       "data": [
        {
         "alignmentgroup": "True",
         "hovertemplate": "cluster=%{x}<br>average daily tweets=%{y}<extra></extra>",
         "legendgroup": "1",
         "marker": {
          "color": "#636efa"
         },
         "name": "1",
         "notched": false,
         "offsetgroup": "1",
         "orientation": "v",
         "showlegend": true,
         "type": "box",
         "x": [
          1,
          1,
          1,
          1,
          1,
          1,
          1,
          1,
          1,
          1,
          1,
          1,
          1,
          1,
          1,
          1
         ],
         "x0": " ",
         "xaxis": "x",
         "y": [
          3.555555555555556,
          44.5,
          48.5,
          1.3,
          41,
          99,
          4,
          46.5,
          9.9,
          3.8,
          1.1774193548387095,
          8.8,
          3.066666666666667,
          3.555555555555556,
          1.101123595505618,
          1.4054054054054057
         ],
         "y0": " ",
         "yaxis": "y"
        },
        {
         "alignmentgroup": "True",
         "hovertemplate": "cluster=%{x}<br>average daily tweets=%{y}<extra></extra>",
         "legendgroup": "0",
         "marker": {
          "color": "#EF553B"
         },
         "name": "0",
         "notched": false,
         "offsetgroup": "0",
         "orientation": "v",
         "showlegend": true,
         "type": "box",
         "x": [
          0,
          0,
          0,
          0,
          0,
          0,
          0,
          0
         ],
         "x0": " ",
         "xaxis": "x",
         "y": [
          1.7222222222222223,
          2.361111111111111,
          1.660377358490566,
          1.7,
          4.769230769230769,
          1.3859649122807018,
          7,
          10.88888888888889
         ],
         "y0": " ",
         "yaxis": "y"
        },
        {
         "alignmentgroup": "True",
         "hovertemplate": "cluster=%{x}<br>average daily tweets=%{y}<extra></extra>",
         "legendgroup": "2",
         "marker": {
          "color": "#00cc96"
         },
         "name": "2",
         "notched": false,
         "offsetgroup": "2",
         "orientation": "v",
         "showlegend": true,
         "type": "box",
         "x": [
          2,
          2,
          2,
          2,
          2,
          2,
          2,
          2,
          2,
          2,
          2,
          2,
          2,
          2,
          2,
          2,
          2,
          2,
          2
         ],
         "x0": " ",
         "xaxis": "x",
         "y": [
          17.6,
          2.35,
          6.727272727272728,
          3.230769230769231,
          1,
          8.777777777777779,
          39,
          14.5,
          1.2666666666666666,
          1.5806451612903225,
          5,
          7.5,
          1.7647058823529411,
          1.4074074074074074,
          1,
          1,
          1.5277777777777777,
          6.7,
          1.8666666666666667
         ],
         "y0": " ",
         "yaxis": "y"
        },
        {
         "alignmentgroup": "True",
         "hovertemplate": "cluster=%{x}<br>average daily tweets=%{y}<extra></extra>",
         "legendgroup": "5",
         "marker": {
          "color": "#ab63fa"
         },
         "name": "5",
         "notched": false,
         "offsetgroup": "5",
         "orientation": "v",
         "showlegend": true,
         "type": "box",
         "x": [
          5,
          5,
          5,
          5,
          5,
          5,
          5,
          5,
          5,
          5,
          5,
          5,
          5,
          5,
          5,
          5,
          5
         ],
         "x0": " ",
         "xaxis": "x",
         "y": [
          1.7894736842105263,
          1.5952380952380951,
          1.696969696969697,
          2.225806451612903,
          1.3166666666666669,
          1.6285714285714286,
          2.3783783783783785,
          1.7307692307692308,
          1.25,
          2.033333333333333,
          1.2608695652173914,
          1.0735294117647058,
          1.1358024691358024,
          1.5116279069767442,
          1.5,
          14.166666666666666,
          12.571428571428571
         ],
         "y0": " ",
         "yaxis": "y"
        },
        {
         "alignmentgroup": "True",
         "hovertemplate": "cluster=%{x}<br>average daily tweets=%{y}<extra></extra>",
         "legendgroup": "3",
         "marker": {
          "color": "#FFA15A"
         },
         "name": "3",
         "notched": false,
         "offsetgroup": "3",
         "orientation": "v",
         "showlegend": true,
         "type": "box",
         "x": [
          3,
          3,
          3,
          3,
          3,
          3,
          3,
          3,
          3,
          3,
          3,
          3,
          3,
          3,
          3,
          3,
          3,
          3,
          3,
          3,
          3,
          3,
          3,
          3
         ],
         "x0": " ",
         "xaxis": "x",
         "y": [
          9,
          2.2045454545454546,
          1.4307692307692308,
          1.4761904761904765,
          1.4166666666666667,
          1.2105263157894737,
          1.471698113207547,
          1.5576923076923077,
          1.2444444444444445,
          1.56,
          2.117647058823529,
          1.1071428571428572,
          1.3846153846153846,
          1.392156862745098,
          7.636363636363637,
          1.3773584905660377,
          1.263157894736842,
          1.1111111111111112,
          1.5178571428571428,
          1.08,
          1.2195121951219512,
          1.5614035087719298,
          2.242424242424242,
          1.697674418604651
         ],
         "y0": " ",
         "yaxis": "y"
        },
        {
         "alignmentgroup": "True",
         "hovertemplate": "cluster=%{x}<br>average daily tweets=%{y}<extra></extra>",
         "legendgroup": "4",
         "marker": {
          "color": "#19d3f3"
         },
         "name": "4",
         "notched": false,
         "offsetgroup": "4",
         "orientation": "v",
         "showlegend": true,
         "type": "box",
         "x": [
          4,
          4,
          4,
          4,
          4,
          4,
          4,
          4,
          4,
          4,
          4,
          4
         ],
         "x0": " ",
         "xaxis": "x",
         "y": [
          1.261904761904762,
          7.222222222222222,
          2.2962962962962963,
          1.064516129032258,
          1.3442622950819672,
          1.3055555555555556,
          1,
          1.4333333333333331,
          1.5,
          1.031746031746032,
          1.1428571428571428,
          1.2340425531914894
         ],
         "y0": " ",
         "yaxis": "y"
        }
       ],
       "layout": {
        "autosize": true,
        "boxmode": "overlay",
        "legend": {
         "title": {
          "text": "Cluster"
         },
         "tracegroupgap": 0
        },
        "margin": {
         "t": 60
        },
        "template": {
         "data": {
          "bar": [
           {
            "error_x": {
             "color": "#2a3f5f"
            },
            "error_y": {
             "color": "#2a3f5f"
            },
            "marker": {
             "line": {
              "color": "#E5ECF6",
              "width": 0.5
             },
             "pattern": {
              "fillmode": "overlay",
              "size": 10,
              "solidity": 0.2
             }
            },
            "type": "bar"
           }
          ],
          "barpolar": [
           {
            "marker": {
             "line": {
              "color": "#E5ECF6",
              "width": 0.5
             },
             "pattern": {
              "fillmode": "overlay",
              "size": 10,
              "solidity": 0.2
             }
            },
            "type": "barpolar"
           }
          ],
          "carpet": [
           {
            "aaxis": {
             "endlinecolor": "#2a3f5f",
             "gridcolor": "white",
             "linecolor": "white",
             "minorgridcolor": "white",
             "startlinecolor": "#2a3f5f"
            },
            "baxis": {
             "endlinecolor": "#2a3f5f",
             "gridcolor": "white",
             "linecolor": "white",
             "minorgridcolor": "white",
             "startlinecolor": "#2a3f5f"
            },
            "type": "carpet"
           }
          ],
          "choropleth": [
           {
            "colorbar": {
             "outlinewidth": 0,
             "ticks": ""
            },
            "type": "choropleth"
           }
          ],
          "contour": [
           {
            "colorbar": {
             "outlinewidth": 0,
             "ticks": ""
            },
            "colorscale": [
             [
              0,
              "#0d0887"
             ],
             [
              0.1111111111111111,
              "#46039f"
             ],
             [
              0.2222222222222222,
              "#7201a8"
             ],
             [
              0.3333333333333333,
              "#9c179e"
             ],
             [
              0.4444444444444444,
              "#bd3786"
             ],
             [
              0.5555555555555556,
              "#d8576b"
             ],
             [
              0.6666666666666666,
              "#ed7953"
             ],
             [
              0.7777777777777778,
              "#fb9f3a"
             ],
             [
              0.8888888888888888,
              "#fdca26"
             ],
             [
              1,
              "#f0f921"
             ]
            ],
            "type": "contour"
           }
          ],
          "contourcarpet": [
           {
            "colorbar": {
             "outlinewidth": 0,
             "ticks": ""
            },
            "type": "contourcarpet"
           }
          ],
          "heatmap": [
           {
            "colorbar": {
             "outlinewidth": 0,
             "ticks": ""
            },
            "colorscale": [
             [
              0,
              "#0d0887"
             ],
             [
              0.1111111111111111,
              "#46039f"
             ],
             [
              0.2222222222222222,
              "#7201a8"
             ],
             [
              0.3333333333333333,
              "#9c179e"
             ],
             [
              0.4444444444444444,
              "#bd3786"
             ],
             [
              0.5555555555555556,
              "#d8576b"
             ],
             [
              0.6666666666666666,
              "#ed7953"
             ],
             [
              0.7777777777777778,
              "#fb9f3a"
             ],
             [
              0.8888888888888888,
              "#fdca26"
             ],
             [
              1,
              "#f0f921"
             ]
            ],
            "type": "heatmap"
           }
          ],
          "heatmapgl": [
           {
            "colorbar": {
             "outlinewidth": 0,
             "ticks": ""
            },
            "colorscale": [
             [
              0,
              "#0d0887"
             ],
             [
              0.1111111111111111,
              "#46039f"
             ],
             [
              0.2222222222222222,
              "#7201a8"
             ],
             [
              0.3333333333333333,
              "#9c179e"
             ],
             [
              0.4444444444444444,
              "#bd3786"
             ],
             [
              0.5555555555555556,
              "#d8576b"
             ],
             [
              0.6666666666666666,
              "#ed7953"
             ],
             [
              0.7777777777777778,
              "#fb9f3a"
             ],
             [
              0.8888888888888888,
              "#fdca26"
             ],
             [
              1,
              "#f0f921"
             ]
            ],
            "type": "heatmapgl"
           }
          ],
          "histogram": [
           {
            "marker": {
             "pattern": {
              "fillmode": "overlay",
              "size": 10,
              "solidity": 0.2
             }
            },
            "type": "histogram"
           }
          ],
          "histogram2d": [
           {
            "colorbar": {
             "outlinewidth": 0,
             "ticks": ""
            },
            "colorscale": [
             [
              0,
              "#0d0887"
             ],
             [
              0.1111111111111111,
              "#46039f"
             ],
             [
              0.2222222222222222,
              "#7201a8"
             ],
             [
              0.3333333333333333,
              "#9c179e"
             ],
             [
              0.4444444444444444,
              "#bd3786"
             ],
             [
              0.5555555555555556,
              "#d8576b"
             ],
             [
              0.6666666666666666,
              "#ed7953"
             ],
             [
              0.7777777777777778,
              "#fb9f3a"
             ],
             [
              0.8888888888888888,
              "#fdca26"
             ],
             [
              1,
              "#f0f921"
             ]
            ],
            "type": "histogram2d"
           }
          ],
          "histogram2dcontour": [
           {
            "colorbar": {
             "outlinewidth": 0,
             "ticks": ""
            },
            "colorscale": [
             [
              0,
              "#0d0887"
             ],
             [
              0.1111111111111111,
              "#46039f"
             ],
             [
              0.2222222222222222,
              "#7201a8"
             ],
             [
              0.3333333333333333,
              "#9c179e"
             ],
             [
              0.4444444444444444,
              "#bd3786"
             ],
             [
              0.5555555555555556,
              "#d8576b"
             ],
             [
              0.6666666666666666,
              "#ed7953"
             ],
             [
              0.7777777777777778,
              "#fb9f3a"
             ],
             [
              0.8888888888888888,
              "#fdca26"
             ],
             [
              1,
              "#f0f921"
             ]
            ],
            "type": "histogram2dcontour"
           }
          ],
          "mesh3d": [
           {
            "colorbar": {
             "outlinewidth": 0,
             "ticks": ""
            },
            "type": "mesh3d"
           }
          ],
          "parcoords": [
           {
            "line": {
             "colorbar": {
              "outlinewidth": 0,
              "ticks": ""
             }
            },
            "type": "parcoords"
           }
          ],
          "pie": [
           {
            "automargin": true,
            "type": "pie"
           }
          ],
          "scatter": [
           {
            "fillpattern": {
             "fillmode": "overlay",
             "size": 10,
             "solidity": 0.2
            },
            "type": "scatter"
           }
          ],
          "scatter3d": [
           {
            "line": {
             "colorbar": {
              "outlinewidth": 0,
              "ticks": ""
             }
            },
            "marker": {
             "colorbar": {
              "outlinewidth": 0,
              "ticks": ""
             }
            },
            "type": "scatter3d"
           }
          ],
          "scattercarpet": [
           {
            "marker": {
             "colorbar": {
              "outlinewidth": 0,
              "ticks": ""
             }
            },
            "type": "scattercarpet"
           }
          ],
          "scattergeo": [
           {
            "marker": {
             "colorbar": {
              "outlinewidth": 0,
              "ticks": ""
             }
            },
            "type": "scattergeo"
           }
          ],
          "scattergl": [
           {
            "marker": {
             "colorbar": {
              "outlinewidth": 0,
              "ticks": ""
             }
            },
            "type": "scattergl"
           }
          ],
          "scattermapbox": [
           {
            "marker": {
             "colorbar": {
              "outlinewidth": 0,
              "ticks": ""
             }
            },
            "type": "scattermapbox"
           }
          ],
          "scatterpolar": [
           {
            "marker": {
             "colorbar": {
              "outlinewidth": 0,
              "ticks": ""
             }
            },
            "type": "scatterpolar"
           }
          ],
          "scatterpolargl": [
           {
            "marker": {
             "colorbar": {
              "outlinewidth": 0,
              "ticks": ""
             }
            },
            "type": "scatterpolargl"
           }
          ],
          "scatterternary": [
           {
            "marker": {
             "colorbar": {
              "outlinewidth": 0,
              "ticks": ""
             }
            },
            "type": "scatterternary"
           }
          ],
          "surface": [
           {
            "colorbar": {
             "outlinewidth": 0,
             "ticks": ""
            },
            "colorscale": [
             [
              0,
              "#0d0887"
             ],
             [
              0.1111111111111111,
              "#46039f"
             ],
             [
              0.2222222222222222,
              "#7201a8"
             ],
             [
              0.3333333333333333,
              "#9c179e"
             ],
             [
              0.4444444444444444,
              "#bd3786"
             ],
             [
              0.5555555555555556,
              "#d8576b"
             ],
             [
              0.6666666666666666,
              "#ed7953"
             ],
             [
              0.7777777777777778,
              "#fb9f3a"
             ],
             [
              0.8888888888888888,
              "#fdca26"
             ],
             [
              1,
              "#f0f921"
             ]
            ],
            "type": "surface"
           }
          ],
          "table": [
           {
            "cells": {
             "fill": {
              "color": "#EBF0F8"
             },
             "line": {
              "color": "white"
             }
            },
            "header": {
             "fill": {
              "color": "#C8D4E3"
             },
             "line": {
              "color": "white"
             }
            },
            "type": "table"
           }
          ]
         },
         "layout": {
          "annotationdefaults": {
           "arrowcolor": "#2a3f5f",
           "arrowhead": 0,
           "arrowwidth": 1
          },
          "autotypenumbers": "strict",
          "coloraxis": {
           "colorbar": {
            "outlinewidth": 0,
            "ticks": ""
           }
          },
          "colorscale": {
           "diverging": [
            [
             0,
             "#8e0152"
            ],
            [
             0.1,
             "#c51b7d"
            ],
            [
             0.2,
             "#de77ae"
            ],
            [
             0.3,
             "#f1b6da"
            ],
            [
             0.4,
             "#fde0ef"
            ],
            [
             0.5,
             "#f7f7f7"
            ],
            [
             0.6,
             "#e6f5d0"
            ],
            [
             0.7,
             "#b8e186"
            ],
            [
             0.8,
             "#7fbc41"
            ],
            [
             0.9,
             "#4d9221"
            ],
            [
             1,
             "#276419"
            ]
           ],
           "sequential": [
            [
             0,
             "#0d0887"
            ],
            [
             0.1111111111111111,
             "#46039f"
            ],
            [
             0.2222222222222222,
             "#7201a8"
            ],
            [
             0.3333333333333333,
             "#9c179e"
            ],
            [
             0.4444444444444444,
             "#bd3786"
            ],
            [
             0.5555555555555556,
             "#d8576b"
            ],
            [
             0.6666666666666666,
             "#ed7953"
            ],
            [
             0.7777777777777778,
             "#fb9f3a"
            ],
            [
             0.8888888888888888,
             "#fdca26"
            ],
            [
             1,
             "#f0f921"
            ]
           ],
           "sequentialminus": [
            [
             0,
             "#0d0887"
            ],
            [
             0.1111111111111111,
             "#46039f"
            ],
            [
             0.2222222222222222,
             "#7201a8"
            ],
            [
             0.3333333333333333,
             "#9c179e"
            ],
            [
             0.4444444444444444,
             "#bd3786"
            ],
            [
             0.5555555555555556,
             "#d8576b"
            ],
            [
             0.6666666666666666,
             "#ed7953"
            ],
            [
             0.7777777777777778,
             "#fb9f3a"
            ],
            [
             0.8888888888888888,
             "#fdca26"
            ],
            [
             1,
             "#f0f921"
            ]
           ]
          },
          "colorway": [
           "#636efa",
           "#EF553B",
           "#00cc96",
           "#ab63fa",
           "#FFA15A",
           "#19d3f3",
           "#FF6692",
           "#B6E880",
           "#FF97FF",
           "#FECB52"
          ],
          "font": {
           "color": "#2a3f5f"
          },
          "geo": {
           "bgcolor": "white",
           "lakecolor": "white",
           "landcolor": "#E5ECF6",
           "showlakes": true,
           "showland": true,
           "subunitcolor": "white"
          },
          "hoverlabel": {
           "align": "left"
          },
          "hovermode": "closest",
          "mapbox": {
           "style": "light"
          },
          "paper_bgcolor": "white",
          "plot_bgcolor": "#E5ECF6",
          "polar": {
           "angularaxis": {
            "gridcolor": "white",
            "linecolor": "white",
            "ticks": ""
           },
           "bgcolor": "#E5ECF6",
           "radialaxis": {
            "gridcolor": "white",
            "linecolor": "white",
            "ticks": ""
           }
          },
          "scene": {
           "xaxis": {
            "backgroundcolor": "#E5ECF6",
            "gridcolor": "white",
            "gridwidth": 2,
            "linecolor": "white",
            "showbackground": true,
            "ticks": "",
            "zerolinecolor": "white"
           },
           "yaxis": {
            "backgroundcolor": "#E5ECF6",
            "gridcolor": "white",
            "gridwidth": 2,
            "linecolor": "white",
            "showbackground": true,
            "ticks": "",
            "zerolinecolor": "white"
           },
           "zaxis": {
            "backgroundcolor": "#E5ECF6",
            "gridcolor": "white",
            "gridwidth": 2,
            "linecolor": "white",
            "showbackground": true,
            "ticks": "",
            "zerolinecolor": "white"
           }
          },
          "shapedefaults": {
           "line": {
            "color": "#2a3f5f"
           }
          },
          "ternary": {
           "aaxis": {
            "gridcolor": "white",
            "linecolor": "white",
            "ticks": ""
           },
           "baxis": {
            "gridcolor": "white",
            "linecolor": "white",
            "ticks": ""
           },
           "bgcolor": "#E5ECF6",
           "caxis": {
            "gridcolor": "white",
            "linecolor": "white",
            "ticks": ""
           }
          },
          "title": {
           "x": 0.05
          },
          "xaxis": {
           "automargin": true,
           "gridcolor": "white",
           "linecolor": "white",
           "ticks": "",
           "title": {
            "standoff": 15
           },
           "zerolinecolor": "white",
           "zerolinewidth": 2
          },
          "yaxis": {
           "automargin": true,
           "gridcolor": "white",
           "linecolor": "white",
           "ticks": "",
           "title": {
            "standoff": 15
           },
           "zerolinecolor": "white",
           "zerolinewidth": 2
          }
         }
        },
        "title": {
         "text": "Distribution of average daily tweets by Cluster"
        },
        "xaxis": {
         "anchor": "y",
         "autorange": true,
         "categoryarray": [
          1,
          0,
          2,
          5,
          3,
          4
         ],
         "categoryorder": "array",
         "domain": [
          0,
          1
         ],
         "range": [
          -0.5,
          5.5
         ],
         "title": {
          "text": "Cluster"
         },
         "type": "linear"
        },
        "yaxis": {
         "anchor": "x",
         "autorange": true,
         "domain": [
          0,
          1
         ],
         "range": [
          -4.444444444444445,
          104.44444444444444
         ],
         "title": {
          "text": "average daily tweets"
         },
         "type": "linear"
        }
       }
      },
      "image/png": "[encoded data removed]",
      "text/html": [
       "<div>                            <div id=\"f56fc51c-1221-4b32-94b7-49cc840a3fb0\" class=\"plotly-graph-div\" style=\"height:525px; width:100%;\"></div>            <script type=\"text/javascript\">                require([\"plotly\"], function(Plotly) {                    window.PLOTLYENV=window.PLOTLYENV || {};                                    if (document.getElementById(\"f56fc51c-1221-4b32-94b7-49cc840a3fb0\")) {                    Plotly.newPlot(                        \"f56fc51c-1221-4b32-94b7-49cc840a3fb0\",                        [{\"alignmentgroup\":\"True\",\"hovertemplate\":\"cluster=%{x}<br>average daily tweets=%{y}<extra></extra>\",\"legendgroup\":\"1\",\"marker\":{\"color\":\"#636efa\"},\"name\":\"1\",\"notched\":false,\"offsetgroup\":\"1\",\"orientation\":\"v\",\"showlegend\":true,\"x\":[1,1,1,1,1,1,1,1,1,1,1,1,1,1,1,1],\"x0\":\" \",\"xaxis\":\"x\",\"y\":[3.555555555555556,44.5,48.5,1.3,41.0,99.0,4.0,46.5,9.9,3.8,1.1774193548387095,8.8,3.066666666666667,3.555555555555556,1.101123595505618,1.4054054054054057],\"y0\":\" \",\"yaxis\":\"y\",\"type\":\"box\"},{\"alignmentgroup\":\"True\",\"hovertemplate\":\"cluster=%{x}<br>average daily tweets=%{y}<extra></extra>\",\"legendgroup\":\"0\",\"marker\":{\"color\":\"#EF553B\"},\"name\":\"0\",\"notched\":false,\"offsetgroup\":\"0\",\"orientation\":\"v\",\"showlegend\":true,\"x\":[0,0,0,0,0,0,0,0],\"x0\":\" \",\"xaxis\":\"x\",\"y\":[1.7222222222222223,2.361111111111111,1.660377358490566,1.7,4.769230769230769,1.3859649122807018,7.0,10.88888888888889],\"y0\":\" \",\"yaxis\":\"y\",\"type\":\"box\"},{\"alignmentgroup\":\"True\",\"hovertemplate\":\"cluster=%{x}<br>average daily tweets=%{y}<extra></extra>\",\"legendgroup\":\"2\",\"marker\":{\"color\":\"#00cc96\"},\"name\":\"2\",\"notched\":false,\"offsetgroup\":\"2\",\"orientation\":\"v\",\"showlegend\":true,\"x\":[2,2,2,2,2,2,2,2,2,2,2,2,2,2,2,2,2,2,2],\"x0\":\" \",\"xaxis\":\"x\",\"y\":[17.6,2.35,6.727272727272728,3.230769230769231,1.0,8.777777777777779,39.0,14.5,1.2666666666666666,1.5806451612903225,5.0,7.5,1.7647058823529411,1.4074074074074074,1.0,1.0,1.5277777777777777,6.7,1.8666666666666667],\"y0\":\" \",\"yaxis\":\"y\",\"type\":\"box\"},{\"alignmentgroup\":\"True\",\"hovertemplate\":\"cluster=%{x}<br>average daily tweets=%{y}<extra></extra>\",\"legendgroup\":\"5\",\"marker\":{\"color\":\"#ab63fa\"},\"name\":\"5\",\"notched\":false,\"offsetgroup\":\"5\",\"orientation\":\"v\",\"showlegend\":true,\"x\":[5,5,5,5,5,5,5,5,5,5,5,5,5,5,5,5,5],\"x0\":\" \",\"xaxis\":\"x\",\"y\":[1.7894736842105263,1.5952380952380951,1.696969696969697,2.225806451612903,1.3166666666666669,1.6285714285714286,2.3783783783783785,1.7307692307692308,1.25,2.033333333333333,1.2608695652173914,1.0735294117647058,1.1358024691358024,1.5116279069767442,1.5,14.166666666666666,12.571428571428571],\"y0\":\" \",\"yaxis\":\"y\",\"type\":\"box\"},{\"alignmentgroup\":\"True\",\"hovertemplate\":\"cluster=%{x}<br>average daily tweets=%{y}<extra></extra>\",\"legendgroup\":\"3\",\"marker\":{\"color\":\"#FFA15A\"},\"name\":\"3\",\"notched\":false,\"offsetgroup\":\"3\",\"orientation\":\"v\",\"showlegend\":true,\"x\":[3,3,3,3,3,3,3,3,3,3,3,3,3,3,3,3,3,3,3,3,3,3,3,3],\"x0\":\" \",\"xaxis\":\"x\",\"y\":[9.0,2.2045454545454546,1.4307692307692308,1.4761904761904765,1.4166666666666667,1.2105263157894737,1.471698113207547,1.5576923076923077,1.2444444444444445,1.56,2.117647058823529,1.1071428571428572,1.3846153846153846,1.392156862745098,7.636363636363637,1.3773584905660377,1.263157894736842,1.1111111111111112,1.5178571428571428,1.08,1.2195121951219512,1.5614035087719298,2.242424242424242,1.697674418604651],\"y0\":\" \",\"yaxis\":\"y\",\"type\":\"box\"},{\"alignmentgroup\":\"True\",\"hovertemplate\":\"cluster=%{x}<br>average daily tweets=%{y}<extra></extra>\",\"legendgroup\":\"4\",\"marker\":{\"color\":\"#19d3f3\"},\"name\":\"4\",\"notched\":false,\"offsetgroup\":\"4\",\"orientation\":\"v\",\"showlegend\":true,\"x\":[4,4,4,4,4,4,4,4,4,4,4,4],\"x0\":\" \",\"xaxis\":\"x\",\"y\":[1.261904761904762,7.222222222222222,2.2962962962962963,1.064516129032258,1.3442622950819672,1.3055555555555556,1.0,1.4333333333333331,1.5,1.031746031746032,1.1428571428571428,1.2340425531914894],\"y0\":\" \",\"yaxis\":\"y\",\"type\":\"box\"}],                        {\"template\":{\"data\":{\"histogram2dcontour\":[{\"type\":\"histogram2dcontour\",\"colorbar\":{\"outlinewidth\":0,\"ticks\":\"\"},\"colorscale\":[[0.0,\"#0d0887\"],[0.1111111111111111,\"#46039f\"],[0.2222222222222222,\"#7201a8\"],[0.3333333333333333,\"#9c179e\"],[0.4444444444444444,\"#bd3786\"],[0.5555555555555556,\"#d8576b\"],[0.6666666666666666,\"#ed7953\"],[0.7777777777777778,\"#fb9f3a\"],[0.8888888888888888,\"#fdca26\"],[1.0,\"#f0f921\"]]}],\"choropleth\":[{\"type\":\"choropleth\",\"colorbar\":{\"outlinewidth\":0,\"ticks\":\"\"}}],\"histogram2d\":[{\"type\":\"histogram2d\",\"colorbar\":{\"outlinewidth\":0,\"ticks\":\"\"},\"colorscale\":[[0.0,\"#0d0887\"],[0.1111111111111111,\"#46039f\"],[0.2222222222222222,\"#7201a8\"],[0.3333333333333333,\"#9c179e\"],[0.4444444444444444,\"#bd3786\"],[0.5555555555555556,\"#d8576b\"],[0.6666666666666666,\"#ed7953\"],[0.7777777777777778,\"#fb9f3a\"],[0.8888888888888888,\"#fdca26\"],[1.0,\"#f0f921\"]]}],\"heatmap\":[{\"type\":\"heatmap\",\"colorbar\":{\"outlinewidth\":0,\"ticks\":\"\"},\"colorscale\":[[0.0,\"#0d0887\"],[0.1111111111111111,\"#46039f\"],[0.2222222222222222,\"#7201a8\"],[0.3333333333333333,\"#9c179e\"],[0.4444444444444444,\"#bd3786\"],[0.5555555555555556,\"#d8576b\"],[0.6666666666666666,\"#ed7953\"],[0.7777777777777778,\"#fb9f3a\"],[0.8888888888888888,\"#fdca26\"],[1.0,\"#f0f921\"]]}],\"heatmapgl\":[{\"type\":\"heatmapgl\",\"colorbar\":{\"outlinewidth\":0,\"ticks\":\"\"},\"colorscale\":[[0.0,\"#0d0887\"],[0.1111111111111111,\"#46039f\"],[0.2222222222222222,\"#7201a8\"],[0.3333333333333333,\"#9c179e\"],[0.4444444444444444,\"#bd3786\"],[0.5555555555555556,\"#d8576b\"],[0.6666666666666666,\"#ed7953\"],[0.7777777777777778,\"#fb9f3a\"],[0.8888888888888888,\"#fdca26\"],[1.0,\"#f0f921\"]]}],\"contourcarpet\":[{\"type\":\"contourcarpet\",\"colorbar\":{\"outlinewidth\":0,\"ticks\":\"\"}}],\"contour\":[{\"type\":\"contour\",\"colorbar\":{\"outlinewidth\":0,\"ticks\":\"\"},\"colorscale\":[[0.0,\"#0d0887\"],[0.1111111111111111,\"#46039f\"],[0.2222222222222222,\"#7201a8\"],[0.3333333333333333,\"#9c179e\"],[0.4444444444444444,\"#bd3786\"],[0.5555555555555556,\"#d8576b\"],[0.6666666666666666,\"#ed7953\"],[0.7777777777777778,\"#fb9f3a\"],[0.8888888888888888,\"#fdca26\"],[1.0,\"#f0f921\"]]}],\"surface\":[{\"type\":\"surface\",\"colorbar\":{\"outlinewidth\":0,\"ticks\":\"\"},\"colorscale\":[[0.0,\"#0d0887\"],[0.1111111111111111,\"#46039f\"],[0.2222222222222222,\"#7201a8\"],[0.3333333333333333,\"#9c179e\"],[0.4444444444444444,\"#bd3786\"],[0.5555555555555556,\"#d8576b\"],[0.6666666666666666,\"#ed7953\"],[0.7777777777777778,\"#fb9f3a\"],[0.8888888888888888,\"#fdca26\"],[1.0,\"#f0f921\"]]}],\"mesh3d\":[{\"type\":\"mesh3d\",\"colorbar\":{\"outlinewidth\":0,\"ticks\":\"\"}}],\"scatter\":[{\"fillpattern\":{\"fillmode\":\"overlay\",\"size\":10,\"solidity\":0.2},\"type\":\"scatter\"}],\"parcoords\":[{\"type\":\"parcoords\",\"line\":{\"colorbar\":{\"outlinewidth\":0,\"ticks\":\"\"}}}],\"scatterpolargl\":[{\"type\":\"scatterpolargl\",\"marker\":{\"colorbar\":{\"outlinewidth\":0,\"ticks\":\"\"}}}],\"bar\":[{\"error_x\":{\"color\":\"#2a3f5f\"},\"error_y\":{\"color\":\"#2a3f5f\"},\"marker\":{\"line\":{\"color\":\"#E5ECF6\",\"width\":0.5},\"pattern\":{\"fillmode\":\"overlay\",\"size\":10,\"solidity\":0.2}},\"type\":\"bar\"}],\"scattergeo\":[{\"type\":\"scattergeo\",\"marker\":{\"colorbar\":{\"outlinewidth\":0,\"ticks\":\"\"}}}],\"scatterpolar\":[{\"type\":\"scatterpolar\",\"marker\":{\"colorbar\":{\"outlinewidth\":0,\"ticks\":\"\"}}}],\"histogram\":[{\"marker\":{\"pattern\":{\"fillmode\":\"overlay\",\"size\":10,\"solidity\":0.2}},\"type\":\"histogram\"}],\"scattergl\":[{\"type\":\"scattergl\",\"marker\":{\"colorbar\":{\"outlinewidth\":0,\"ticks\":\"\"}}}],\"scatter3d\":[{\"type\":\"scatter3d\",\"line\":{\"colorbar\":{\"outlinewidth\":0,\"ticks\":\"\"}},\"marker\":{\"colorbar\":{\"outlinewidth\":0,\"ticks\":\"\"}}}],\"scattermapbox\":[{\"type\":\"scattermapbox\",\"marker\":{\"colorbar\":{\"outlinewidth\":0,\"ticks\":\"\"}}}],\"scatterternary\":[{\"type\":\"scatterternary\",\"marker\":{\"colorbar\":{\"outlinewidth\":0,\"ticks\":\"\"}}}],\"scattercarpet\":[{\"type\":\"scattercarpet\",\"marker\":{\"colorbar\":{\"outlinewidth\":0,\"ticks\":\"\"}}}],\"carpet\":[{\"aaxis\":{\"endlinecolor\":\"#2a3f5f\",\"gridcolor\":\"white\",\"linecolor\":\"white\",\"minorgridcolor\":\"white\",\"startlinecolor\":\"#2a3f5f\"},\"baxis\":{\"endlinecolor\":\"#2a3f5f\",\"gridcolor\":\"white\",\"linecolor\":\"white\",\"minorgridcolor\":\"white\",\"startlinecolor\":\"#2a3f5f\"},\"type\":\"carpet\"}],\"table\":[{\"cells\":{\"fill\":{\"color\":\"#EBF0F8\"},\"line\":{\"color\":\"white\"}},\"header\":{\"fill\":{\"color\":\"#C8D4E3\"},\"line\":{\"color\":\"white\"}},\"type\":\"table\"}],\"barpolar\":[{\"marker\":{\"line\":{\"color\":\"#E5ECF6\",\"width\":0.5},\"pattern\":{\"fillmode\":\"overlay\",\"size\":10,\"solidity\":0.2}},\"type\":\"barpolar\"}],\"pie\":[{\"automargin\":true,\"type\":\"pie\"}]},\"layout\":{\"autotypenumbers\":\"strict\",\"colorway\":[\"#636efa\",\"#EF553B\",\"#00cc96\",\"#ab63fa\",\"#FFA15A\",\"#19d3f3\",\"#FF6692\",\"#B6E880\",\"#FF97FF\",\"#FECB52\"],\"font\":{\"color\":\"#2a3f5f\"},\"hovermode\":\"closest\",\"hoverlabel\":{\"align\":\"left\"},\"paper_bgcolor\":\"white\",\"plot_bgcolor\":\"#E5ECF6\",\"polar\":{\"bgcolor\":\"#E5ECF6\",\"angularaxis\":{\"gridcolor\":\"white\",\"linecolor\":\"white\",\"ticks\":\"\"},\"radialaxis\":{\"gridcolor\":\"white\",\"linecolor\":\"white\",\"ticks\":\"\"}},\"ternary\":{\"bgcolor\":\"#E5ECF6\",\"aaxis\":{\"gridcolor\":\"white\",\"linecolor\":\"white\",\"ticks\":\"\"},\"baxis\":{\"gridcolor\":\"white\",\"linecolor\":\"white\",\"ticks\":\"\"},\"caxis\":{\"gridcolor\":\"white\",\"linecolor\":\"white\",\"ticks\":\"\"}},\"coloraxis\":{\"colorbar\":{\"outlinewidth\":0,\"ticks\":\"\"}},\"colorscale\":{\"sequential\":[[0.0,\"#0d0887\"],[0.1111111111111111,\"#46039f\"],[0.2222222222222222,\"#7201a8\"],[0.3333333333333333,\"#9c179e\"],[0.4444444444444444,\"#bd3786\"],[0.5555555555555556,\"#d8576b\"],[0.6666666666666666,\"#ed7953\"],[0.7777777777777778,\"#fb9f3a\"],[0.8888888888888888,\"#fdca26\"],[1.0,\"#f0f921\"]],\"sequentialminus\":[[0.0,\"#0d0887\"],[0.1111111111111111,\"#46039f\"],[0.2222222222222222,\"#7201a8\"],[0.3333333333333333,\"#9c179e\"],[0.4444444444444444,\"#bd3786\"],[0.5555555555555556,\"#d8576b\"],[0.6666666666666666,\"#ed7953\"],[0.7777777777777778,\"#fb9f3a\"],[0.8888888888888888,\"#fdca26\"],[1.0,\"#f0f921\"]],\"diverging\":[[0,\"#8e0152\"],[0.1,\"#c51b7d\"],[0.2,\"#de77ae\"],[0.3,\"#f1b6da\"],[0.4,\"#fde0ef\"],[0.5,\"#f7f7f7\"],[0.6,\"#e6f5d0\"],[0.7,\"#b8e186\"],[0.8,\"#7fbc41\"],[0.9,\"#4d9221\"],[1,\"#276419\"]]},\"xaxis\":{\"gridcolor\":\"white\",\"linecolor\":\"white\",\"ticks\":\"\",\"title\":{\"standoff\":15},\"zerolinecolor\":\"white\",\"automargin\":true,\"zerolinewidth\":2},\"yaxis\":{\"gridcolor\":\"white\",\"linecolor\":\"white\",\"ticks\":\"\",\"title\":{\"standoff\":15},\"zerolinecolor\":\"white\",\"automargin\":true,\"zerolinewidth\":2},\"scene\":{\"xaxis\":{\"backgroundcolor\":\"#E5ECF6\",\"gridcolor\":\"white\",\"linecolor\":\"white\",\"showbackground\":true,\"ticks\":\"\",\"zerolinecolor\":\"white\",\"gridwidth\":2},\"yaxis\":{\"backgroundcolor\":\"#E5ECF6\",\"gridcolor\":\"white\",\"linecolor\":\"white\",\"showbackground\":true,\"ticks\":\"\",\"zerolinecolor\":\"white\",\"gridwidth\":2},\"zaxis\":{\"backgroundcolor\":\"#E5ECF6\",\"gridcolor\":\"white\",\"linecolor\":\"white\",\"showbackground\":true,\"ticks\":\"\",\"zerolinecolor\":\"white\",\"gridwidth\":2}},\"shapedefaults\":{\"line\":{\"color\":\"#2a3f5f\"}},\"annotationdefaults\":{\"arrowcolor\":\"#2a3f5f\",\"arrowhead\":0,\"arrowwidth\":1},\"geo\":{\"bgcolor\":\"white\",\"landcolor\":\"#E5ECF6\",\"subunitcolor\":\"white\",\"showland\":true,\"showlakes\":true,\"lakecolor\":\"white\"},\"title\":{\"x\":0.05},\"mapbox\":{\"style\":\"light\"}}},\"xaxis\":{\"anchor\":\"y\",\"domain\":[0.0,1.0],\"title\":{\"text\":\"Cluster\"},\"categoryorder\":\"array\",\"categoryarray\":[1,0,2,5,3,4]},\"yaxis\":{\"anchor\":\"x\",\"domain\":[0.0,1.0],\"title\":{\"text\":\"average daily tweets\"}},\"legend\":{\"title\":{\"text\":\"Cluster\"},\"tracegroupgap\":0},\"margin\":{\"t\":60},\"boxmode\":\"overlay\",\"title\":{\"text\":\"Distribution of average daily tweets by Cluster\"}},                        {\"responsive\": true}                    ).then(function(){\n",
       "                            \n",
       "var gd = document.getElementById('f56fc51c-1221-4b32-94b7-49cc840a3fb0');\n",
       "var x = new MutationObserver(function (mutations, observer) {{\n",
       "        var display = window.getComputedStyle(gd).display;\n",
       "        if (!display || display === 'none') {{\n",
       "            console.log([gd, 'removed!']);\n",
       "            Plotly.purge(gd);\n",
       "            observer.disconnect();\n",
       "        }}\n",
       "}});\n",
       "\n",
       "// Listen for the removal of the full notebook cells\n",
       "var notebookContainer = gd.closest('#notebook-container');\n",
       "if (notebookContainer) {{\n",
       "    x.observe(notebookContainer, {childList: true});\n",
       "}}\n",
       "\n",
       "// Listen for the clearing of the current output cell\n",
       "var outputEl = gd.closest('.output');\n",
       "if (outputEl) {{\n",
       "    x.observe(outputEl, {childList: true});\n",
       "}}\n",
       "\n",
       "                        })                };                });            </script>        </div>"
      ]
     },
     "metadata": {},
     "output_type": "display_data"
    }
   ],
   "source": [
    "import plotly.express as px\n",
    "\n",
    "analysis_df = pd.read_csv(r\"C:\\Users\\johna\\anaconda3\\envs\\twitter-influence-env\\twitter-influence\\data\\02_intermediate\\tweet_analysis_data.csv\")\n",
    "\n",
    "\n",
    "# Create a list of the columns you want to plot distributions for\n",
    "columns_to_plot = ['followers', 'average daily tweets']\n",
    "\n",
    "# Iterate over the columns and create a distribution plot for each\n",
    "for column in columns_to_plot:\n",
    "    fig = px.box(analysis_df, x=\"cluster\", y=column, color=\"cluster\")\n",
    "    fig.update_layout(\n",
    "        title=f\"Distribution of {column} by Cluster\",\n",
    "        xaxis_title=\"Cluster\",\n",
    "        yaxis_title=column,\n",
    "        legend_title=\"Cluster\",\n",
    "    )\n",
    "    fig.show()"
   ]
  },
  {
   "cell_type": "code",
   "execution_count": 42,
   "id": "9561a93d-8a51-4274-9a8a-3cbf6bba6000",
   "metadata": {
    "tags": []
   },
   "outputs": [],
   "source": [
    "# Create a contingency table with counts of positive and non-positive samples for each cluster\n",
    "import pandas as pd\n",
    "import numpy as np\n",
    "from scipy.stats import chi2_contingency\n",
    "\n",
    "tweet_level_metrics = tweets_with_sentiment.merge(how='left', right=analysis_df[['user_id', 'cluster']], left_on='user_id', right_on='user_id')\n",
    "\n",
    "\n",
    "def run_chisquare_analysis(df, var):\n",
    "    contingency_table = pd.crosstab(df['cluster'], df[var])\n",
    "\n",
    "    # Perform the Chi-square test\n",
    "    chi2_stat, p_value, dof, ex = chi2_contingency(contingency_table)\n",
    "\n",
    "    # Calculate the standardized residuals\n",
    "    standardized_residuals = (contingency_table - ex) / np.sqrt(ex)\n",
    "    \n",
    "    #standardized_residuals.index.name = None\n",
    "    standardized_residuals = standardized_residuals.reset_index()\n",
    "\n",
    "    print(\"Chi2 Stat:\", chi2_stat)\n",
    "    print(\"P Value:\", p_value)\n",
    "    print(\"Degrees of Freedom:\", dof)\n",
    "    # print(\"Expected Frequency Table:\")\n",
    "    # print(ex)\n",
    "\n",
    "    return standardized_residuals"
   ]
  },
  {
   "cell_type": "code",
   "execution_count": 43,
   "id": "f01d9ab9-75c8-461b-8b8f-496ab372c249",
   "metadata": {
    "tags": []
   },
   "outputs": [
    {
     "name": "stdout",
     "output_type": "stream",
     "text": [
      "Chi2 Stat: 2291.231680297807\n",
      "P Value: 0.0\n",
      "Degrees of Freedom: 15\n"
     ]
    },
    {
     "data": {
      "text/html": [
       "<div>\n",
       "<style scoped>\n",
       "    .dataframe tbody tr th:only-of-type {\n",
       "        vertical-align: middle;\n",
       "    }\n",
       "\n",
       "    .dataframe tbody tr th {\n",
       "        vertical-align: top;\n",
       "    }\n",
       "\n",
       "    .dataframe thead th {\n",
       "        text-align: right;\n",
       "    }\n",
       "</style>\n",
       "<table border=\"1\" class=\"dataframe\">\n",
       "  <thead>\n",
       "    <tr style=\"text-align: right;\">\n",
       "      <th>emotion</th>\n",
       "      <th>cluster</th>\n",
       "      <th>anger</th>\n",
       "      <th>joy</th>\n",
       "      <th>optimism</th>\n",
       "      <th>sadness</th>\n",
       "    </tr>\n",
       "  </thead>\n",
       "  <tbody>\n",
       "    <tr>\n",
       "      <th>0</th>\n",
       "      <td>0</td>\n",
       "      <td>26.996266</td>\n",
       "      <td>0.282754</td>\n",
       "      <td>-12.757279</td>\n",
       "      <td>-2.317548</td>\n",
       "    </tr>\n",
       "    <tr>\n",
       "      <th>1</th>\n",
       "      <td>1</td>\n",
       "      <td>3.817069</td>\n",
       "      <td>17.572864</td>\n",
       "      <td>-14.152016</td>\n",
       "      <td>16.394102</td>\n",
       "    </tr>\n",
       "    <tr>\n",
       "      <th>2</th>\n",
       "      <td>2</td>\n",
       "      <td>-8.456980</td>\n",
       "      <td>-5.046660</td>\n",
       "      <td>7.708368</td>\n",
       "      <td>-4.620196</td>\n",
       "    </tr>\n",
       "    <tr>\n",
       "      <th>3</th>\n",
       "      <td>3</td>\n",
       "      <td>-6.561796</td>\n",
       "      <td>-1.297476</td>\n",
       "      <td>4.247726</td>\n",
       "      <td>-1.398596</td>\n",
       "    </tr>\n",
       "    <tr>\n",
       "      <th>4</th>\n",
       "      <td>4</td>\n",
       "      <td>3.298702</td>\n",
       "      <td>-6.220708</td>\n",
       "      <td>2.234836</td>\n",
       "      <td>-4.532003</td>\n",
       "    </tr>\n",
       "    <tr>\n",
       "      <th>5</th>\n",
       "      <td>5</td>\n",
       "      <td>-9.619177</td>\n",
       "      <td>-7.650203</td>\n",
       "      <td>9.775780</td>\n",
       "      <td>-6.130738</td>\n",
       "    </tr>\n",
       "  </tbody>\n",
       "</table>\n",
       "</div>"
      ],
      "text/plain": [
       "emotion  cluster      anger        joy   optimism    sadness\n",
       "0              0  26.996266   0.282754 -12.757279  -2.317548\n",
       "1              1   3.817069  17.572864 -14.152016  16.394102\n",
       "2              2  -8.456980  -5.046660   7.708368  -4.620196\n",
       "3              3  -6.561796  -1.297476   4.247726  -1.398596\n",
       "4              4   3.298702  -6.220708   2.234836  -4.532003\n",
       "5              5  -9.619177  -7.650203   9.775780  -6.130738"
      ]
     },
     "execution_count": 43,
     "metadata": {},
     "output_type": "execute_result"
    }
   ],
   "source": [
    "standardized_residuals_emotion = run_chisquare_analysis(df=tweet_level_metrics, var='emotion')\n",
    "standardized_residuals_emotion"
   ]
  },
  {
   "cell_type": "code",
   "execution_count": 44,
   "id": "d516a1b8-6662-42c0-9c04-dd90af64b1e8",
   "metadata": {
    "tags": []
   },
   "outputs": [
    {
     "name": "stdout",
     "output_type": "stream",
     "text": [
      "Chi2 Stat: 1535.7881575074448\n",
      "P Value: 0.0\n",
      "Degrees of Freedom: 10\n"
     ]
    },
    {
     "data": {
      "text/html": [
       "<div>\n",
       "<style scoped>\n",
       "    .dataframe tbody tr th:only-of-type {\n",
       "        vertical-align: middle;\n",
       "    }\n",
       "\n",
       "    .dataframe tbody tr th {\n",
       "        vertical-align: top;\n",
       "    }\n",
       "\n",
       "    .dataframe thead th {\n",
       "        text-align: right;\n",
       "    }\n",
       "</style>\n",
       "<table border=\"1\" class=\"dataframe\">\n",
       "  <thead>\n",
       "    <tr style=\"text-align: right;\">\n",
       "      <th>sentiment</th>\n",
       "      <th>cluster</th>\n",
       "      <th>negative</th>\n",
       "      <th>neutral</th>\n",
       "      <th>positive</th>\n",
       "    </tr>\n",
       "  </thead>\n",
       "  <tbody>\n",
       "    <tr>\n",
       "      <th>0</th>\n",
       "      <td>0</td>\n",
       "      <td>1.465019</td>\n",
       "      <td>-4.680520</td>\n",
       "      <td>3.089502</td>\n",
       "    </tr>\n",
       "    <tr>\n",
       "      <th>1</th>\n",
       "      <td>1</td>\n",
       "      <td>15.927987</td>\n",
       "      <td>13.728492</td>\n",
       "      <td>-16.759989</td>\n",
       "    </tr>\n",
       "    <tr>\n",
       "      <th>2</th>\n",
       "      <td>2</td>\n",
       "      <td>-8.009007</td>\n",
       "      <td>12.648892</td>\n",
       "      <td>-6.807765</td>\n",
       "    </tr>\n",
       "    <tr>\n",
       "      <th>3</th>\n",
       "      <td>3</td>\n",
       "      <td>0.358029</td>\n",
       "      <td>-5.348576</td>\n",
       "      <td>4.031406</td>\n",
       "    </tr>\n",
       "    <tr>\n",
       "      <th>4</th>\n",
       "      <td>4</td>\n",
       "      <td>-4.716698</td>\n",
       "      <td>-10.365907</td>\n",
       "      <td>9.872537</td>\n",
       "    </tr>\n",
       "    <tr>\n",
       "      <th>5</th>\n",
       "      <td>5</td>\n",
       "      <td>-6.965723</td>\n",
       "      <td>-9.402372</td>\n",
       "      <td>9.977770</td>\n",
       "    </tr>\n",
       "  </tbody>\n",
       "</table>\n",
       "</div>"
      ],
      "text/plain": [
       "sentiment  cluster   negative    neutral   positive\n",
       "0                0   1.465019  -4.680520   3.089502\n",
       "1                1  15.927987  13.728492 -16.759989\n",
       "2                2  -8.009007  12.648892  -6.807765\n",
       "3                3   0.358029  -5.348576   4.031406\n",
       "4                4  -4.716698 -10.365907   9.872537\n",
       "5                5  -6.965723  -9.402372   9.977770"
      ]
     },
     "execution_count": 44,
     "metadata": {},
     "output_type": "execute_result"
    }
   ],
   "source": [
    "standardized_residuals_sentiment = run_chisquare_analysis(df=tweet_level_metrics, var='sentiment')\n",
    "standardized_residuals_sentiment"
   ]
  },
  {
   "cell_type": "code",
   "execution_count": 45,
   "id": "69bbd31e-f830-4856-9831-8e12c23e94cc",
   "metadata": {
    "tags": []
   },
   "outputs": [
    {
     "data": {
      "image/png": "[encoded data removed]",
      "text/plain": [
       "<Figure size 800x400 with 2 Axes>"
      ]
     },
     "metadata": {},
     "output_type": "display_data"
    }
   ],
   "source": [
    "import seaborn as sns\n",
    "import matplotlib.pyplot as plt\n",
    "\n",
    "# Prepare the data for the heatmap\n",
    "heatmap_data = standardized_residuals_sentiment.set_index('cluster')[['negative', 'neutral', 'positive']]\n",
    "\n",
    "# Create the heatmap\n",
    "plt.figure(figsize=(8, 4))\n",
    "sns.heatmap(heatmap_data, cmap='coolwarm', annot=True, linewidths=0.5, center=0)\n",
    "plt.title('Sentiment Values by Cluster')\n",
    "plt.xlabel('Sentiment')\n",
    "plt.ylabel('Cluster')\n",
    "plt.show()\n",
    "\n"
   ]
  },
  {
   "cell_type": "code",
   "execution_count": 46,
   "id": "92ffb6dc-b260-4125-b983-271f14bb2eb1",
   "metadata": {
    "tags": []
   },
   "outputs": [
    {
     "data": {
      "image/png": "[encoded data removed]",
      "text/plain": [
       "<Figure size 800x400 with 2 Axes>"
      ]
     },
     "metadata": {},
     "output_type": "display_data"
    }
   ],
   "source": [
    "import seaborn as sns\n",
    "import matplotlib.pyplot as plt\n",
    "\n",
    "# Prepare the data for the heatmap\n",
    "heatmap_data = standardized_residuals_emotion.set_index('cluster')[['anger', 'joy', 'optimism', 'sadness']]\n",
    "\n",
    "# Create the heatmap\n",
    "plt.figure(figsize=(8, 4))\n",
    "sns.heatmap(heatmap_data, cmap='coolwarm', annot=True, linewidths=0.5, center=0)\n",
    "plt.title('Sentiment Values by Cluster')\n",
    "plt.xlabel('Sentiment')\n",
    "plt.ylabel('Cluster')\n",
    "plt.show()"
   ]
  },
  {
   "cell_type": "code",
   "execution_count": 47,
   "id": "de5306dd-1c0b-4e2a-bf84-96e68f92eca3",
   "metadata": {
    "tags": []
   },
   "outputs": [
    {
     "data": {
      "text/plain": [
       "5        Barack Obama\n",
       "6           Joe Biden\n",
       "48         Bill Gates\n",
       "72        Emma Watson\n",
       "87          PMO India\n",
       "92    Hillary Clinton\n",
       "94          Amit Shah\n",
       "95    President Biden\n",
       "Name: name, dtype: object"
      ]
     },
     "execution_count": 47,
     "metadata": {},
     "output_type": "execute_result"
    }
   ],
   "source": [
    "# who's in the clusters \n",
    "\n",
    "cluster_0 = analysis_df.loc[analysis_df['cluster']==0]['name']\n",
    "cluster_0"
   ]
  },
  {
   "cell_type": "code",
   "execution_count": 48,
   "id": "ecaae038-5378-4b17-825d-6f7d2c6a8e06",
   "metadata": {
    "tags": []
   },
   "outputs": [
    {
     "data": {
      "text/plain": [
       "0       CNN Breaking News\n",
       "1        BBC News (World)\n",
       "2                     CNN\n",
       "3                 Twitter\n",
       "4      The New York Times\n",
       "7                 Reuters\n",
       "9       BBC Breaking News\n",
       "10          The Economist\n",
       "19    National Geographic\n",
       "26            Wiz Khalifa\n",
       "33    Kourtney Kardashian\n",
       "34        Donald J. Trump\n",
       "45            Nicki Minaj\n",
       "46              Elon Musk\n",
       "62          Conan O'Brien\n",
       "91                Cardi B\n",
       "Name: name, dtype: object"
      ]
     },
     "execution_count": 48,
     "metadata": {},
     "output_type": "execute_result"
    }
   ],
   "source": [
    "cluster_1 = analysis_df.loc[analysis_df['cluster']==1]['name']\n",
    "cluster_1"
   ]
  },
  {
   "cell_type": "code",
   "execution_count": 49,
   "id": "9bd93b7a-b980-45ee-9921-4e7e2b931c05",
   "metadata": {
    "tags": []
   },
   "outputs": [
    {
     "data": {
      "text/plain": [
       "8                      ESPN\n",
       "11                  YouTube\n",
       "12              PlayStation\n",
       "13                     NASA\n",
       "15         Real Madrid C.F.\n",
       "24                      NFL\n",
       "25                      NBA\n",
       "36             SportsCenter\n",
       "38                   Drizzy\n",
       "39            Justin Bieber\n",
       "43                   SpaceX\n",
       "56             FC Barcelona\n",
       "73             BIGHIT MUSIC\n",
       "77                    Adele\n",
       "79              Whindersson\n",
       "80            netflixbrasil\n",
       "82              Miley Cyrus\n",
       "90    UEFA Champions League\n",
       "93             BTS_official\n",
       "Name: name, dtype: object"
      ]
     },
     "execution_count": 49,
     "metadata": {},
     "output_type": "execute_result"
    }
   ],
   "source": [
    "cluster_2 = analysis_df.loc[analysis_df['cluster']==2]['name']\n",
    "cluster_2"
   ]
  },
  {
   "cell_type": "code",
   "execution_count": 50,
   "id": "b4141717-1f8e-4c86-bccb-344ddb34f89c",
   "metadata": {
    "tags": []
   },
   "outputs": [
    {
     "data": {
      "text/plain": [
       "16         Jimmy Fallon\n",
       "17      Ellen DeGeneres\n",
       "20         Taylor Swift\n",
       "21             PRIYANKA\n",
       "23        Oprah Winfrey\n",
       "28          Demi Lovato\n",
       "29           KATY PERRY\n",
       "30         LeBron James\n",
       "32         Selena Gomez\n",
       "37    Justin Timberlake\n",
       "42                Khloé\n",
       "47              Shakira\n",
       "51              Rihanna\n",
       "57           Bruno Mars\n",
       "58       Shah Rukh Khan\n",
       "61       Hrithik Roshan\n",
       "63    Lil Wayne WEEZY F\n",
       "69              Kendall\n",
       "70                 Liam\n",
       "71            Neymar Jr\n",
       "74                 zayn\n",
       "75            Instagram\n",
       "78        One Direction\n",
       "85         Shawn Mendes\n",
       "Name: name, dtype: object"
      ]
     },
     "execution_count": 50,
     "metadata": {},
     "output_type": "execute_result"
    }
   ],
   "source": [
    "cluster_3 = analysis_df.loc[analysis_df['cluster']==3]['name']\n",
    "cluster_3"
   ]
  },
  {
   "cell_type": "code",
   "execution_count": 51,
   "id": "f9b050f2-2700-4f3a-bc30-4ea7a9f25cd0",
   "metadata": {
    "tags": []
   },
   "outputs": [
    {
     "data": {
      "text/plain": [
       "18      Britney Spears 🌹🚀\n",
       "22          Narendra Modi\n",
       "27                 Google\n",
       "49                   Kaka\n",
       "50            Virat Kohli\n",
       "54    Neil Patrick Harris\n",
       "55         Andrés Iniesta\n",
       "66       Sachin Tendulkar\n",
       "67       Amitabh Bachchan\n",
       "68      Cristiano Ronaldo\n",
       "86        Arvind Kejriwal\n",
       "88             Mesut Özil\n",
       "Name: name, dtype: object"
      ]
     },
     "execution_count": 51,
     "metadata": {},
     "output_type": "execute_result"
    }
   ],
   "source": [
    "cluster_4 = analysis_df.loc[analysis_df['cluster']==4]['name']\n",
    "cluster_4"
   ]
  },
  {
   "cell_type": "code",
   "execution_count": 52,
   "id": "8caef57b-8bfe-4f08-b225-a64b6640110f",
   "metadata": {
    "tags": []
   },
   "outputs": [
    {
     "data": {
      "text/plain": [
       "14            Lady Gaga\n",
       "31           Kevin Hart\n",
       "35       Kim Kardashian\n",
       "40                 P!nk\n",
       "41         Akshay Kumar\n",
       "44          Alicia Keys\n",
       "52      Louis Tomlinson\n",
       "53                  jlo\n",
       "59     Deepika Padukone\n",
       "60          Niall Horan\n",
       "64          Chris Brown\n",
       "65          Salman Khan\n",
       "76        Harry Styles.\n",
       "81         Kylie Jenner\n",
       "83                방탄소년단\n",
       "84       Premier League\n",
       "89    Manchester United\n",
       "Name: name, dtype: object"
      ]
     },
     "execution_count": 52,
     "metadata": {},
     "output_type": "execute_result"
    }
   ],
   "source": [
    "cluster_5 = analysis_df.loc[analysis_df['cluster']==5]['name']\n",
    "cluster_5"
   ]
  },
  {
   "cell_type": "code",
   "execution_count": null,
   "id": "8456e3bc-f4bc-4b13-b858-9618c01d27e1",
   "metadata": {},
   "outputs": [],
   "source": []
  }
 ],
 "metadata": {
  "kernelspec": {
   "display_name": "Python 3 (ipykernel)",
   "language": "python",
   "name": "python3"
  },
  "language_info": {
   "codemirror_mode": {
    "name": "ipython",
    "version": 3
   },
   "file_extension": ".py",
   "mimetype": "text/x-python",
   "name": "python",
   "nbconvert_exporter": "python",
   "pygments_lexer": "ipython3",
   "version": "3.10.10"
  }
 },
 "nbformat": 4,
 "nbformat_minor": 5
}
