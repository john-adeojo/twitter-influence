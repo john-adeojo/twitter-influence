{
 "cells": [
  {
   "cell_type": "code",
   "execution_count": 1,
   "id": "b5cfe6ee-52f8-4293-80e6-f9807e0587ea",
   "metadata": {
    "tags": []
   },
   "outputs": [],
   "source": [
    "import os\n",
    "import sys\n",
    "\n",
    "notebook_dir = os.path.dirname(os.path.abspath(\"__file__\"))\n",
    "project_dir = os.path.dirname(notebook_dir)\n",
    "\n",
    "if project_dir not in sys.path:\n",
    "    sys.path.append(project_dir)"
   ]
  },
  {
   "cell_type": "code",
   "execution_count": 2,
   "id": "8cfe78d6-83f0-4cad-aefd-e5acbfd392c4",
   "metadata": {
    "tags": []
   },
   "outputs": [
    {
     "data": {
      "text/html": [
       "<div>\n",
       "<style scoped>\n",
       "    .dataframe tbody tr th:only-of-type {\n",
       "        vertical-align: middle;\n",
       "    }\n",
       "\n",
       "    .dataframe tbody tr th {\n",
       "        vertical-align: top;\n",
       "    }\n",
       "\n",
       "    .dataframe thead th {\n",
       "        text-align: right;\n",
       "    }\n",
       "</style>\n",
       "<table border=\"1\" class=\"dataframe\">\n",
       "  <thead>\n",
       "    <tr style=\"text-align: right;\">\n",
       "      <th></th>\n",
       "      <th>tweet_id</th>\n",
       "      <th>creation_date</th>\n",
       "      <th>text</th>\n",
       "      <th>user_id</th>\n",
       "      <th>user_creation_date</th>\n",
       "      <th>username</th>\n",
       "      <th>name</th>\n",
       "      <th>follower_count</th>\n",
       "      <th>following_count</th>\n",
       "      <th>number_of_tweets</th>\n",
       "      <th>...</th>\n",
       "      <th>video_view_count</th>\n",
       "      <th>in_reply_to_status_id</th>\n",
       "      <th>quoted_status_id</th>\n",
       "      <th>date</th>\n",
       "      <th>month_year</th>\n",
       "      <th>date_day</th>\n",
       "      <th>favorite_count_pf</th>\n",
       "      <th>retweet_count_pf</th>\n",
       "      <th>quote_count_pf</th>\n",
       "      <th>reply_count_pf</th>\n",
       "    </tr>\n",
       "  </thead>\n",
       "  <tbody>\n",
       "    <tr>\n",
       "      <th>0</th>\n",
       "      <td>1640814094822383617</td>\n",
       "      <td>Tue Mar 28 20:32:19 +0000 2023</td>\n",
       "      <td>Grateful to all the first responders and volun...</td>\n",
       "      <td>813286</td>\n",
       "      <td>Mon Mar 05 22:08:25 +0000 2007</td>\n",
       "      <td>BarackObama</td>\n",
       "      <td>Barack Obama</td>\n",
       "      <td>133042583</td>\n",
       "      <td>562683</td>\n",
       "      <td>16792</td>\n",
       "      <td>...</td>\n",
       "      <td>NaN</td>\n",
       "      <td>NaN</td>\n",
       "      <td>NaN</td>\n",
       "      <td>2023-03-28 20:32:19</td>\n",
       "      <td>2023-03</td>\n",
       "      <td>2023-03-28</td>\n",
       "      <td>0.000048</td>\n",
       "      <td>0.000007</td>\n",
       "      <td>2.330081e-07</td>\n",
       "      <td>0.000002</td>\n",
       "    </tr>\n",
       "    <tr>\n",
       "      <th>1</th>\n",
       "      <td>1640485381459025920</td>\n",
       "      <td>Mon Mar 27 22:46:08 +0000 2023</td>\n",
       "      <td>We are failing our children. Guns are now the ...</td>\n",
       "      <td>813286</td>\n",
       "      <td>Mon Mar 05 22:08:25 +0000 2007</td>\n",
       "      <td>BarackObama</td>\n",
       "      <td>Barack Obama</td>\n",
       "      <td>133042583</td>\n",
       "      <td>562683</td>\n",
       "      <td>16792</td>\n",
       "      <td>...</td>\n",
       "      <td>2833072.0</td>\n",
       "      <td>NaN</td>\n",
       "      <td>NaN</td>\n",
       "      <td>2023-03-27 22:46:08</td>\n",
       "      <td>2023-03</td>\n",
       "      <td>2023-03-27</td>\n",
       "      <td>0.000917</td>\n",
       "      <td>0.000175</td>\n",
       "      <td>1.643835e-05</td>\n",
       "      <td>0.000127</td>\n",
       "    </tr>\n",
       "    <tr>\n",
       "      <th>2</th>\n",
       "      <td>1639039698675937281</td>\n",
       "      <td>Thu Mar 23 23:01:30 +0000 2023</td>\n",
       "      <td>I hope their stories inspire you to help us pr...</td>\n",
       "      <td>813286</td>\n",
       "      <td>Mon Mar 05 22:08:25 +0000 2007</td>\n",
       "      <td>BarackObama</td>\n",
       "      <td>Barack Obama</td>\n",
       "      <td>133042583</td>\n",
       "      <td>562683</td>\n",
       "      <td>16792</td>\n",
       "      <td>...</td>\n",
       "      <td>NaN</td>\n",
       "      <td>1.639040e+18</td>\n",
       "      <td>NaN</td>\n",
       "      <td>2023-03-23 23:01:30</td>\n",
       "      <td>2023-03</td>\n",
       "      <td>2023-03-23</td>\n",
       "      <td>0.000023</td>\n",
       "      <td>0.000003</td>\n",
       "      <td>2.029425e-07</td>\n",
       "      <td>0.000004</td>\n",
       "    </tr>\n",
       "    <tr>\n",
       "      <th>3</th>\n",
       "      <td>1639039601623851009</td>\n",
       "      <td>Thu Mar 23 23:01:07 +0000 2023</td>\n",
       "      <td>To celebrate the 13th anniversary of the Affor...</td>\n",
       "      <td>813286</td>\n",
       "      <td>Mon Mar 05 22:08:25 +0000 2007</td>\n",
       "      <td>BarackObama</td>\n",
       "      <td>Barack Obama</td>\n",
       "      <td>133042583</td>\n",
       "      <td>562683</td>\n",
       "      <td>16792</td>\n",
       "      <td>...</td>\n",
       "      <td>442921.0</td>\n",
       "      <td>NaN</td>\n",
       "      <td>NaN</td>\n",
       "      <td>2023-03-23 23:01:07</td>\n",
       "      <td>2023-03</td>\n",
       "      <td>2023-03-23</td>\n",
       "      <td>0.000095</td>\n",
       "      <td>0.000015</td>\n",
       "      <td>1.142491e-06</td>\n",
       "      <td>0.000006</td>\n",
       "    </tr>\n",
       "    <tr>\n",
       "      <th>4</th>\n",
       "      <td>1638956751910215711</td>\n",
       "      <td>Thu Mar 23 17:31:54 +0000 2023</td>\n",
       "      <td>I know so many of you have a story of how acce...</td>\n",
       "      <td>813286</td>\n",
       "      <td>Mon Mar 05 22:08:25 +0000 2007</td>\n",
       "      <td>BarackObama</td>\n",
       "      <td>Barack Obama</td>\n",
       "      <td>133042583</td>\n",
       "      <td>562683</td>\n",
       "      <td>16792</td>\n",
       "      <td>...</td>\n",
       "      <td>NaN</td>\n",
       "      <td>1.638957e+18</td>\n",
       "      <td>NaN</td>\n",
       "      <td>2023-03-23 17:31:54</td>\n",
       "      <td>2023-03</td>\n",
       "      <td>2023-03-23</td>\n",
       "      <td>0.000034</td>\n",
       "      <td>0.000005</td>\n",
       "      <td>2.480409e-07</td>\n",
       "      <td>0.000002</td>\n",
       "    </tr>\n",
       "  </tbody>\n",
       "</table>\n",
       "<p>5 rows × 28 columns</p>\n",
       "</div>"
      ],
      "text/plain": [
       "              tweet_id                   creation_date  \\\n",
       "0  1640814094822383617  Tue Mar 28 20:32:19 +0000 2023   \n",
       "1  1640485381459025920  Mon Mar 27 22:46:08 +0000 2023   \n",
       "2  1639039698675937281  Thu Mar 23 23:01:30 +0000 2023   \n",
       "3  1639039601623851009  Thu Mar 23 23:01:07 +0000 2023   \n",
       "4  1638956751910215711  Thu Mar 23 17:31:54 +0000 2023   \n",
       "\n",
       "                                                text  user_id  \\\n",
       "0  Grateful to all the first responders and volun...   813286   \n",
       "1  We are failing our children. Guns are now the ...   813286   \n",
       "2  I hope their stories inspire you to help us pr...   813286   \n",
       "3  To celebrate the 13th anniversary of the Affor...   813286   \n",
       "4  I know so many of you have a story of how acce...   813286   \n",
       "\n",
       "               user_creation_date     username          name  follower_count  \\\n",
       "0  Mon Mar 05 22:08:25 +0000 2007  BarackObama  Barack Obama       133042583   \n",
       "1  Mon Mar 05 22:08:25 +0000 2007  BarackObama  Barack Obama       133042583   \n",
       "2  Mon Mar 05 22:08:25 +0000 2007  BarackObama  Barack Obama       133042583   \n",
       "3  Mon Mar 05 22:08:25 +0000 2007  BarackObama  Barack Obama       133042583   \n",
       "4  Mon Mar 05 22:08:25 +0000 2007  BarackObama  Barack Obama       133042583   \n",
       "\n",
       "   following_count  number_of_tweets  ...  video_view_count  \\\n",
       "0           562683             16792  ...               NaN   \n",
       "1           562683             16792  ...         2833072.0   \n",
       "2           562683             16792  ...               NaN   \n",
       "3           562683             16792  ...          442921.0   \n",
       "4           562683             16792  ...               NaN   \n",
       "\n",
       "   in_reply_to_status_id quoted_status_id                date  month_year  \\\n",
       "0                    NaN              NaN 2023-03-28 20:32:19     2023-03   \n",
       "1                    NaN              NaN 2023-03-27 22:46:08     2023-03   \n",
       "2           1.639040e+18              NaN 2023-03-23 23:01:30     2023-03   \n",
       "3                    NaN              NaN 2023-03-23 23:01:07     2023-03   \n",
       "4           1.638957e+18              NaN 2023-03-23 17:31:54     2023-03   \n",
       "\n",
       "     date_day  favorite_count_pf  retweet_count_pf  quote_count_pf  \\\n",
       "0  2023-03-28           0.000048          0.000007    2.330081e-07   \n",
       "1  2023-03-27           0.000917          0.000175    1.643835e-05   \n",
       "2  2023-03-23           0.000023          0.000003    2.029425e-07   \n",
       "3  2023-03-23           0.000095          0.000015    1.142491e-06   \n",
       "4  2023-03-23           0.000034          0.000005    2.480409e-07   \n",
       "\n",
       "   reply_count_pf  \n",
       "0        0.000002  \n",
       "1        0.000127  \n",
       "2        0.000004  \n",
       "3        0.000006  \n",
       "4        0.000002  \n",
       "\n",
       "[5 rows x 28 columns]"
      ]
     },
     "execution_count": 2,
     "metadata": {},
     "output_type": "execute_result"
    }
   ],
   "source": [
    "# Import Data\n",
    "import pandas as pd\n",
    "tweets_df = pd.read_csv(r\"C:\\Users\\johna\\anaconda3\\envs\\twitter-influence-env\\twitter-influence\\data\\01_raw\\top_accounts_details.csv\")\n",
    "tweets_df['date'] = pd.to_datetime(tweets_df['creation_date'], format='%a %b %d %H:%M:%S +0000 %Y')\n",
    "tweets_df['month_year'] = tweets_df['date'].apply(lambda x: x.strftime('%Y-%m'))\n",
    "tweets_df['date_day'] = tweets_df['date'].apply(lambda x: x.strftime('%Y-%m-%d'))\n",
    "\n",
    "# calculate per follower metrics \n",
    "tweets_df['favorite_count_pf'] = tweets_df['favorite_count']/ tweets_df['follower_count']\n",
    "tweets_df['retweet_count_pf'] = tweets_df['retweet_count']/ tweets_df['follower_count']\n",
    "tweets_df['quote_count_pf'] = tweets_df['quote_count']/ tweets_df['follower_count']\n",
    "tweets_df['reply_count_pf'] = tweets_df['reply_count']/ tweets_df['follower_count']\n",
    "\n",
    "\n",
    "tweets_df.head()"
   ]
  },
  {
   "cell_type": "code",
   "execution_count": 3,
   "id": "f9151372-11d6-4e34-bbfd-033ab5c90766",
   "metadata": {
    "tags": []
   },
   "outputs": [
    {
     "data": {
      "text/plain": [
       "count            4108\n",
       "unique            399\n",
       "top       BBCBreaking\n",
       "freq              100\n",
       "Name: username, dtype: object"
      ]
     },
     "execution_count": 3,
     "metadata": {},
     "output_type": "execute_result"
    }
   ],
   "source": [
    "tweets_df['username'].describe()"
   ]
  },
  {
   "cell_type": "code",
   "execution_count": 4,
   "id": "7c142a4d-70a9-4a71-b4cc-c174e8daaedd",
   "metadata": {
    "tags": []
   },
   "outputs": [
    {
     "name": "stderr",
     "output_type": "stream",
     "text": [
      "C:\\Users\\johna\\anaconda3\\envs\\twitter-influence-env\\lib\\site-packages\\tqdm\\auto.py:21: TqdmWarning: IProgress not found. Please update jupyter and ipywidgets. See https://ipywidgets.readthedocs.io/en/stable/user_install.html\n",
      "  from .autonotebook import tqdm as notebook_tqdm\n",
      "Some weights of the model checkpoint at cardiffnlp/twitter-roberta-base-sentiment-latest were not used when initializing RobertaForSequenceClassification: ['roberta.pooler.dense.weight', 'roberta.pooler.dense.bias']\n",
      "- This IS expected if you are initializing RobertaForSequenceClassification from the checkpoint of a model trained on another task or with another architecture (e.g. initializing a BertForSequenceClassification model from a BertForPreTraining model).\n",
      "- This IS NOT expected if you are initializing RobertaForSequenceClassification from the checkpoint of a model that you expect to be exactly identical (initializing a BertForSequenceClassification model from a BertForSequenceClassification model).\n"
     ]
    }
   ],
   "source": [
    "from scripts.text_processing.sentiment_analysis import SentimentAnalyzer\n",
    "\n",
    "# sentiment analyser, specify model\n",
    "analyzer = SentimentAnalyzer('cardiffnlp/twitter-roberta-base-sentiment-latest')\n",
    "\n",
    "# Get sentiment analysis\n",
    "tweets_with_sentiment = analyzer.get_sentiment(tweets_df)\n"
   ]
  },
  {
   "cell_type": "code",
   "execution_count": 5,
   "id": "d3fc9e1a-56d5-4f78-aaee-0731dd48b275",
   "metadata": {
    "tags": []
   },
   "outputs": [
    {
     "name": "stderr",
     "output_type": "stream",
     "text": [
      "[nltk_data] Downloading package omw-1.4 to\n",
      "[nltk_data]     C:\\Users\\johna\\AppData\\Roaming\\nltk_data...\n",
      "[nltk_data]   Package omw-1.4 is already up-to-date!\n",
      "C:\\Users\\johna\\anaconda3\\envs\\twitter-influence-env\\lib\\site-packages\\sklearn\\feature_extraction\\text.py:404: UserWarning: Your stop_words may be inconsistent with your preprocessing. Tokenizing the stop words generated tokens ['le'] not in stop_words.\n",
      "  warnings.warn(\n"
     ]
    },
    {
     "data": {
      "text/html": [
       "<div>\n",
       "<style scoped>\n",
       "    .dataframe tbody tr th:only-of-type {\n",
       "        vertical-align: middle;\n",
       "    }\n",
       "\n",
       "    .dataframe tbody tr th {\n",
       "        vertical-align: top;\n",
       "    }\n",
       "\n",
       "    .dataframe thead th {\n",
       "        text-align: right;\n",
       "    }\n",
       "</style>\n",
       "<table border=\"1\" class=\"dataframe\">\n",
       "  <thead>\n",
       "    <tr style=\"text-align: right;\">\n",
       "      <th></th>\n",
       "      <th>tweet_id</th>\n",
       "      <th>creation_date</th>\n",
       "      <th>text</th>\n",
       "      <th>user_id</th>\n",
       "      <th>user_creation_date</th>\n",
       "      <th>username</th>\n",
       "      <th>name</th>\n",
       "      <th>follower_count</th>\n",
       "      <th>following_count</th>\n",
       "      <th>number_of_tweets</th>\n",
       "      <th>...</th>\n",
       "      <th>month_year</th>\n",
       "      <th>date_day</th>\n",
       "      <th>favorite_count_pf</th>\n",
       "      <th>retweet_count_pf</th>\n",
       "      <th>quote_count_pf</th>\n",
       "      <th>reply_count_pf</th>\n",
       "      <th>cleaned_text</th>\n",
       "      <th>sentiment</th>\n",
       "      <th>sentiment_score</th>\n",
       "      <th>topic</th>\n",
       "    </tr>\n",
       "  </thead>\n",
       "  <tbody>\n",
       "    <tr>\n",
       "      <th>0</th>\n",
       "      <td>1640814094822383617</td>\n",
       "      <td>Tue Mar 28 20:32:19 +0000 2023</td>\n",
       "      <td>Grateful to all the first responders and volun...</td>\n",
       "      <td>813286</td>\n",
       "      <td>Mon Mar 05 22:08:25 +0000 2007</td>\n",
       "      <td>BarackObama</td>\n",
       "      <td>Barack Obama</td>\n",
       "      <td>133042583</td>\n",
       "      <td>562683</td>\n",
       "      <td>16792</td>\n",
       "      <td>...</td>\n",
       "      <td>2023-03</td>\n",
       "      <td>2023-03-28</td>\n",
       "      <td>0.000048</td>\n",
       "      <td>0.000007</td>\n",
       "      <td>2.330081e-07</td>\n",
       "      <td>0.000002</td>\n",
       "      <td>Grateful to all the first responders and volun...</td>\n",
       "      <td>positive</td>\n",
       "      <td>0.910717</td>\n",
       "      <td>vote year make family people</td>\n",
       "    </tr>\n",
       "    <tr>\n",
       "      <th>1</th>\n",
       "      <td>1640485381459025920</td>\n",
       "      <td>Mon Mar 27 22:46:08 +0000 2023</td>\n",
       "      <td>We are failing our children. Guns are now the ...</td>\n",
       "      <td>813286</td>\n",
       "      <td>Mon Mar 05 22:08:25 +0000 2007</td>\n",
       "      <td>BarackObama</td>\n",
       "      <td>Barack Obama</td>\n",
       "      <td>133042583</td>\n",
       "      <td>562683</td>\n",
       "      <td>16792</td>\n",
       "      <td>...</td>\n",
       "      <td>2023-03</td>\n",
       "      <td>2023-03-27</td>\n",
       "      <td>0.000917</td>\n",
       "      <td>0.000175</td>\n",
       "      <td>1.643835e-05</td>\n",
       "      <td>0.000127</td>\n",
       "      <td>We are failing our children. Guns are now the ...</td>\n",
       "      <td>negative</td>\n",
       "      <td>0.916740</td>\n",
       "      <td>vote year make family people</td>\n",
       "    </tr>\n",
       "    <tr>\n",
       "      <th>2</th>\n",
       "      <td>1639039698675937281</td>\n",
       "      <td>Thu Mar 23 23:01:30 +0000 2023</td>\n",
       "      <td>I hope their stories inspire you to help us pr...</td>\n",
       "      <td>813286</td>\n",
       "      <td>Mon Mar 05 22:08:25 +0000 2007</td>\n",
       "      <td>BarackObama</td>\n",
       "      <td>Barack Obama</td>\n",
       "      <td>133042583</td>\n",
       "      <td>562683</td>\n",
       "      <td>16792</td>\n",
       "      <td>...</td>\n",
       "      <td>2023-03</td>\n",
       "      <td>2023-03-23</td>\n",
       "      <td>0.000023</td>\n",
       "      <td>0.000003</td>\n",
       "      <td>2.029425e-07</td>\n",
       "      <td>0.000004</td>\n",
       "      <td>I hope their stories inspire you to help us pr...</td>\n",
       "      <td>positive</td>\n",
       "      <td>0.904411</td>\n",
       "      <td>vote year make family people</td>\n",
       "    </tr>\n",
       "    <tr>\n",
       "      <th>3</th>\n",
       "      <td>1639039601623851009</td>\n",
       "      <td>Thu Mar 23 23:01:07 +0000 2023</td>\n",
       "      <td>To celebrate the 13th anniversary of the Affor...</td>\n",
       "      <td>813286</td>\n",
       "      <td>Mon Mar 05 22:08:25 +0000 2007</td>\n",
       "      <td>BarackObama</td>\n",
       "      <td>Barack Obama</td>\n",
       "      <td>133042583</td>\n",
       "      <td>562683</td>\n",
       "      <td>16792</td>\n",
       "      <td>...</td>\n",
       "      <td>2023-03</td>\n",
       "      <td>2023-03-23</td>\n",
       "      <td>0.000095</td>\n",
       "      <td>0.000015</td>\n",
       "      <td>1.142491e-06</td>\n",
       "      <td>0.000006</td>\n",
       "      <td>To celebrate the 13th anniversary of the Affor...</td>\n",
       "      <td>positive</td>\n",
       "      <td>0.968127</td>\n",
       "      <td>vote year make family people</td>\n",
       "    </tr>\n",
       "    <tr>\n",
       "      <th>4</th>\n",
       "      <td>1638956751910215711</td>\n",
       "      <td>Thu Mar 23 17:31:54 +0000 2023</td>\n",
       "      <td>I know so many of you have a story of how acce...</td>\n",
       "      <td>813286</td>\n",
       "      <td>Mon Mar 05 22:08:25 +0000 2007</td>\n",
       "      <td>BarackObama</td>\n",
       "      <td>Barack Obama</td>\n",
       "      <td>133042583</td>\n",
       "      <td>562683</td>\n",
       "      <td>16792</td>\n",
       "      <td>...</td>\n",
       "      <td>2023-03</td>\n",
       "      <td>2023-03-23</td>\n",
       "      <td>0.000034</td>\n",
       "      <td>0.000005</td>\n",
       "      <td>2.480409e-07</td>\n",
       "      <td>0.000002</td>\n",
       "      <td>I know so many of you have a story of how acce...</td>\n",
       "      <td>positive</td>\n",
       "      <td>0.904533</td>\n",
       "      <td>vote year make family people</td>\n",
       "    </tr>\n",
       "  </tbody>\n",
       "</table>\n",
       "<p>5 rows × 32 columns</p>\n",
       "</div>"
      ],
      "text/plain": [
       "              tweet_id                   creation_date  \\\n",
       "0  1640814094822383617  Tue Mar 28 20:32:19 +0000 2023   \n",
       "1  1640485381459025920  Mon Mar 27 22:46:08 +0000 2023   \n",
       "2  1639039698675937281  Thu Mar 23 23:01:30 +0000 2023   \n",
       "3  1639039601623851009  Thu Mar 23 23:01:07 +0000 2023   \n",
       "4  1638956751910215711  Thu Mar 23 17:31:54 +0000 2023   \n",
       "\n",
       "                                                text  user_id  \\\n",
       "0  Grateful to all the first responders and volun...   813286   \n",
       "1  We are failing our children. Guns are now the ...   813286   \n",
       "2  I hope their stories inspire you to help us pr...   813286   \n",
       "3  To celebrate the 13th anniversary of the Affor...   813286   \n",
       "4  I know so many of you have a story of how acce...   813286   \n",
       "\n",
       "               user_creation_date     username          name  follower_count  \\\n",
       "0  Mon Mar 05 22:08:25 +0000 2007  BarackObama  Barack Obama       133042583   \n",
       "1  Mon Mar 05 22:08:25 +0000 2007  BarackObama  Barack Obama       133042583   \n",
       "2  Mon Mar 05 22:08:25 +0000 2007  BarackObama  Barack Obama       133042583   \n",
       "3  Mon Mar 05 22:08:25 +0000 2007  BarackObama  Barack Obama       133042583   \n",
       "4  Mon Mar 05 22:08:25 +0000 2007  BarackObama  Barack Obama       133042583   \n",
       "\n",
       "   following_count  number_of_tweets  ...  month_year    date_day  \\\n",
       "0           562683             16792  ...     2023-03  2023-03-28   \n",
       "1           562683             16792  ...     2023-03  2023-03-27   \n",
       "2           562683             16792  ...     2023-03  2023-03-23   \n",
       "3           562683             16792  ...     2023-03  2023-03-23   \n",
       "4           562683             16792  ...     2023-03  2023-03-23   \n",
       "\n",
       "  favorite_count_pf  retweet_count_pf  quote_count_pf  reply_count_pf  \\\n",
       "0          0.000048          0.000007    2.330081e-07        0.000002   \n",
       "1          0.000917          0.000175    1.643835e-05        0.000127   \n",
       "2          0.000023          0.000003    2.029425e-07        0.000004   \n",
       "3          0.000095          0.000015    1.142491e-06        0.000006   \n",
       "4          0.000034          0.000005    2.480409e-07        0.000002   \n",
       "\n",
       "                                        cleaned_text  sentiment  \\\n",
       "0  Grateful to all the first responders and volun...   positive   \n",
       "1  We are failing our children. Guns are now the ...   negative   \n",
       "2  I hope their stories inspire you to help us pr...   positive   \n",
       "3  To celebrate the 13th anniversary of the Affor...   positive   \n",
       "4  I know so many of you have a story of how acce...   positive   \n",
       "\n",
       "   sentiment_score                         topic  \n",
       "0         0.910717  vote year make family people  \n",
       "1         0.916740  vote year make family people  \n",
       "2         0.904411  vote year make family people  \n",
       "3         0.968127  vote year make family people  \n",
       "4         0.904533  vote year make family people  \n",
       "\n",
       "[5 rows x 32 columns]"
      ]
     },
     "execution_count": 5,
     "metadata": {},
     "output_type": "execute_result"
    }
   ],
   "source": [
    "# Get topics \n",
    "from scripts.topics.tfidf import ClusterBasedTFIDF\n",
    "\n",
    "tfidf_processor = ClusterBasedTFIDF(text_col='text', cluster_col='user_id', n_topics=1, n_words=5)\n",
    "tweets_with_topics = tfidf_processor.fit_transform(tweets_with_sentiment)\n",
    "tweets_with_topics.head()"
   ]
  },
  {
   "cell_type": "code",
   "execution_count": 9,
   "id": "059c9917-d4a8-4951-9f30-1d8944992614",
   "metadata": {
    "tags": []
   },
   "outputs": [],
   "source": [
    "tweets_with_sentiment['sentiment_mode'] = tweets_with_sentiment['sentiment']\n",
    "\n",
    "influence_metrics = tweets_with_sentiment.groupby('user_id').agg(\n",
    "    {\n",
    "        'name': [lambda x: x.mode().iloc[0] if not x.mode().empty else None],\n",
    "        'favorite_count_pf': ['mean'],\n",
    "        'retweet_count_pf': ['mean'],\n",
    "        'quote_count_pf': ['mean'],\n",
    "        'reply_count_pf': ['mean'],\n",
    "        'tweet_id': ['count'],\n",
    "        'sentiment': [lambda x: round(x.value_counts(normalize=True), 2).to_dict()], \n",
    "        'sentiment_mode': [lambda x: x.mode().iloc[0] if not x.mode().empty else None],\n",
    "        'follower_count': ['mean'],\n",
    "        'date_day': [lambda x: x.nunique()]\n",
    "\n",
    "\n",
    "\n",
    "    }\n",
    ")\n",
    "\n",
    "# Calculate the average daily tweets\n",
    "influence_metrics['avg_daily_tweets'] = influence_metrics[('tweet_id', 'count')] / influence_metrics[('date_day', '<lambda>')]\n",
    "\n",
    "\n",
    "\n",
    "# Flatten the MultiIndex columns\n",
    "influence_metrics.columns = ['_'.join(col).strip() for col in influence_metrics.columns.values]\n",
    "\n",
    "# Reset the index to move the 'username' back to a column\n",
    "influence_metrics.reset_index(inplace=True)\n",
    "influence_metrics_final = influence_metrics.merge(tweets_with_topics[['user_id', 'topic']].drop_duplicates(), on='user_id')\n",
    "\n",
    "influence_metrics_final.rename(columns={'name_<lambda>':'name'}, inplace=True)"
   ]
  },
  {
   "cell_type": "code",
   "execution_count": 7,
   "id": "e600352c-ef72-46fe-981b-3489e172de56",
   "metadata": {
    "tags": []
   },
   "outputs": [],
   "source": [
    "from scripts.clustering.cluster import ClusterAnalysis"
   ]
  },
  {
   "cell_type": "code",
   "execution_count": 18,
   "id": "3de62f9b-9b15-4208-8b78-c578f60e3947",
   "metadata": {
    "tags": []
   },
   "outputs": [
    {
     "data": {
      "application/vnd.plotly.v1+json": {
       "config": {
        "plotlyServerURL": "https://plot.ly"
       },
       "data": [
        {
         "hovertemplate": "<b>%{hovertext}</b><br><br>x=%{x}<br>y=%{y}<br>cluster=%{marker.color}<extra></extra>",
         "hovertext": [
          "CNN Breaking News",
          "CNN",
          "Twitter",
          "The New York Times",
          "Barack Obama",
          "ESPN",
          "BBC Breaking News",
          "YouTube",
          "NASA",
          "Lady Gaga",
          "Real Madrid C.F.",
          "Jimmy Fallon",
          "Ellen DeGeneres",
          "Britney Spears 🌹🚀",
          "Taylor Swift",
          "Narendra Modi",
          "Oprah Winfrey",
          "NBA",
          "Demi Lovato",
          "KATY PERRY",
          "LeBron James",
          "Selena Gomez",
          "Donald J. Trump",
          "Kim Kardashian",
          "SportsCenter",
          "Justin Timberlake",
          "Drizzy",
          "Justin Bieber",
          "Akshay Kumar",
          "Elon Musk",
          "Shakira",
          "Bill Gates",
          "Virat Kohli",
          "Rihanna",
          "jlo",
          "FC Barcelona",
          "Bruno Mars",
          "Shah Rukh Khan",
          "Niall Horan",
          "Salman Khan",
          "Amitabh Bachchan",
          "Cristiano Ronaldo",
          "Neymar Jr",
          "Kylie Jenner",
          "Miley Cyrus",
          "방탄소년단",
          "Premier League",
          "PMO India",
          "UEFA Champions League",
          "BTS_official"
         ],
         "legendgroup": "",
         "marker": {
          "color": [
           0,
           0,
           8,
           0,
           7,
           2,
           0,
           8,
           2,
           6,
           2,
           1,
           0,
           8,
           1,
           1,
           7,
           0,
           5,
           5,
           5,
           3,
           3,
           7,
           2,
           5,
           5,
           4,
           4,
           3,
           3,
           4,
           4,
           8,
           3,
           2,
           6,
           6,
           4,
           4,
           7,
           4,
           1,
           6,
           7,
           3,
           2,
           2,
           2,
           4
          ],
          "coloraxis": "coloraxis",
          "opacity": 0.4,
          "symbol": "circle"
         },
         "mode": "markers",
         "name": "",
         "orientation": "v",
         "showlegend": false,
         "type": "scatter",
         "x": [
          -6.717772006988525,
          -6.807697296142578,
          8.352662086486816,
          -6.789147853851318,
          7.5496907234191895,
          1.5652272701263428,
          -7.208837985992432,
          8.5010404586792,
          1.7068307399749756,
          9.165570259094238,
          1.574915885925293,
          16.490171432495117,
          -7.040349006652832,
          8.196155548095703,
          16.607126235961914,
          16.51369285583496,
          7.352213382720947,
          -7.110373020172119,
          9.195389747619629,
          8.991863250732422,
          8.993850708007812,
          8.429803848266602,
          8.51862907409668,
          7.348756790161133,
          1.5303293466567993,
          9.147144317626953,
          9.091181755065918,
          2.574183940887451,
          2.546428680419922,
          8.365818977355957,
          8.603941917419434,
          2.7301077842712402,
          2.7381463050842285,
          8.260469436645508,
          8.27610969543457,
          1.4649419784545898,
          9.399324417114258,
          9.417906761169434,
          1.7437156438827515,
          1.9553343057632446,
          7.456061363220215,
          1.8813291788101196,
          16.654821395874023,
          9.360833168029785,
          7.584961414337158,
          8.60895824432373,
          1.6799503564834595,
          1.6185297966003418,
          1.5279109477996826,
          2.1489593982696533
         ],
         "xaxis": "x",
         "y": [
          3.8007421493530273,
          3.8909950256347656,
          5.457541465759277,
          3.8722355365753174,
          9.819546699523926,
          1.2612406015396118,
          4.297356605529785,
          5.6060566902160645,
          1.8951666355133057,
          -2.3241636753082275,
          0.5760847330093384,
          -4.002945899963379,
          4.120748996734619,
          5.303040504455566,
          -3.8858072757720947,
          -3.979135751724243,
          9.617302894592285,
          4.193657875061035,
          -3.1841299533843994,
          -3.7497718334198,
          -3.849672317504883,
          -5.086808681488037,
          -4.608792781829834,
          9.61469841003418,
          0.8551636934280396,
          -3.2997324466705322,
          -3.5985631942749023,
          9.335938453674316,
          9.078304290771484,
          -5.108865261077881,
          -4.960943698883057,
          9.065698623657227,
          9.07273006439209,
          5.365205764770508,
          -4.815931797027588,
          0.48933881521224976,
          -2.510183572769165,
          -2.484011650085449,
          9.261686325073242,
          9.06755256652832,
          9.723414421081543,
          9.131925582885742,
          -3.8380086421966553,
          -2.5342276096343994,
          9.857362747192383,
          -4.534230709075928,
          1.695037603378296,
          1.8162415027618408,
          0.6788503527641296,
          9.324699401855469
         ],
         "yaxis": "y"
        }
       ],
       "layout": {
        "autosize": true,
        "coloraxis": {
         "colorbar": {
          "title": {
           "text": "cluster"
          }
         },
         "colorscale": [
          [
           0,
           "#0d0887"
          ],
          [
           0.1111111111111111,
           "#46039f"
          ],
          [
           0.2222222222222222,
           "#7201a8"
          ],
          [
           0.3333333333333333,
           "#9c179e"
          ],
          [
           0.4444444444444444,
           "#bd3786"
          ],
          [
           0.5555555555555556,
           "#d8576b"
          ],
          [
           0.6666666666666666,
           "#ed7953"
          ],
          [
           0.7777777777777778,
           "#fb9f3a"
          ],
          [
           0.8888888888888888,
           "#fdca26"
          ],
          [
           1,
           "#f0f921"
          ]
         ]
        },
        "legend": {
         "tracegroupgap": 0
        },
        "margin": {
         "t": 60
        },
        "template": {
         "data": {
          "bar": [
           {
            "error_x": {
             "color": "#2a3f5f"
            },
            "error_y": {
             "color": "#2a3f5f"
            },
            "marker": {
             "line": {
              "color": "#E5ECF6",
              "width": 0.5
             },
             "pattern": {
              "fillmode": "overlay",
              "size": 10,
              "solidity": 0.2
             }
            },
            "type": "bar"
           }
          ],
          "barpolar": [
           {
            "marker": {
             "line": {
              "color": "#E5ECF6",
              "width": 0.5
             },
             "pattern": {
              "fillmode": "overlay",
              "size": 10,
              "solidity": 0.2
             }
            },
            "type": "barpolar"
           }
          ],
          "carpet": [
           {
            "aaxis": {
             "endlinecolor": "#2a3f5f",
             "gridcolor": "white",
             "linecolor": "white",
             "minorgridcolor": "white",
             "startlinecolor": "#2a3f5f"
            },
            "baxis": {
             "endlinecolor": "#2a3f5f",
             "gridcolor": "white",
             "linecolor": "white",
             "minorgridcolor": "white",
             "startlinecolor": "#2a3f5f"
            },
            "type": "carpet"
           }
          ],
          "choropleth": [
           {
            "colorbar": {
             "outlinewidth": 0,
             "ticks": ""
            },
            "type": "choropleth"
           }
          ],
          "contour": [
           {
            "colorbar": {
             "outlinewidth": 0,
             "ticks": ""
            },
            "colorscale": [
             [
              0,
              "#0d0887"
             ],
             [
              0.1111111111111111,
              "#46039f"
             ],
             [
              0.2222222222222222,
              "#7201a8"
             ],
             [
              0.3333333333333333,
              "#9c179e"
             ],
             [
              0.4444444444444444,
              "#bd3786"
             ],
             [
              0.5555555555555556,
              "#d8576b"
             ],
             [
              0.6666666666666666,
              "#ed7953"
             ],
             [
              0.7777777777777778,
              "#fb9f3a"
             ],
             [
              0.8888888888888888,
              "#fdca26"
             ],
             [
              1,
              "#f0f921"
             ]
            ],
            "type": "contour"
           }
          ],
          "contourcarpet": [
           {
            "colorbar": {
             "outlinewidth": 0,
             "ticks": ""
            },
            "type": "contourcarpet"
           }
          ],
          "heatmap": [
           {
            "colorbar": {
             "outlinewidth": 0,
             "ticks": ""
            },
            "colorscale": [
             [
              0,
              "#0d0887"
             ],
             [
              0.1111111111111111,
              "#46039f"
             ],
             [
              0.2222222222222222,
              "#7201a8"
             ],
             [
              0.3333333333333333,
              "#9c179e"
             ],
             [
              0.4444444444444444,
              "#bd3786"
             ],
             [
              0.5555555555555556,
              "#d8576b"
             ],
             [
              0.6666666666666666,
              "#ed7953"
             ],
             [
              0.7777777777777778,
              "#fb9f3a"
             ],
             [
              0.8888888888888888,
              "#fdca26"
             ],
             [
              1,
              "#f0f921"
             ]
            ],
            "type": "heatmap"
           }
          ],
          "heatmapgl": [
           {
            "colorbar": {
             "outlinewidth": 0,
             "ticks": ""
            },
            "colorscale": [
             [
              0,
              "#0d0887"
             ],
             [
              0.1111111111111111,
              "#46039f"
             ],
             [
              0.2222222222222222,
              "#7201a8"
             ],
             [
              0.3333333333333333,
              "#9c179e"
             ],
             [
              0.4444444444444444,
              "#bd3786"
             ],
             [
              0.5555555555555556,
              "#d8576b"
             ],
             [
              0.6666666666666666,
              "#ed7953"
             ],
             [
              0.7777777777777778,
              "#fb9f3a"
             ],
             [
              0.8888888888888888,
              "#fdca26"
             ],
             [
              1,
              "#f0f921"
             ]
            ],
            "type": "heatmapgl"
           }
          ],
          "histogram": [
           {
            "marker": {
             "pattern": {
              "fillmode": "overlay",
              "size": 10,
              "solidity": 0.2
             }
            },
            "type": "histogram"
           }
          ],
          "histogram2d": [
           {
            "colorbar": {
             "outlinewidth": 0,
             "ticks": ""
            },
            "colorscale": [
             [
              0,
              "#0d0887"
             ],
             [
              0.1111111111111111,
              "#46039f"
             ],
             [
              0.2222222222222222,
              "#7201a8"
             ],
             [
              0.3333333333333333,
              "#9c179e"
             ],
             [
              0.4444444444444444,
              "#bd3786"
             ],
             [
              0.5555555555555556,
              "#d8576b"
             ],
             [
              0.6666666666666666,
              "#ed7953"
             ],
             [
              0.7777777777777778,
              "#fb9f3a"
             ],
             [
              0.8888888888888888,
              "#fdca26"
             ],
             [
              1,
              "#f0f921"
             ]
            ],
            "type": "histogram2d"
           }
          ],
          "histogram2dcontour": [
           {
            "colorbar": {
             "outlinewidth": 0,
             "ticks": ""
            },
            "colorscale": [
             [
              0,
              "#0d0887"
             ],
             [
              0.1111111111111111,
              "#46039f"
             ],
             [
              0.2222222222222222,
              "#7201a8"
             ],
             [
              0.3333333333333333,
              "#9c179e"
             ],
             [
              0.4444444444444444,
              "#bd3786"
             ],
             [
              0.5555555555555556,
              "#d8576b"
             ],
             [
              0.6666666666666666,
              "#ed7953"
             ],
             [
              0.7777777777777778,
              "#fb9f3a"
             ],
             [
              0.8888888888888888,
              "#fdca26"
             ],
             [
              1,
              "#f0f921"
             ]
            ],
            "type": "histogram2dcontour"
           }
          ],
          "mesh3d": [
           {
            "colorbar": {
             "outlinewidth": 0,
             "ticks": ""
            },
            "type": "mesh3d"
           }
          ],
          "parcoords": [
           {
            "line": {
             "colorbar": {
              "outlinewidth": 0,
              "ticks": ""
             }
            },
            "type": "parcoords"
           }
          ],
          "pie": [
           {
            "automargin": true,
            "type": "pie"
           }
          ],
          "scatter": [
           {
            "fillpattern": {
             "fillmode": "overlay",
             "size": 10,
             "solidity": 0.2
            },
            "type": "scatter"
           }
          ],
          "scatter3d": [
           {
            "line": {
             "colorbar": {
              "outlinewidth": 0,
              "ticks": ""
             }
            },
            "marker": {
             "colorbar": {
              "outlinewidth": 0,
              "ticks": ""
             }
            },
            "type": "scatter3d"
           }
          ],
          "scattercarpet": [
           {
            "marker": {
             "colorbar": {
              "outlinewidth": 0,
              "ticks": ""
             }
            },
            "type": "scattercarpet"
           }
          ],
          "scattergeo": [
           {
            "marker": {
             "colorbar": {
              "outlinewidth": 0,
              "ticks": ""
             }
            },
            "type": "scattergeo"
           }
          ],
          "scattergl": [
           {
            "marker": {
             "colorbar": {
              "outlinewidth": 0,
              "ticks": ""
             }
            },
            "type": "scattergl"
           }
          ],
          "scattermapbox": [
           {
            "marker": {
             "colorbar": {
              "outlinewidth": 0,
              "ticks": ""
             }
            },
            "type": "scattermapbox"
           }
          ],
          "scatterpolar": [
           {
            "marker": {
             "colorbar": {
              "outlinewidth": 0,
              "ticks": ""
             }
            },
            "type": "scatterpolar"
           }
          ],
          "scatterpolargl": [
           {
            "marker": {
             "colorbar": {
              "outlinewidth": 0,
              "ticks": ""
             }
            },
            "type": "scatterpolargl"
           }
          ],
          "scatterternary": [
           {
            "marker": {
             "colorbar": {
              "outlinewidth": 0,
              "ticks": ""
             }
            },
            "type": "scatterternary"
           }
          ],
          "surface": [
           {
            "colorbar": {
             "outlinewidth": 0,
             "ticks": ""
            },
            "colorscale": [
             [
              0,
              "#0d0887"
             ],
             [
              0.1111111111111111,
              "#46039f"
             ],
             [
              0.2222222222222222,
              "#7201a8"
             ],
             [
              0.3333333333333333,
              "#9c179e"
             ],
             [
              0.4444444444444444,
              "#bd3786"
             ],
             [
              0.5555555555555556,
              "#d8576b"
             ],
             [
              0.6666666666666666,
              "#ed7953"
             ],
             [
              0.7777777777777778,
              "#fb9f3a"
             ],
             [
              0.8888888888888888,
              "#fdca26"
             ],
             [
              1,
              "#f0f921"
             ]
            ],
            "type": "surface"
           }
          ],
          "table": [
           {
            "cells": {
             "fill": {
              "color": "#EBF0F8"
             },
             "line": {
              "color": "white"
             }
            },
            "header": {
             "fill": {
              "color": "#C8D4E3"
             },
             "line": {
              "color": "white"
             }
            },
            "type": "table"
           }
          ]
         },
         "layout": {
          "annotationdefaults": {
           "arrowcolor": "#2a3f5f",
           "arrowhead": 0,
           "arrowwidth": 1
          },
          "autotypenumbers": "strict",
          "coloraxis": {
           "colorbar": {
            "outlinewidth": 0,
            "ticks": ""
           }
          },
          "colorscale": {
           "diverging": [
            [
             0,
             "#8e0152"
            ],
            [
             0.1,
             "#c51b7d"
            ],
            [
             0.2,
             "#de77ae"
            ],
            [
             0.3,
             "#f1b6da"
            ],
            [
             0.4,
             "#fde0ef"
            ],
            [
             0.5,
             "#f7f7f7"
            ],
            [
             0.6,
             "#e6f5d0"
            ],
            [
             0.7,
             "#b8e186"
            ],
            [
             0.8,
             "#7fbc41"
            ],
            [
             0.9,
             "#4d9221"
            ],
            [
             1,
             "#276419"
            ]
           ],
           "sequential": [
            [
             0,
             "#0d0887"
            ],
            [
             0.1111111111111111,
             "#46039f"
            ],
            [
             0.2222222222222222,
             "#7201a8"
            ],
            [
             0.3333333333333333,
             "#9c179e"
            ],
            [
             0.4444444444444444,
             "#bd3786"
            ],
            [
             0.5555555555555556,
             "#d8576b"
            ],
            [
             0.6666666666666666,
             "#ed7953"
            ],
            [
             0.7777777777777778,
             "#fb9f3a"
            ],
            [
             0.8888888888888888,
             "#fdca26"
            ],
            [
             1,
             "#f0f921"
            ]
           ],
           "sequentialminus": [
            [
             0,
             "#0d0887"
            ],
            [
             0.1111111111111111,
             "#46039f"
            ],
            [
             0.2222222222222222,
             "#7201a8"
            ],
            [
             0.3333333333333333,
             "#9c179e"
            ],
            [
             0.4444444444444444,
             "#bd3786"
            ],
            [
             0.5555555555555556,
             "#d8576b"
            ],
            [
             0.6666666666666666,
             "#ed7953"
            ],
            [
             0.7777777777777778,
             "#fb9f3a"
            ],
            [
             0.8888888888888888,
             "#fdca26"
            ],
            [
             1,
             "#f0f921"
            ]
           ]
          },
          "colorway": [
           "#636efa",
           "#EF553B",
           "#00cc96",
           "#ab63fa",
           "#FFA15A",
           "#19d3f3",
           "#FF6692",
           "#B6E880",
           "#FF97FF",
           "#FECB52"
          ],
          "font": {
           "color": "#2a3f5f"
          },
          "geo": {
           "bgcolor": "white",
           "lakecolor": "white",
           "landcolor": "#E5ECF6",
           "showlakes": true,
           "showland": true,
           "subunitcolor": "white"
          },
          "hoverlabel": {
           "align": "left"
          },
          "hovermode": "closest",
          "mapbox": {
           "style": "light"
          },
          "paper_bgcolor": "white",
          "plot_bgcolor": "#E5ECF6",
          "polar": {
           "angularaxis": {
            "gridcolor": "white",
            "linecolor": "white",
            "ticks": ""
           },
           "bgcolor": "#E5ECF6",
           "radialaxis": {
            "gridcolor": "white",
            "linecolor": "white",
            "ticks": ""
           }
          },
          "scene": {
           "xaxis": {
            "backgroundcolor": "#E5ECF6",
            "gridcolor": "white",
            "gridwidth": 2,
            "linecolor": "white",
            "showbackground": true,
            "ticks": "",
            "zerolinecolor": "white"
           },
           "yaxis": {
            "backgroundcolor": "#E5ECF6",
            "gridcolor": "white",
            "gridwidth": 2,
            "linecolor": "white",
            "showbackground": true,
            "ticks": "",
            "zerolinecolor": "white"
           },
           "zaxis": {
            "backgroundcolor": "#E5ECF6",
            "gridcolor": "white",
            "gridwidth": 2,
            "linecolor": "white",
            "showbackground": true,
            "ticks": "",
            "zerolinecolor": "white"
           }
          },
          "shapedefaults": {
           "line": {
            "color": "#2a3f5f"
           }
          },
          "ternary": {
           "aaxis": {
            "gridcolor": "white",
            "linecolor": "white",
            "ticks": ""
           },
           "baxis": {
            "gridcolor": "white",
            "linecolor": "white",
            "ticks": ""
           },
           "bgcolor": "#E5ECF6",
           "caxis": {
            "gridcolor": "white",
            "linecolor": "white",
            "ticks": ""
           }
          },
          "title": {
           "x": 0.05
          },
          "xaxis": {
           "automargin": true,
           "gridcolor": "white",
           "linecolor": "white",
           "ticks": "",
           "title": {
            "standoff": 15
           },
           "zerolinecolor": "white",
           "zerolinewidth": 2
          },
          "yaxis": {
           "automargin": true,
           "gridcolor": "white",
           "linecolor": "white",
           "ticks": "",
           "title": {
            "standoff": 15
           },
           "zerolinecolor": "white",
           "zerolinewidth": 2
          }
         }
        },
        "xaxis": {
         "anchor": "y",
         "autorange": true,
         "domain": [
          0,
          1
         ],
         "range": [
          -8.657125385323205,
          18.103108795204797
         ],
         "title": {
          "text": "x"
         },
         "type": "linear"
        },
        "yaxis": {
         "anchor": "x",
         "autorange": true,
         "domain": [
          0,
          1
         ],
         "range": [
          -6.267667692164424,
          11.016165178278925
         ],
         "title": {
          "text": "y"
         },
         "type": "linear"
        }
       }
      },
      "image/png": "[encoded data removed]",
      "text/html": [
       "<div>                            <div id=\"757062b0-c566-4c0d-b631-6ad9d9ba6586\" class=\"plotly-graph-div\" style=\"height:525px; width:100%;\"></div>            <script type=\"text/javascript\">                require([\"plotly\"], function(Plotly) {                    window.PLOTLYENV=window.PLOTLYENV || {};                                    if (document.getElementById(\"757062b0-c566-4c0d-b631-6ad9d9ba6586\")) {                    Plotly.newPlot(                        \"757062b0-c566-4c0d-b631-6ad9d9ba6586\",                        [{\"hovertemplate\":\"<b>%{hovertext}</b><br><br>x=%{x}<br>y=%{y}<br>cluster=%{marker.color}<extra></extra>\",\"hovertext\":[\"CNN Breaking News\",\"CNN\",\"Twitter\",\"The New York Times\",\"Barack Obama\",\"ESPN\",\"BBC Breaking News\",\"YouTube\",\"NASA\",\"Lady Gaga\",\"Real Madrid C.F.\",\"Jimmy Fallon\",\"Ellen DeGeneres\",\"Britney Spears \\ud83c\\udf39\\ud83d\\ude80\",\"Taylor Swift\",\"Narendra Modi\",\"Oprah Winfrey\",\"NBA\",\"Demi Lovato\",\"KATY PERRY\",\"LeBron James\",\"Selena Gomez\",\"Donald J. Trump\",\"Kim Kardashian\",\"SportsCenter\",\"Justin Timberlake\",\"Drizzy\",\"Justin Bieber\",\"Akshay Kumar\",\"Elon Musk\",\"Shakira\",\"Bill Gates\",\"Virat Kohli\",\"Rihanna\",\"jlo\",\"FC Barcelona\",\"Bruno Mars\",\"Shah Rukh Khan\",\"Niall Horan\",\"Salman Khan\",\"Amitabh Bachchan\",\"Cristiano Ronaldo\",\"Neymar Jr\",\"Kylie Jenner\",\"Miley Cyrus\",\"\\ubc29\\ud0c4\\uc18c\\ub144\\ub2e8\",\"Premier League\",\"PMO India\",\"UEFA Champions League\",\"BTS_official\"],\"legendgroup\":\"\",\"marker\":{\"color\":[0,0,8,0,7,2,0,8,2,6,2,1,0,8,1,1,7,0,5,5,5,3,3,7,2,5,5,4,4,3,3,4,4,8,3,2,6,6,4,4,7,4,1,6,7,3,2,2,2,4],\"coloraxis\":\"coloraxis\",\"opacity\":0.4,\"symbol\":\"circle\"},\"mode\":\"markers\",\"name\":\"\",\"orientation\":\"v\",\"showlegend\":false,\"x\":[-6.717772006988525,-6.807697296142578,8.352662086486816,-6.789147853851318,7.5496907234191895,1.5652272701263428,-7.208837985992432,8.5010404586792,1.7068307399749756,9.165570259094238,1.574915885925293,16.490171432495117,-7.040349006652832,8.196155548095703,16.607126235961914,16.51369285583496,7.352213382720947,-7.110373020172119,9.195389747619629,8.991863250732422,8.993850708007812,8.429803848266602,8.51862907409668,7.348756790161133,1.5303293466567993,9.147144317626953,9.091181755065918,2.574183940887451,2.546428680419922,8.365818977355957,8.603941917419434,2.7301077842712402,2.7381463050842285,8.260469436645508,8.27610969543457,1.4649419784545898,9.399324417114258,9.417906761169434,1.7437156438827515,1.9553343057632446,7.456061363220215,1.8813291788101196,16.654821395874023,9.360833168029785,7.584961414337158,8.60895824432373,1.6799503564834595,1.6185297966003418,1.5279109477996826,2.1489593982696533],\"xaxis\":\"x\",\"y\":[3.8007421493530273,3.8909950256347656,5.457541465759277,3.8722355365753174,9.819546699523926,1.2612406015396118,4.297356605529785,5.6060566902160645,1.8951666355133057,-2.3241636753082275,0.5760847330093384,-4.002945899963379,4.120748996734619,5.303040504455566,-3.8858072757720947,-3.979135751724243,9.617302894592285,4.193657875061035,-3.1841299533843994,-3.7497718334198,-3.849672317504883,-5.086808681488037,-4.608792781829834,9.61469841003418,0.8551636934280396,-3.2997324466705322,-3.5985631942749023,9.335938453674316,9.078304290771484,-5.108865261077881,-4.960943698883057,9.065698623657227,9.07273006439209,5.365205764770508,-4.815931797027588,0.48933881521224976,-2.510183572769165,-2.484011650085449,9.261686325073242,9.06755256652832,9.723414421081543,9.131925582885742,-3.8380086421966553,-2.5342276096343994,9.857362747192383,-4.534230709075928,1.695037603378296,1.8162415027618408,0.6788503527641296,9.324699401855469],\"yaxis\":\"y\",\"type\":\"scatter\"}],                        {\"template\":{\"data\":{\"histogram2dcontour\":[{\"type\":\"histogram2dcontour\",\"colorbar\":{\"outlinewidth\":0,\"ticks\":\"\"},\"colorscale\":[[0.0,\"#0d0887\"],[0.1111111111111111,\"#46039f\"],[0.2222222222222222,\"#7201a8\"],[0.3333333333333333,\"#9c179e\"],[0.4444444444444444,\"#bd3786\"],[0.5555555555555556,\"#d8576b\"],[0.6666666666666666,\"#ed7953\"],[0.7777777777777778,\"#fb9f3a\"],[0.8888888888888888,\"#fdca26\"],[1.0,\"#f0f921\"]]}],\"choropleth\":[{\"type\":\"choropleth\",\"colorbar\":{\"outlinewidth\":0,\"ticks\":\"\"}}],\"histogram2d\":[{\"type\":\"histogram2d\",\"colorbar\":{\"outlinewidth\":0,\"ticks\":\"\"},\"colorscale\":[[0.0,\"#0d0887\"],[0.1111111111111111,\"#46039f\"],[0.2222222222222222,\"#7201a8\"],[0.3333333333333333,\"#9c179e\"],[0.4444444444444444,\"#bd3786\"],[0.5555555555555556,\"#d8576b\"],[0.6666666666666666,\"#ed7953\"],[0.7777777777777778,\"#fb9f3a\"],[0.8888888888888888,\"#fdca26\"],[1.0,\"#f0f921\"]]}],\"heatmap\":[{\"type\":\"heatmap\",\"colorbar\":{\"outlinewidth\":0,\"ticks\":\"\"},\"colorscale\":[[0.0,\"#0d0887\"],[0.1111111111111111,\"#46039f\"],[0.2222222222222222,\"#7201a8\"],[0.3333333333333333,\"#9c179e\"],[0.4444444444444444,\"#bd3786\"],[0.5555555555555556,\"#d8576b\"],[0.6666666666666666,\"#ed7953\"],[0.7777777777777778,\"#fb9f3a\"],[0.8888888888888888,\"#fdca26\"],[1.0,\"#f0f921\"]]}],\"heatmapgl\":[{\"type\":\"heatmapgl\",\"colorbar\":{\"outlinewidth\":0,\"ticks\":\"\"},\"colorscale\":[[0.0,\"#0d0887\"],[0.1111111111111111,\"#46039f\"],[0.2222222222222222,\"#7201a8\"],[0.3333333333333333,\"#9c179e\"],[0.4444444444444444,\"#bd3786\"],[0.5555555555555556,\"#d8576b\"],[0.6666666666666666,\"#ed7953\"],[0.7777777777777778,\"#fb9f3a\"],[0.8888888888888888,\"#fdca26\"],[1.0,\"#f0f921\"]]}],\"contourcarpet\":[{\"type\":\"contourcarpet\",\"colorbar\":{\"outlinewidth\":0,\"ticks\":\"\"}}],\"contour\":[{\"type\":\"contour\",\"colorbar\":{\"outlinewidth\":0,\"ticks\":\"\"},\"colorscale\":[[0.0,\"#0d0887\"],[0.1111111111111111,\"#46039f\"],[0.2222222222222222,\"#7201a8\"],[0.3333333333333333,\"#9c179e\"],[0.4444444444444444,\"#bd3786\"],[0.5555555555555556,\"#d8576b\"],[0.6666666666666666,\"#ed7953\"],[0.7777777777777778,\"#fb9f3a\"],[0.8888888888888888,\"#fdca26\"],[1.0,\"#f0f921\"]]}],\"surface\":[{\"type\":\"surface\",\"colorbar\":{\"outlinewidth\":0,\"ticks\":\"\"},\"colorscale\":[[0.0,\"#0d0887\"],[0.1111111111111111,\"#46039f\"],[0.2222222222222222,\"#7201a8\"],[0.3333333333333333,\"#9c179e\"],[0.4444444444444444,\"#bd3786\"],[0.5555555555555556,\"#d8576b\"],[0.6666666666666666,\"#ed7953\"],[0.7777777777777778,\"#fb9f3a\"],[0.8888888888888888,\"#fdca26\"],[1.0,\"#f0f921\"]]}],\"mesh3d\":[{\"type\":\"mesh3d\",\"colorbar\":{\"outlinewidth\":0,\"ticks\":\"\"}}],\"scatter\":[{\"fillpattern\":{\"fillmode\":\"overlay\",\"size\":10,\"solidity\":0.2},\"type\":\"scatter\"}],\"parcoords\":[{\"type\":\"parcoords\",\"line\":{\"colorbar\":{\"outlinewidth\":0,\"ticks\":\"\"}}}],\"scatterpolargl\":[{\"type\":\"scatterpolargl\",\"marker\":{\"colorbar\":{\"outlinewidth\":0,\"ticks\":\"\"}}}],\"bar\":[{\"error_x\":{\"color\":\"#2a3f5f\"},\"error_y\":{\"color\":\"#2a3f5f\"},\"marker\":{\"line\":{\"color\":\"#E5ECF6\",\"width\":0.5},\"pattern\":{\"fillmode\":\"overlay\",\"size\":10,\"solidity\":0.2}},\"type\":\"bar\"}],\"scattergeo\":[{\"type\":\"scattergeo\",\"marker\":{\"colorbar\":{\"outlinewidth\":0,\"ticks\":\"\"}}}],\"scatterpolar\":[{\"type\":\"scatterpolar\",\"marker\":{\"colorbar\":{\"outlinewidth\":0,\"ticks\":\"\"}}}],\"histogram\":[{\"marker\":{\"pattern\":{\"fillmode\":\"overlay\",\"size\":10,\"solidity\":0.2}},\"type\":\"histogram\"}],\"scattergl\":[{\"type\":\"scattergl\",\"marker\":{\"colorbar\":{\"outlinewidth\":0,\"ticks\":\"\"}}}],\"scatter3d\":[{\"type\":\"scatter3d\",\"line\":{\"colorbar\":{\"outlinewidth\":0,\"ticks\":\"\"}},\"marker\":{\"colorbar\":{\"outlinewidth\":0,\"ticks\":\"\"}}}],\"scattermapbox\":[{\"type\":\"scattermapbox\",\"marker\":{\"colorbar\":{\"outlinewidth\":0,\"ticks\":\"\"}}}],\"scatterternary\":[{\"type\":\"scatterternary\",\"marker\":{\"colorbar\":{\"outlinewidth\":0,\"ticks\":\"\"}}}],\"scattercarpet\":[{\"type\":\"scattercarpet\",\"marker\":{\"colorbar\":{\"outlinewidth\":0,\"ticks\":\"\"}}}],\"carpet\":[{\"aaxis\":{\"endlinecolor\":\"#2a3f5f\",\"gridcolor\":\"white\",\"linecolor\":\"white\",\"minorgridcolor\":\"white\",\"startlinecolor\":\"#2a3f5f\"},\"baxis\":{\"endlinecolor\":\"#2a3f5f\",\"gridcolor\":\"white\",\"linecolor\":\"white\",\"minorgridcolor\":\"white\",\"startlinecolor\":\"#2a3f5f\"},\"type\":\"carpet\"}],\"table\":[{\"cells\":{\"fill\":{\"color\":\"#EBF0F8\"},\"line\":{\"color\":\"white\"}},\"header\":{\"fill\":{\"color\":\"#C8D4E3\"},\"line\":{\"color\":\"white\"}},\"type\":\"table\"}],\"barpolar\":[{\"marker\":{\"line\":{\"color\":\"#E5ECF6\",\"width\":0.5},\"pattern\":{\"fillmode\":\"overlay\",\"size\":10,\"solidity\":0.2}},\"type\":\"barpolar\"}],\"pie\":[{\"automargin\":true,\"type\":\"pie\"}]},\"layout\":{\"autotypenumbers\":\"strict\",\"colorway\":[\"#636efa\",\"#EF553B\",\"#00cc96\",\"#ab63fa\",\"#FFA15A\",\"#19d3f3\",\"#FF6692\",\"#B6E880\",\"#FF97FF\",\"#FECB52\"],\"font\":{\"color\":\"#2a3f5f\"},\"hovermode\":\"closest\",\"hoverlabel\":{\"align\":\"left\"},\"paper_bgcolor\":\"white\",\"plot_bgcolor\":\"#E5ECF6\",\"polar\":{\"bgcolor\":\"#E5ECF6\",\"angularaxis\":{\"gridcolor\":\"white\",\"linecolor\":\"white\",\"ticks\":\"\"},\"radialaxis\":{\"gridcolor\":\"white\",\"linecolor\":\"white\",\"ticks\":\"\"}},\"ternary\":{\"bgcolor\":\"#E5ECF6\",\"aaxis\":{\"gridcolor\":\"white\",\"linecolor\":\"white\",\"ticks\":\"\"},\"baxis\":{\"gridcolor\":\"white\",\"linecolor\":\"white\",\"ticks\":\"\"},\"caxis\":{\"gridcolor\":\"white\",\"linecolor\":\"white\",\"ticks\":\"\"}},\"coloraxis\":{\"colorbar\":{\"outlinewidth\":0,\"ticks\":\"\"}},\"colorscale\":{\"sequential\":[[0.0,\"#0d0887\"],[0.1111111111111111,\"#46039f\"],[0.2222222222222222,\"#7201a8\"],[0.3333333333333333,\"#9c179e\"],[0.4444444444444444,\"#bd3786\"],[0.5555555555555556,\"#d8576b\"],[0.6666666666666666,\"#ed7953\"],[0.7777777777777778,\"#fb9f3a\"],[0.8888888888888888,\"#fdca26\"],[1.0,\"#f0f921\"]],\"sequentialminus\":[[0.0,\"#0d0887\"],[0.1111111111111111,\"#46039f\"],[0.2222222222222222,\"#7201a8\"],[0.3333333333333333,\"#9c179e\"],[0.4444444444444444,\"#bd3786\"],[0.5555555555555556,\"#d8576b\"],[0.6666666666666666,\"#ed7953\"],[0.7777777777777778,\"#fb9f3a\"],[0.8888888888888888,\"#fdca26\"],[1.0,\"#f0f921\"]],\"diverging\":[[0,\"#8e0152\"],[0.1,\"#c51b7d\"],[0.2,\"#de77ae\"],[0.3,\"#f1b6da\"],[0.4,\"#fde0ef\"],[0.5,\"#f7f7f7\"],[0.6,\"#e6f5d0\"],[0.7,\"#b8e186\"],[0.8,\"#7fbc41\"],[0.9,\"#4d9221\"],[1,\"#276419\"]]},\"xaxis\":{\"gridcolor\":\"white\",\"linecolor\":\"white\",\"ticks\":\"\",\"title\":{\"standoff\":15},\"zerolinecolor\":\"white\",\"automargin\":true,\"zerolinewidth\":2},\"yaxis\":{\"gridcolor\":\"white\",\"linecolor\":\"white\",\"ticks\":\"\",\"title\":{\"standoff\":15},\"zerolinecolor\":\"white\",\"automargin\":true,\"zerolinewidth\":2},\"scene\":{\"xaxis\":{\"backgroundcolor\":\"#E5ECF6\",\"gridcolor\":\"white\",\"linecolor\":\"white\",\"showbackground\":true,\"ticks\":\"\",\"zerolinecolor\":\"white\",\"gridwidth\":2},\"yaxis\":{\"backgroundcolor\":\"#E5ECF6\",\"gridcolor\":\"white\",\"linecolor\":\"white\",\"showbackground\":true,\"ticks\":\"\",\"zerolinecolor\":\"white\",\"gridwidth\":2},\"zaxis\":{\"backgroundcolor\":\"#E5ECF6\",\"gridcolor\":\"white\",\"linecolor\":\"white\",\"showbackground\":true,\"ticks\":\"\",\"zerolinecolor\":\"white\",\"gridwidth\":2}},\"shapedefaults\":{\"line\":{\"color\":\"#2a3f5f\"}},\"annotationdefaults\":{\"arrowcolor\":\"#2a3f5f\",\"arrowhead\":0,\"arrowwidth\":1},\"geo\":{\"bgcolor\":\"white\",\"landcolor\":\"#E5ECF6\",\"subunitcolor\":\"white\",\"showland\":true,\"showlakes\":true,\"lakecolor\":\"white\"},\"title\":{\"x\":0.05},\"mapbox\":{\"style\":\"light\"}}},\"xaxis\":{\"anchor\":\"y\",\"domain\":[0.0,1.0],\"title\":{\"text\":\"x\"}},\"yaxis\":{\"anchor\":\"x\",\"domain\":[0.0,1.0],\"title\":{\"text\":\"y\"}},\"coloraxis\":{\"colorbar\":{\"title\":{\"text\":\"cluster\"}},\"colorscale\":[[0.0,\"#0d0887\"],[0.1111111111111111,\"#46039f\"],[0.2222222222222222,\"#7201a8\"],[0.3333333333333333,\"#9c179e\"],[0.4444444444444444,\"#bd3786\"],[0.5555555555555556,\"#d8576b\"],[0.6666666666666666,\"#ed7953\"],[0.7777777777777778,\"#fb9f3a\"],[0.8888888888888888,\"#fdca26\"],[1.0,\"#f0f921\"]]},\"legend\":{\"tracegroupgap\":0},\"margin\":{\"t\":60}},                        {\"responsive\": true}                    ).then(function(){\n",
       "                            \n",
       "var gd = document.getElementById('757062b0-c566-4c0d-b631-6ad9d9ba6586');\n",
       "var x = new MutationObserver(function (mutations, observer) {{\n",
       "        var display = window.getComputedStyle(gd).display;\n",
       "        if (!display || display === 'none') {{\n",
       "            console.log([gd, 'removed!']);\n",
       "            Plotly.purge(gd);\n",
       "            observer.disconnect();\n",
       "        }}\n",
       "}});\n",
       "\n",
       "// Listen for the removal of the full notebook cells\n",
       "var notebookContainer = gd.closest('#notebook-container');\n",
       "if (notebookContainer) {{\n",
       "    x.observe(notebookContainer, {childList: true});\n",
       "}}\n",
       "\n",
       "// Listen for the clearing of the current output cell\n",
       "var outputEl = gd.closest('.output');\n",
       "if (outputEl) {{\n",
       "    x.observe(outputEl, {childList: true});\n",
       "}}\n",
       "\n",
       "                        })                };                });            </script>        </div>"
      ]
     },
     "metadata": {},
     "output_type": "display_data"
    }
   ],
   "source": [
    "# Create a sample DataFrame\n",
    "df = influence_metrics_final\n",
    "\n",
    "# Run UmapHdbscanBokeh\n",
    "ca = ClusterAnalysis(df, n_neighbors=4, min_cluster_size=3, min_dist=0.001)\n",
    "ca.run()"
   ]
  },
  {
   "cell_type": "code",
   "execution_count": null,
   "id": "b6e37f97-eb08-4857-af69-bed302e61c86",
   "metadata": {},
   "outputs": [],
   "source": []
  }
 ],
 "metadata": {
  "kernelspec": {
   "display_name": "Python 3 (ipykernel)",
   "language": "python",
   "name": "python3"
  },
  "language_info": {
   "codemirror_mode": {
    "name": "ipython",
    "version": 3
   },
   "file_extension": ".py",
   "mimetype": "text/x-python",
   "name": "python",
   "nbconvert_exporter": "python",
   "pygments_lexer": "ipython3",
   "version": "3.10.10"
  }
 },
 "nbformat": 4,
 "nbformat_minor": 5
}
